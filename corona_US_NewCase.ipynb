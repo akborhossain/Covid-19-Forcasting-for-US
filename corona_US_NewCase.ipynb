{
  "nbformat": 4,
  "nbformat_minor": 0,
  "metadata": {
    "kernelspec": {
      "display_name": "Python 3",
      "language": "python",
      "name": "python3"
    },
    "language_info": {
      "codemirror_mode": {
        "name": "ipython",
        "version": 3
      },
      "file_extension": ".py",
      "mimetype": "text/x-python",
      "name": "python",
      "nbconvert_exporter": "python",
      "pygments_lexer": "ipython3",
      "version": "3.6.9"
    },
    "colab": {
      "provenance": [],
      "collapsed_sections": [
        "uviEE9j9Pbgo",
        "OUW7jKjR3lBn",
        "_zYu0ouP3f54",
        "PHtkAuHpXa3O",
        "5M2nxSRnGbPe",
        "g-w5UmOj4IOd",
        "eywpegkK4NtM",
        "pOZ9kfqz4RoV",
        "_wxLwd0a48gP",
        "fki4gj64TYyC",
        "xl6048H3G302",
        "SCEpXkPq4byM",
        "2Xjqs7Za4fBD"
      ]
    },
    "accelerator": "GPU"
  },
  "cells": [
    {
      "cell_type": "markdown",
      "metadata": {
        "id": "U4W9v4K25prG"
      },
      "source": [
        "# **Dataset Load**"
      ]
    },
    {
      "cell_type": "code",
      "metadata": {
        "id": "-MiA_A9hU-nA"
      },
      "source": [
        "import pandas as pd"
      ],
      "execution_count": null,
      "outputs": []
    },
    {
      "cell_type": "code",
      "metadata": {
        "id": "5B4Y8StdU-nB"
      },
      "source": [
        "df=pd.read_csv('india corona data.csv')"
      ],
      "execution_count": null,
      "outputs": []
    },
    {
      "cell_type": "code",
      "metadata": {
        "colab": {
          "base_uri": "https://localhost:8080/",
          "height": 206
        },
        "id": "JM6jPwPLU-nD",
        "outputId": "909f18bd-3c04-43e0-c535-772545e7c18d"
      },
      "source": [
        "df.head()"
      ],
      "execution_count": null,
      "outputs": [
        {
          "output_type": "execute_result",
          "data": {
            "text/html": [
              "<div>\n",
              "<style scoped>\n",
              "    .dataframe tbody tr th:only-of-type {\n",
              "        vertical-align: middle;\n",
              "    }\n",
              "\n",
              "    .dataframe tbody tr th {\n",
              "        vertical-align: top;\n",
              "    }\n",
              "\n",
              "    .dataframe thead th {\n",
              "        text-align: right;\n",
              "    }\n",
              "</style>\n",
              "<table border=\"1\" class=\"dataframe\">\n",
              "  <thead>\n",
              "    <tr style=\"text-align: right;\">\n",
              "      <th></th>\n",
              "      <th>date</th>\n",
              "      <th>new_case</th>\n",
              "      <th>death</th>\n",
              "    </tr>\n",
              "  </thead>\n",
              "  <tbody>\n",
              "    <tr>\n",
              "      <th>0</th>\n",
              "      <td>9/27/2020</td>\n",
              "      <td>88600</td>\n",
              "      <td>1124</td>\n",
              "    </tr>\n",
              "    <tr>\n",
              "      <th>1</th>\n",
              "      <td>9/28/2020</td>\n",
              "      <td>82170</td>\n",
              "      <td>1039</td>\n",
              "    </tr>\n",
              "    <tr>\n",
              "      <th>2</th>\n",
              "      <td>9/29/2020</td>\n",
              "      <td>70589</td>\n",
              "      <td>776</td>\n",
              "    </tr>\n",
              "    <tr>\n",
              "      <th>3</th>\n",
              "      <td>9/30/2020</td>\n",
              "      <td>80472</td>\n",
              "      <td>1179</td>\n",
              "    </tr>\n",
              "    <tr>\n",
              "      <th>4</th>\n",
              "      <td>10/1/2020</td>\n",
              "      <td>86821</td>\n",
              "      <td>1181</td>\n",
              "    </tr>\n",
              "  </tbody>\n",
              "</table>\n",
              "</div>"
            ],
            "text/plain": [
              "        date  new_case  death\n",
              "0  9/27/2020     88600   1124\n",
              "1  9/28/2020     82170   1039\n",
              "2  9/29/2020     70589    776\n",
              "3  9/30/2020     80472   1179\n",
              "4  10/1/2020     86821   1181"
            ]
          },
          "metadata": {},
          "execution_count": 3
        }
      ]
    },
    {
      "cell_type": "code",
      "metadata": {
        "colab": {
          "base_uri": "https://localhost:8080/",
          "height": 206
        },
        "id": "GpgOCTfcU-nI",
        "outputId": "db119bdb-f3bb-4686-c36a-f12071e5529a"
      },
      "source": [
        "df.tail()"
      ],
      "execution_count": null,
      "outputs": [
        {
          "output_type": "execute_result",
          "data": {
            "text/html": [
              "<div>\n",
              "<style scoped>\n",
              "    .dataframe tbody tr th:only-of-type {\n",
              "        vertical-align: middle;\n",
              "    }\n",
              "\n",
              "    .dataframe tbody tr th {\n",
              "        vertical-align: top;\n",
              "    }\n",
              "\n",
              "    .dataframe thead th {\n",
              "        text-align: right;\n",
              "    }\n",
              "</style>\n",
              "<table border=\"1\" class=\"dataframe\">\n",
              "  <thead>\n",
              "    <tr style=\"text-align: right;\">\n",
              "      <th></th>\n",
              "      <th>date</th>\n",
              "      <th>new_case</th>\n",
              "      <th>death</th>\n",
              "    </tr>\n",
              "  </thead>\n",
              "  <tbody>\n",
              "    <tr>\n",
              "      <th>405</th>\n",
              "      <td>11/6/2021</td>\n",
              "      <td>10929</td>\n",
              "      <td>392</td>\n",
              "    </tr>\n",
              "    <tr>\n",
              "      <th>406</th>\n",
              "      <td>11/7/2021</td>\n",
              "      <td>10826</td>\n",
              "      <td>526</td>\n",
              "    </tr>\n",
              "    <tr>\n",
              "      <th>407</th>\n",
              "      <td>11/8/2021</td>\n",
              "      <td>11478</td>\n",
              "      <td>266</td>\n",
              "    </tr>\n",
              "    <tr>\n",
              "      <th>408</th>\n",
              "      <td>11/9/2021</td>\n",
              "      <td>10126</td>\n",
              "      <td>332</td>\n",
              "    </tr>\n",
              "    <tr>\n",
              "      <th>409</th>\n",
              "      <td>11/10/2021</td>\n",
              "      <td>11466</td>\n",
              "      <td>460</td>\n",
              "    </tr>\n",
              "  </tbody>\n",
              "</table>\n",
              "</div>"
            ],
            "text/plain": [
              "           date  new_case  death\n",
              "405   11/6/2021     10929    392\n",
              "406   11/7/2021     10826    526\n",
              "407   11/8/2021     11478    266\n",
              "408   11/9/2021     10126    332\n",
              "409  11/10/2021     11466    460"
            ]
          },
          "metadata": {},
          "execution_count": 4
        }
      ]
    },
    {
      "cell_type": "code",
      "metadata": {
        "id": "ijmwpW1gU-nJ"
      },
      "source": [
        "df1=df.reset_index()['new_case']"
      ],
      "execution_count": null,
      "outputs": []
    },
    {
      "cell_type": "code",
      "metadata": {
        "colab": {
          "base_uri": "https://localhost:8080/"
        },
        "id": "aKoLe-HhU-nL",
        "outputId": "150d8041-65e8-4e0a-cab2-2fab8e1644e7"
      },
      "source": [
        "df1"
      ],
      "execution_count": null,
      "outputs": [
        {
          "output_type": "execute_result",
          "data": {
            "text/plain": [
              "0      88600\n",
              "1      82170\n",
              "2      70589\n",
              "3      80472\n",
              "4      86821\n",
              "       ...  \n",
              "405    10929\n",
              "406    10826\n",
              "407    11478\n",
              "408    10126\n",
              "409    11466\n",
              "Name: new_case, Length: 410, dtype: int64"
            ]
          },
          "metadata": {},
          "execution_count": 6
        }
      ]
    },
    {
      "cell_type": "code",
      "metadata": {
        "colab": {
          "base_uri": "https://localhost:8080/",
          "height": 296
        },
        "id": "pSwnk45GU-nN",
        "outputId": "7a72ea15-8b6d-4123-a371-8234ff8a9f97"
      },
      "source": [
        "import matplotlib.pyplot as plt\n",
        "plt.plot(df1)\n",
        "plt.xlabel('Days')\n",
        "plt.ylabel('Confirmed Cases')"
      ],
      "execution_count": null,
      "outputs": [
        {
          "output_type": "execute_result",
          "data": {
            "text/plain": [
              "Text(0, 0.5, 'Confirmed Cases')"
            ]
          },
          "metadata": {},
          "execution_count": 7
        },
        {
          "output_type": "display_data",
          "data": {
            "image/png": "[encoded data removed]",
            "text/plain": [
              "<Figure size 432x288 with 1 Axes>"
            ]
          },
          "metadata": {
            "needs_background": "light"
          }
        }
      ]
    },
    {
      "cell_type": "markdown",
      "metadata": {
        "id": "zbJn0GUS5evX"
      },
      "source": [
        "# **Data Preprocessing**"
      ]
    },
    {
      "cell_type": "code",
      "metadata": {
        "id": "wMEO68luU-nQ"
      },
      "source": [
        "import numpy as np"
      ],
      "execution_count": null,
      "outputs": []
    },
    {
      "cell_type": "code",
      "metadata": {
        "id": "VWgWE33lU-nS"
      },
      "source": [
        "from sklearn.preprocessing import MinMaxScaler\n",
        "scaler=MinMaxScaler(feature_range=(0,1))\n",
        "df1=scaler.fit_transform(np.array(df1).reshape(-1,1))"
      ],
      "execution_count": null,
      "outputs": []
    },
    {
      "cell_type": "code",
      "metadata": {
        "colab": {
          "base_uri": "https://localhost:8080/"
        },
        "id": "eLO4CR7YU-nS",
        "outputId": "266b43f8-9f81-4fe7-eb8a-ea8b1e50afd1"
      },
      "source": [
        "print(df1)"
      ],
      "execution_count": null,
      "outputs": [
        {
          "output_type": "stream",
          "name": "stdout",
          "text": [
            "[[0.21391252]\n",
            " [0.19838817]\n",
            " [0.17042744]\n",
            " [0.19428858]\n",
            " [0.20961737]\n",
            " [0.19673192]\n",
            " [0.19188388]\n",
            " [0.1830787 ]\n",
            " [0.17972998]\n",
            " [0.14792075]\n",
            " [0.17395241]\n",
            " [0.18958541]\n",
            " [0.1702029 ]\n",
            " [0.17690517]\n",
            " [0.17958753]\n",
            " [0.16111524]\n",
            " [0.13361565]\n",
            " [0.15333375]\n",
            " [0.16347166]\n",
            " [0.15300057]\n",
            " [0.15020232]\n",
            " [0.14937903]\n",
            " [0.13453311]\n",
            " [0.11296802]\n",
            " [0.13048181]\n",
            " [0.13481559]\n",
            " [0.13125923]\n",
            " [0.12885453]\n",
            " [0.12102958]\n",
            " [0.10900364]\n",
            " [0.0880518 ]\n",
            " [0.10597362]\n",
            " [0.12043082]\n",
            " [0.11745391]\n",
            " [0.11653645]\n",
            " [0.11338571]\n",
            " [0.10920403]\n",
            " [0.09249423]\n",
            " [0.11167151]\n",
            " [0.12122514]\n",
            " [0.1150154 ]\n",
            " [0.12157764]\n",
            " [0.1102736 ]\n",
            " [0.11082648]\n",
            " [0.09192203]\n",
            " [0.10691039]\n",
            " [0.11566004]\n",
            " [0.10835418]\n",
            " [0.10788338]\n",
            " [0.0992303 ]\n",
            " [0.07375395]\n",
            " [0.07041006]\n",
            " [0.09323544]\n",
            " [0.11003699]\n",
            " [0.11077578]\n",
            " [0.11162081]\n",
            " [0.10915092]\n",
            " [0.1063744 ]\n",
            " [0.09168542]\n",
            " [0.10713975]\n",
            " [0.10741258]\n",
            " [0.10401557]\n",
            " [0.09976629]\n",
            " [0.1009445 ]\n",
            " [0.09360967]\n",
            " [0.07513013]\n",
            " [0.08837533]\n",
            " [0.085833  ]\n",
            " [0.0883536 ]\n",
            " [0.08849122]\n",
            " [0.08694361]\n",
            " [0.07962809]\n",
            " [0.06414237]\n",
            " [0.07745275]\n",
            " [0.07610312]\n",
            " [0.07091707]\n",
            " [0.07250572]\n",
            " [0.07304412]\n",
            " [0.06535921]\n",
            " [0.05327291]\n",
            " [0.06369571]\n",
            " [0.05796885]\n",
            " [0.05526476]\n",
            " [0.06072605]\n",
            " [0.06427999]\n",
            " [0.05875834]\n",
            " [0.04721527]\n",
            " [0.05782398]\n",
            " [0.05966373]\n",
            " [0.0556921 ]\n",
            " [0.0537751 ]\n",
            " [0.04522584]\n",
            " [0.04833795]\n",
            " [0.03967281]\n",
            " [0.04961274]\n",
            " [0.05268622]\n",
            " [0.04837175]\n",
            " [0.04606362]\n",
            " [0.04388587]\n",
            " [0.03984664]\n",
            " [0.03953519]\n",
            " [0.04367099]\n",
            " [0.04912262]\n",
            " [0.04379412]\n",
            " [0.        ]\n",
            " [0.0890103 ]\n",
            " [0.03938067]\n",
            " [0.03038234]\n",
            " [0.03855254]\n",
            " [0.04091379]\n",
            " [0.03763991]\n",
            " [0.03659691]\n",
            " [0.03656311]\n",
            " [0.03328923]\n",
            " [0.02426434]\n",
            " [0.03335683]\n",
            " [0.03680454]\n",
            " [0.0351169 ]\n",
            " [0.03441915]\n",
            " [0.03585087]\n",
            " [0.03187683]\n",
            " [0.02197553]\n",
            " [0.03063585]\n",
            " [0.02816595]\n",
            " [0.04552281]\n",
            " [0.03158469]\n",
            " [0.03149295]\n",
            " [0.02761065]\n",
            " [0.02084802]\n",
            " [0.02665215]\n",
            " [0.03114286]\n",
            " [0.02995741]\n",
            " [0.02827943]\n",
            " [0.0291148 ]\n",
            " [0.02856432]\n",
            " [0.02199484]\n",
            " [0.02671975]\n",
            " [0.03120081]\n",
            " [0.0224753 ]\n",
            " [0.0293176 ]\n",
            " [0.02944074]\n",
            " [0.02812491]\n",
            " [0.0220214 ]\n",
            " [0.02803075]\n",
            " [0.0310994 ]\n",
            " [0.03185269]\n",
            " [0.03378418]\n",
            " [0.03443847]\n",
            " [0.03428153]\n",
            " [0.02555361]\n",
            " [0.03317817]\n",
            " [0.0404116 ]\n",
            " [0.04002289]\n",
            " [0.03980801]\n",
            " [0.0404454 ]\n",
            " [0.03744676]\n",
            " [0.02966286]\n",
            " [0.03618888]\n",
            " [0.04202681]\n",
            " [0.04065304]\n",
            " [0.04414421]\n",
            " [0.04527896]\n",
            " [0.04490473]\n",
            " [0.03715221]\n",
            " [0.04326779]\n",
            " [0.05517784]\n",
            " [0.05621843]\n",
            " [0.06007417]\n",
            " [0.06113166]\n",
            " [0.06347601]\n",
            " [0.05913257]\n",
            " [0.06978232]\n",
            " [0.0866056 ]\n",
            " [0.09591297]\n",
            " [0.09887539]\n",
            " [0.10586014]\n",
            " [0.11335674]\n",
            " [0.09830077]\n",
            " [0.1141076 ]\n",
            " [0.12911045]\n",
            " [0.14273229]\n",
            " [0.15031338]\n",
            " [0.15141433]\n",
            " [0.16422494]\n",
            " [0.13571373]\n",
            " [0.12912011]\n",
            " [0.17463084]\n",
            " [0.19668846]\n",
            " [0.21518972]\n",
            " [0.22513689]\n",
            " [0.25002656]\n",
            " [0.23414971]\n",
            " [0.27942867]\n",
            " [0.30611461]\n",
            " [0.3186186 ]\n",
            " [0.35100969]\n",
            " [0.36910533]\n",
            " [0.40781481]\n",
            " [0.39048934]\n",
            " [0.44514085]\n",
            " [0.48465673]\n",
            " [0.52476895]\n",
            " [0.56663158]\n",
            " [0.63109989]\n",
            " [0.6610573 ]\n",
            " [0.6257231 ]\n",
            " [0.71261842]\n",
            " [0.75966469]\n",
            " [0.803792  ]\n",
            " [0.83726713]\n",
            " [0.84428086]\n",
            " [0.85224825]\n",
            " [0.77989464]\n",
            " [0.87140864]\n",
            " [0.91578703]\n",
            " [0.93328392]\n",
            " [0.97055685]\n",
            " [0.94760833]\n",
            " [0.88863028]\n",
            " [0.86269037]\n",
            " [0.92263899]\n",
            " [0.99575796]\n",
            " [1.        ]\n",
            " [0.96834771]\n",
            " [0.97396593]\n",
            " [0.88484939]\n",
            " [0.79659961]\n",
            " [0.84121462]\n",
            " [0.87575449]\n",
            " [0.82847403]\n",
            " [0.7873188 ]\n",
            " [0.7512772 ]\n",
            " [0.67936782]\n",
            " [0.63626421]\n",
            " [0.6454412 ]\n",
            " [0.66662965]\n",
            " [0.62665022]\n",
            " [0.62121307]\n",
            " [0.58147991]\n",
            " [0.53674901]\n",
            " [0.47424599]\n",
            " [0.50441104]\n",
            " [0.51014998]\n",
            " [0.44995026]\n",
            " [0.41959207]\n",
            " [0.39970496]\n",
            " [0.36875525]\n",
            " [0.30785537]\n",
            " [0.32059838]\n",
            " [0.32389639]\n",
            " [0.31957469]\n",
            " [0.2910007 ]\n",
            " [0.27634794]\n",
            " [0.24297179]\n",
            " [0.20883753]\n",
            " [0.22356032]\n",
            " [0.22565357]\n",
            " [0.22282394]\n",
            " [0.20360802]\n",
            " [0.19516258]\n",
            " [0.17002183]\n",
            " [0.14599892]\n",
            " [0.1502313 ]\n",
            " [0.16226448]\n",
            " [0.15084937]\n",
            " [0.14667977]\n",
            " [0.14057867]\n",
            " [0.12904526]\n",
            " [0.10294842]\n",
            " [0.12276551]\n",
            " [0.13054217]\n",
            " [0.12474287]\n",
            " [0.11757463]\n",
            " [0.1208147 ]\n",
            " [0.111418  ]\n",
            " [0.09069794]\n",
            " [0.11094237]\n",
            " [0.11778709]\n",
            " [0.11255034]\n",
            " [0.10649995]\n",
            " [0.10398901]\n",
            " [0.09608197]\n",
            " [0.08378562]\n",
            " [0.10558732]\n",
            " [0.11079993]\n",
            " [0.10476643]\n",
            " [0.10325263]\n",
            " [0.10021053]\n",
            " [0.08970323]\n",
            " [0.07944701]\n",
            " [0.0938342 ]\n",
            " [0.10075859]\n",
            " [0.09403701]\n",
            " [0.09193651]\n",
            " [0.09936792]\n",
            " [0.09214173]\n",
            " [0.07265541]\n",
            " [0.10143944]\n",
            " [0.09991357]\n",
            " [0.0853284 ]\n",
            " [0.        ]\n",
            " [0.19034593]\n",
            " [0.09503172]\n",
            " [0.07168001]\n",
            " [0.10539658]\n",
            " [0.1050465 ]\n",
            " [0.10678726]\n",
            " [0.10055579]\n",
            " [0.1009952 ]\n",
            " [0.09689803]\n",
            " [0.07375636]\n",
            " [0.1029122 ]\n",
            " [0.10377413]\n",
            " [0.10778439]\n",
            " [0.093262  ]\n",
            " [0.09432915]\n",
            " [0.08570746]\n",
            " [0.06809468]\n",
            " [0.09259805]\n",
            " [0.09945967]\n",
            " [0.09686423]\n",
            " [0.09335616]\n",
            " [0.08711744]\n",
            " [0.07952186]\n",
            " [0.06075985]\n",
            " [0.08493245]\n",
            " [0.08788521]\n",
            " [0.08829565]\n",
            " [0.08319169]\n",
            " [0.07471969]\n",
            " [0.0605329 ]\n",
            " [0.06148657]\n",
            " [0.09076313]\n",
            " [0.11145663]\n",
            " [0.1078206 ]\n",
            " [0.11289318]\n",
            " [0.10884671]\n",
            " [0.10359788]\n",
            " [0.07470279]\n",
            " [0.10131872]\n",
            " [0.11369716]\n",
            " [0.10949617]\n",
            " [0.1028953 ]\n",
            " [0.10325263]\n",
            " [0.09403459]\n",
            " [0.07538123]\n",
            " [0.09144398]\n",
            " [0.10445257]\n",
            " [0.0844375 ]\n",
            " [0.08058176]\n",
            " [0.06902904]\n",
            " [0.06580104]\n",
            " [0.06133447]\n",
            " [0.06561272]\n",
            " [0.07380706]\n",
            " [0.08306132]\n",
            " [0.086101  ]\n",
            " [0.07429718]\n",
            " [0.07304895]\n",
            " [0.06305108]\n",
            " [0.06510087]\n",
            " [0.0770737 ]\n",
            " [0.07576753]\n",
            " [0.07150376]\n",
            " [0.06838923]\n",
            " [0.06287242]\n",
            " [0.04537794]\n",
            " [0.04555902]\n",
            " [0.05680754]\n",
            " [0.06452867]\n",
            " [0.05879939]\n",
            " [0.05514887]\n",
            " [0.05021633]\n",
            " [0.0442939 ]\n",
            " [0.04546969]\n",
            " [0.05415657]\n",
            " [0.0513221 ]\n",
            " [0.04765952]\n",
            " [0.04385931]\n",
            " [0.04377722]\n",
            " [0.03455677]\n",
            " [0.03820246]\n",
            " [0.0458415 ]\n",
            " [0.04071098]\n",
            " [0.03858393]\n",
            " [0.03415357]\n",
            " [0.03282567]\n",
            " [0.03152675]\n",
            " [0.03530522]\n",
            " [0.04455465]\n",
            " [0.03811313]\n",
            " [0.03941688]\n",
            " [0.03840285]\n",
            " [0.03453987]\n",
            " [0.0300057 ]\n",
            " [0.03247559]\n",
            " [0.03900644]\n",
            " [0.03464127]\n",
            " [0.03455677]\n",
            " [0.03097627]\n",
            " [0.03021333]\n",
            " [0.0251649 ]\n",
            " [0.02873816]\n",
            " [0.03110906]\n",
            " [0.03073242]\n",
            " [0.02638657]\n",
            " [0.02613789]\n",
            " [0.02771205]\n",
            " [0.02444784]\n",
            " [0.02768308]]\n"
          ]
        }
      ]
    },
    {
      "cell_type": "code",
      "metadata": {
        "colab": {
          "base_uri": "https://localhost:8080/",
          "height": 296
        },
        "id": "CqS6SfPMeaWa",
        "outputId": "80faf2ec-db89-421e-fa27-c9b487524d5a"
      },
      "source": [
        "import matplotlib.pyplot as plt\n",
        "plt.plot(df1)\n",
        "plt.xlabel('Days')\n",
        "plt.ylabel('Confirmed Cases')"
      ],
      "execution_count": null,
      "outputs": [
        {
          "output_type": "execute_result",
          "data": {
            "text/plain": [
              "Text(0, 0.5, 'Confirmed Cases')"
            ]
          },
          "metadata": {},
          "execution_count": 11
        },
        {
          "output_type": "display_data",
          "data": {
            "image/png": "[encoded data removed]",
            "text/plain": [
              "<Figure size 432x288 with 1 Axes>"
            ]
          },
          "metadata": {
            "needs_background": "light"
          }
        }
      ]
    },
    {
      "cell_type": "code",
      "metadata": {
        "id": "-SNmx9gDU-nT"
      },
      "source": [
        "##splitting dataset into train and test split\n",
        "training_size=int(len(df1)*0.65)\n",
        "test_size=len(df1)-training_size\n",
        "train_data,test_data=df1[0:training_size,:],df1[training_size:len(df1),:1]"
      ],
      "execution_count": null,
      "outputs": []
    },
    {
      "cell_type": "code",
      "metadata": {
        "colab": {
          "base_uri": "https://localhost:8080/"
        },
        "id": "NPlqp4q1U-nV",
        "outputId": "b073cf9f-2b97-4362-be60-85347cd8ee28"
      },
      "source": [
        "training_size,test_size"
      ],
      "execution_count": null,
      "outputs": [
        {
          "output_type": "execute_result",
          "data": {
            "text/plain": [
              "(266, 144)"
            ]
          },
          "metadata": {},
          "execution_count": 13
        }
      ]
    },
    {
      "cell_type": "code",
      "metadata": {
        "colab": {
          "base_uri": "https://localhost:8080/"
        },
        "id": "nkBYTyeJU-nW",
        "outputId": "1c43fbb1-9e6b-453f-d31a-28da4e028c24"
      },
      "source": [
        "train_data"
      ],
      "execution_count": null,
      "outputs": [
        {
          "output_type": "execute_result",
          "data": {
            "text/plain": [
              "array([[0.21391252],\n",
              "       [0.19838817],\n",
              "       [0.17042744],\n",
              "       [0.19428858],\n",
              "       [0.20961737],\n",
              "       [0.19673192],\n",
              "       [0.19188388],\n",
              "       [0.1830787 ],\n",
              "       [0.17972998],\n",
              "       [0.14792075],\n",
              "       [0.17395241],\n",
              "       [0.18958541],\n",
              "       [0.1702029 ],\n",
              "       [0.17690517],\n",
              "       [0.17958753],\n",
              "       [0.16111524],\n",
              "       [0.13361565],\n",
              "       [0.15333375],\n",
              "       [0.16347166],\n",
              "       [0.15300057],\n",
              "       [0.15020232],\n",
              "       [0.14937903],\n",
              "       [0.13453311],\n",
              "       [0.11296802],\n",
              "       [0.13048181],\n",
              "       [0.13481559],\n",
              "       [0.13125923],\n",
              "       [0.12885453],\n",
              "       [0.12102958],\n",
              "       [0.10900364],\n",
              "       [0.0880518 ],\n",
              "       [0.10597362],\n",
              "       [0.12043082],\n",
              "       [0.11745391],\n",
              "       [0.11653645],\n",
              "       [0.11338571],\n",
              "       [0.10920403],\n",
              "       [0.09249423],\n",
              "       [0.11167151],\n",
              "       [0.12122514],\n",
              "       [0.1150154 ],\n",
              "       [0.12157764],\n",
              "       [0.1102736 ],\n",
              "       [0.11082648],\n",
              "       [0.09192203],\n",
              "       [0.10691039],\n",
              "       [0.11566004],\n",
              "       [0.10835418],\n",
              "       [0.10788338],\n",
              "       [0.0992303 ],\n",
              "       [0.07375395],\n",
              "       [0.07041006],\n",
              "       [0.09323544],\n",
              "       [0.11003699],\n",
              "       [0.11077578],\n",
              "       [0.11162081],\n",
              "       [0.10915092],\n",
              "       [0.1063744 ],\n",
              "       [0.09168542],\n",
              "       [0.10713975],\n",
              "       [0.10741258],\n",
              "       [0.10401557],\n",
              "       [0.09976629],\n",
              "       [0.1009445 ],\n",
              "       [0.09360967],\n",
              "       [0.07513013],\n",
              "       [0.08837533],\n",
              "       [0.085833  ],\n",
              "       [0.0883536 ],\n",
              "       [0.08849122],\n",
              "       [0.08694361],\n",
              "       [0.07962809],\n",
              "       [0.06414237],\n",
              "       [0.07745275],\n",
              "       [0.07610312],\n",
              "       [0.07091707],\n",
              "       [0.07250572],\n",
              "       [0.07304412],\n",
              "       [0.06535921],\n",
              "       [0.05327291],\n",
              "       [0.06369571],\n",
              "       [0.05796885],\n",
              "       [0.05526476],\n",
              "       [0.06072605],\n",
              "       [0.06427999],\n",
              "       [0.05875834],\n",
              "       [0.04721527],\n",
              "       [0.05782398],\n",
              "       [0.05966373],\n",
              "       [0.0556921 ],\n",
              "       [0.0537751 ],\n",
              "       [0.04522584],\n",
              "       [0.04833795],\n",
              "       [0.03967281],\n",
              "       [0.04961274],\n",
              "       [0.05268622],\n",
              "       [0.04837175],\n",
              "       [0.04606362],\n",
              "       [0.04388587],\n",
              "       [0.03984664],\n",
              "       [0.03953519],\n",
              "       [0.04367099],\n",
              "       [0.04912262],\n",
              "       [0.04379412],\n",
              "       [0.        ],\n",
              "       [0.0890103 ],\n",
              "       [0.03938067],\n",
              "       [0.03038234],\n",
              "       [0.03855254],\n",
              "       [0.04091379],\n",
              "       [0.03763991],\n",
              "       [0.03659691],\n",
              "       [0.03656311],\n",
              "       [0.03328923],\n",
              "       [0.02426434],\n",
              "       [0.03335683],\n",
              "       [0.03680454],\n",
              "       [0.0351169 ],\n",
              "       [0.03441915],\n",
              "       [0.03585087],\n",
              "       [0.03187683],\n",
              "       [0.02197553],\n",
              "       [0.03063585],\n",
              "       [0.02816595],\n",
              "       [0.04552281],\n",
              "       [0.03158469],\n",
              "       [0.03149295],\n",
              "       [0.02761065],\n",
              "       [0.02084802],\n",
              "       [0.02665215],\n",
              "       [0.03114286],\n",
              "       [0.02995741],\n",
              "       [0.02827943],\n",
              "       [0.0291148 ],\n",
              "       [0.02856432],\n",
              "       [0.02199484],\n",
              "       [0.02671975],\n",
              "       [0.03120081],\n",
              "       [0.0224753 ],\n",
              "       [0.0293176 ],\n",
              "       [0.02944074],\n",
              "       [0.02812491],\n",
              "       [0.0220214 ],\n",
              "       [0.02803075],\n",
              "       [0.0310994 ],\n",
              "       [0.03185269],\n",
              "       [0.03378418],\n",
              "       [0.03443847],\n",
              "       [0.03428153],\n",
              "       [0.02555361],\n",
              "       [0.03317817],\n",
              "       [0.0404116 ],\n",
              "       [0.04002289],\n",
              "       [0.03980801],\n",
              "       [0.0404454 ],\n",
              "       [0.03744676],\n",
              "       [0.02966286],\n",
              "       [0.03618888],\n",
              "       [0.04202681],\n",
              "       [0.04065304],\n",
              "       [0.04414421],\n",
              "       [0.04527896],\n",
              "       [0.04490473],\n",
              "       [0.03715221],\n",
              "       [0.04326779],\n",
              "       [0.05517784],\n",
              "       [0.05621843],\n",
              "       [0.06007417],\n",
              "       [0.06113166],\n",
              "       [0.06347601],\n",
              "       [0.05913257],\n",
              "       [0.06978232],\n",
              "       [0.0866056 ],\n",
              "       [0.09591297],\n",
              "       [0.09887539],\n",
              "       [0.10586014],\n",
              "       [0.11335674],\n",
              "       [0.09830077],\n",
              "       [0.1141076 ],\n",
              "       [0.12911045],\n",
              "       [0.14273229],\n",
              "       [0.15031338],\n",
              "       [0.15141433],\n",
              "       [0.16422494],\n",
              "       [0.13571373],\n",
              "       [0.12912011],\n",
              "       [0.17463084],\n",
              "       [0.19668846],\n",
              "       [0.21518972],\n",
              "       [0.22513689],\n",
              "       [0.25002656],\n",
              "       [0.23414971],\n",
              "       [0.27942867],\n",
              "       [0.30611461],\n",
              "       [0.3186186 ],\n",
              "       [0.35100969],\n",
              "       [0.36910533],\n",
              "       [0.40781481],\n",
              "       [0.39048934],\n",
              "       [0.44514085],\n",
              "       [0.48465673],\n",
              "       [0.52476895],\n",
              "       [0.56663158],\n",
              "       [0.63109989],\n",
              "       [0.6610573 ],\n",
              "       [0.6257231 ],\n",
              "       [0.71261842],\n",
              "       [0.75966469],\n",
              "       [0.803792  ],\n",
              "       [0.83726713],\n",
              "       [0.84428086],\n",
              "       [0.85224825],\n",
              "       [0.77989464],\n",
              "       [0.87140864],\n",
              "       [0.91578703],\n",
              "       [0.93328392],\n",
              "       [0.97055685],\n",
              "       [0.94760833],\n",
              "       [0.88863028],\n",
              "       [0.86269037],\n",
              "       [0.92263899],\n",
              "       [0.99575796],\n",
              "       [1.        ],\n",
              "       [0.96834771],\n",
              "       [0.97396593],\n",
              "       [0.88484939],\n",
              "       [0.79659961],\n",
              "       [0.84121462],\n",
              "       [0.87575449],\n",
              "       [0.82847403],\n",
              "       [0.7873188 ],\n",
              "       [0.7512772 ],\n",
              "       [0.67936782],\n",
              "       [0.63626421],\n",
              "       [0.6454412 ],\n",
              "       [0.66662965],\n",
              "       [0.62665022],\n",
              "       [0.62121307],\n",
              "       [0.58147991],\n",
              "       [0.53674901],\n",
              "       [0.47424599],\n",
              "       [0.50441104],\n",
              "       [0.51014998],\n",
              "       [0.44995026],\n",
              "       [0.41959207],\n",
              "       [0.39970496],\n",
              "       [0.36875525],\n",
              "       [0.30785537],\n",
              "       [0.32059838],\n",
              "       [0.32389639],\n",
              "       [0.31957469],\n",
              "       [0.2910007 ],\n",
              "       [0.27634794],\n",
              "       [0.24297179],\n",
              "       [0.20883753],\n",
              "       [0.22356032],\n",
              "       [0.22565357],\n",
              "       [0.22282394],\n",
              "       [0.20360802],\n",
              "       [0.19516258],\n",
              "       [0.17002183],\n",
              "       [0.14599892],\n",
              "       [0.1502313 ],\n",
              "       [0.16226448],\n",
              "       [0.15084937],\n",
              "       [0.14667977]])"
            ]
          },
          "metadata": {},
          "execution_count": 14
        }
      ]
    },
    {
      "cell_type": "code",
      "metadata": {
        "id": "Bx15Zi4kU-nX"
      },
      "source": [
        "import numpy\n",
        "# convert an array of values into a dataset matrix\n",
        "def create_dataset(dataset, time_step=1):\n",
        "\tdataX, dataY = [], []\n",
        "\tfor i in range(len(dataset)-time_step-1):\n",
        "\t\ta = dataset[i:(i+time_step), 0]   ###i=0, 0,1,2,3-----99   100 \n",
        "\t\tdataX.append(a)\n",
        "\t\tdataY.append(dataset[i + time_step, 0])\n",
        "\treturn numpy.array(dataX), numpy.array(dataY)"
      ],
      "execution_count": null,
      "outputs": []
    },
    {
      "cell_type": "code",
      "metadata": {
        "id": "K7yDgAeAU-nY"
      },
      "source": [
        "# reshape into X=t,t+1,t+2,t+3 and Y=t+4\n",
        "time_step = 10\n",
        "X_train, y_train = create_dataset(train_data, time_step)\n",
        "X_test, ytest = create_dataset(test_data, time_step)"
      ],
      "execution_count": null,
      "outputs": []
    },
    {
      "cell_type": "code",
      "metadata": {
        "colab": {
          "base_uri": "https://localhost:8080/"
        },
        "id": "ldKjB4UOU-nZ",
        "outputId": "d141da10-e149-4662-eef7-42f6e6d4dd0c"
      },
      "source": [
        "print(X_train.shape), print(y_train.shape)"
      ],
      "execution_count": null,
      "outputs": [
        {
          "output_type": "stream",
          "name": "stdout",
          "text": [
            "(255, 10)\n",
            "(255,)\n"
          ]
        },
        {
          "output_type": "execute_result",
          "data": {
            "text/plain": [
              "(None, None)"
            ]
          },
          "metadata": {},
          "execution_count": 17
        }
      ]
    },
    {
      "cell_type": "code",
      "metadata": {
        "colab": {
          "base_uri": "https://localhost:8080/"
        },
        "id": "WIQbLpyFU-na",
        "outputId": "88cdebf3-d64a-4041-8141-150ed3d3f695"
      },
      "source": [
        "print(X_test.shape), print(ytest.shape)"
      ],
      "execution_count": null,
      "outputs": [
        {
          "output_type": "stream",
          "name": "stdout",
          "text": [
            "(133, 10)\n",
            "(133,)\n"
          ]
        },
        {
          "output_type": "execute_result",
          "data": {
            "text/plain": [
              "(None, None)"
            ]
          },
          "metadata": {},
          "execution_count": 18
        }
      ]
    },
    {
      "cell_type": "code",
      "metadata": {
        "id": "DxWQ-NPGU-nb"
      },
      "source": [
        "# reshape input to be [samples, time steps, features] which is required for LSTM\n",
        "X_train =X_train.reshape(X_train.shape[0],X_train.shape[1] , 1)\n",
        "X_test = X_test.reshape(X_test.shape[0],X_test.shape[1] , 1)"
      ],
      "execution_count": null,
      "outputs": []
    },
    {
      "cell_type": "markdown",
      "metadata": {
        "id": "33N9iMXC_RVp"
      },
      "source": [
        "# **Stacked LSTM**"
      ]
    },
    {
      "cell_type": "code",
      "metadata": {
        "id": "oYVS8e0kU-nb"
      },
      "source": [
        "### Create the Stacked LSTM model\n",
        "from tensorflow.keras.models import Sequential\n",
        "from tensorflow.keras.layers import Dense\n",
        "from tensorflow.keras.layers import LSTM"
      ],
      "execution_count": null,
      "outputs": []
    },
    {
      "cell_type": "code",
      "metadata": {
        "id": "0m1L1x_nU-nc"
      },
      "source": [
        "model=Sequential()\n",
        "model.add(LSTM(50,return_sequences=True,input_shape=(10,1)))\n",
        "model.add(LSTM(50,return_sequences=True))\n",
        "model.add(LSTM(50,return_sequences=True))\n",
        "model.add(LSTM(50))\n",
        "model.add(Dense(1))\n",
        "model.compile(loss='mean_squared_error',optimizer='adam')\n"
      ],
      "execution_count": null,
      "outputs": []
    },
    {
      "cell_type": "code",
      "metadata": {
        "colab": {
          "base_uri": "https://localhost:8080/"
        },
        "id": "t6_soEUbU-nc",
        "outputId": "6d3ae28d-f40c-4304-8442-910be42a4ce6"
      },
      "source": [
        "model.summary()"
      ],
      "execution_count": null,
      "outputs": [
        {
          "output_type": "stream",
          "name": "stdout",
          "text": [
            "Model: \"sequential\"\n",
            "_________________________________________________________________\n",
            " Layer (type)                Output Shape              Param #   \n",
            "=================================================================\n",
            " lstm (LSTM)                 (None, 10, 50)            10400     \n",
            "                                                                 \n",
            " lstm_1 (LSTM)               (None, 10, 50)            20200     \n",
            "                                                                 \n",
            " lstm_2 (LSTM)               (None, 10, 50)            20200     \n",
            "                                                                 \n",
            " lstm_3 (LSTM)               (None, 50)                20200     \n",
            "                                                                 \n",
            " dense (Dense)               (None, 1)                 51        \n",
            "                                                                 \n",
            "=================================================================\n",
            "Total params: 71,051\n",
            "Trainable params: 71,051\n",
            "Non-trainable params: 0\n",
            "_________________________________________________________________\n"
          ]
        }
      ]
    },
    {
      "cell_type": "code",
      "metadata": {
        "colab": {
          "base_uri": "https://localhost:8080/"
        },
        "id": "eo1RBgrLU-ne",
        "outputId": "09776224-0ec3-44a9-d285-ec0b44d3075e"
      },
      "source": [
        "model.fit(X_train,y_train,validation_data=(X_test,ytest),epochs=100,batch_size=32,verbose=1)"
      ],
      "execution_count": null,
      "outputs": [
        {
          "output_type": "stream",
          "name": "stdout",
          "text": [
            "Epoch 1/100\n",
            "8/8 [==============================] - 12s 280ms/step - loss: 0.0764 - val_loss: 0.0199\n",
            "Epoch 2/100\n",
            "8/8 [==============================] - 0s 26ms/step - loss: 0.0372 - val_loss: 0.0091\n",
            "Epoch 3/100\n",
            "8/8 [==============================] - 0s 26ms/step - loss: 0.0147 - val_loss: 3.7168e-04\n",
            "Epoch 4/100\n",
            "8/8 [==============================] - 0s 26ms/step - loss: 0.0113 - val_loss: 4.9217e-04\n",
            "Epoch 5/100\n",
            "8/8 [==============================] - 0s 25ms/step - loss: 0.0094 - val_loss: 8.3918e-04\n",
            "Epoch 6/100\n",
            "8/8 [==============================] - 0s 25ms/step - loss: 0.0091 - val_loss: 0.0019\n",
            "Epoch 7/100\n",
            "8/8 [==============================] - 0s 26ms/step - loss: 0.0087 - val_loss: 4.6384e-04\n",
            "Epoch 8/100\n",
            "8/8 [==============================] - 0s 26ms/step - loss: 0.0087 - val_loss: 3.4667e-04\n",
            "Epoch 9/100\n",
            "8/8 [==============================] - 0s 26ms/step - loss: 0.0084 - val_loss: 5.0974e-04\n",
            "Epoch 10/100\n",
            "8/8 [==============================] - 0s 26ms/step - loss: 0.0082 - val_loss: 6.0007e-04\n",
            "Epoch 11/100\n",
            "8/8 [==============================] - 0s 26ms/step - loss: 0.0083 - val_loss: 4.5962e-04\n",
            "Epoch 12/100\n",
            "8/8 [==============================] - 0s 28ms/step - loss: 0.0082 - val_loss: 6.1029e-04\n",
            "Epoch 13/100\n",
            "8/8 [==============================] - 0s 27ms/step - loss: 0.0085 - val_loss: 3.8774e-04\n",
            "Epoch 14/100\n",
            "8/8 [==============================] - 0s 28ms/step - loss: 0.0081 - val_loss: 3.3847e-04\n",
            "Epoch 15/100\n",
            "8/8 [==============================] - 0s 26ms/step - loss: 0.0079 - val_loss: 5.2555e-04\n",
            "Epoch 16/100\n",
            "8/8 [==============================] - 0s 26ms/step - loss: 0.0077 - val_loss: 5.4190e-04\n",
            "Epoch 17/100\n",
            "8/8 [==============================] - 0s 26ms/step - loss: 0.0076 - val_loss: 2.9494e-04\n",
            "Epoch 18/100\n",
            "8/8 [==============================] - 0s 25ms/step - loss: 0.0076 - val_loss: 5.0255e-04\n",
            "Epoch 19/100\n",
            "8/8 [==============================] - 0s 25ms/step - loss: 0.0072 - val_loss: 3.3831e-04\n",
            "Epoch 20/100\n",
            "8/8 [==============================] - 0s 27ms/step - loss: 0.0073 - val_loss: 3.4035e-04\n",
            "Epoch 21/100\n",
            "8/8 [==============================] - 0s 26ms/step - loss: 0.0069 - val_loss: 2.8863e-04\n",
            "Epoch 22/100\n",
            "8/8 [==============================] - 0s 26ms/step - loss: 0.0071 - val_loss: 5.9019e-04\n",
            "Epoch 23/100\n",
            "8/8 [==============================] - 0s 32ms/step - loss: 0.0070 - val_loss: 3.3797e-04\n",
            "Epoch 24/100\n",
            "8/8 [==============================] - 0s 31ms/step - loss: 0.0069 - val_loss: 6.7140e-04\n",
            "Epoch 25/100\n",
            "8/8 [==============================] - 0s 25ms/step - loss: 0.0064 - val_loss: 2.9070e-04\n",
            "Epoch 26/100\n",
            "8/8 [==============================] - 0s 27ms/step - loss: 0.0066 - val_loss: 2.9073e-04\n",
            "Epoch 27/100\n",
            "8/8 [==============================] - 0s 25ms/step - loss: 0.0069 - val_loss: 3.4629e-04\n",
            "Epoch 28/100\n",
            "8/8 [==============================] - 0s 25ms/step - loss: 0.0057 - val_loss: 3.9821e-04\n",
            "Epoch 29/100\n",
            "8/8 [==============================] - 0s 28ms/step - loss: 0.0056 - val_loss: 4.9611e-04\n",
            "Epoch 30/100\n",
            "8/8 [==============================] - 0s 32ms/step - loss: 0.0051 - val_loss: 5.1760e-04\n",
            "Epoch 31/100\n",
            "8/8 [==============================] - 0s 27ms/step - loss: 0.0046 - val_loss: 3.6067e-04\n",
            "Epoch 32/100\n",
            "8/8 [==============================] - 0s 27ms/step - loss: 0.0052 - val_loss: 3.3511e-04\n",
            "Epoch 33/100\n",
            "8/8 [==============================] - 0s 27ms/step - loss: 0.0039 - val_loss: 2.9210e-04\n",
            "Epoch 34/100\n",
            "8/8 [==============================] - 0s 27ms/step - loss: 0.0038 - val_loss: 4.9103e-04\n",
            "Epoch 35/100\n",
            "8/8 [==============================] - 0s 26ms/step - loss: 0.0043 - val_loss: 5.5820e-04\n",
            "Epoch 36/100\n",
            "8/8 [==============================] - 0s 26ms/step - loss: 0.0041 - val_loss: 7.4672e-04\n",
            "Epoch 37/100\n",
            "8/8 [==============================] - 0s 26ms/step - loss: 0.0043 - val_loss: 7.1379e-04\n",
            "Epoch 38/100\n",
            "8/8 [==============================] - 0s 27ms/step - loss: 0.0029 - val_loss: 2.7075e-04\n",
            "Epoch 39/100\n",
            "8/8 [==============================] - 0s 26ms/step - loss: 0.0023 - val_loss: 3.1552e-04\n",
            "Epoch 40/100\n",
            "8/8 [==============================] - 0s 27ms/step - loss: 0.0023 - val_loss: 2.8863e-04\n",
            "Epoch 41/100\n",
            "8/8 [==============================] - 0s 26ms/step - loss: 0.0018 - val_loss: 3.0318e-04\n",
            "Epoch 42/100\n",
            "8/8 [==============================] - 0s 31ms/step - loss: 0.0016 - val_loss: 2.7509e-04\n",
            "Epoch 43/100\n",
            "8/8 [==============================] - 0s 26ms/step - loss: 0.0014 - val_loss: 4.1969e-04\n",
            "Epoch 44/100\n",
            "8/8 [==============================] - 0s 27ms/step - loss: 0.0019 - val_loss: 2.8516e-04\n",
            "Epoch 45/100\n",
            "8/8 [==============================] - 0s 27ms/step - loss: 0.0022 - val_loss: 4.6035e-04\n",
            "Epoch 46/100\n",
            "8/8 [==============================] - 0s 26ms/step - loss: 0.0021 - val_loss: 3.9284e-04\n",
            "Epoch 47/100\n",
            "8/8 [==============================] - 0s 27ms/step - loss: 0.0022 - val_loss: 2.7626e-04\n",
            "Epoch 48/100\n",
            "8/8 [==============================] - 0s 26ms/step - loss: 0.0021 - val_loss: 2.9299e-04\n",
            "Epoch 49/100\n",
            "8/8 [==============================] - 0s 26ms/step - loss: 0.0012 - val_loss: 2.8449e-04\n",
            "Epoch 50/100\n",
            "8/8 [==============================] - 0s 26ms/step - loss: 0.0012 - val_loss: 2.8331e-04\n",
            "Epoch 51/100\n",
            "8/8 [==============================] - 0s 26ms/step - loss: 0.0015 - val_loss: 2.8854e-04\n",
            "Epoch 52/100\n",
            "8/8 [==============================] - 0s 25ms/step - loss: 0.0013 - val_loss: 3.4360e-04\n",
            "Epoch 53/100\n",
            "8/8 [==============================] - 0s 27ms/step - loss: 0.0010 - val_loss: 3.5932e-04\n",
            "Epoch 54/100\n",
            "8/8 [==============================] - 0s 28ms/step - loss: 0.0011 - val_loss: 3.7947e-04\n",
            "Epoch 55/100\n",
            "8/8 [==============================] - 0s 25ms/step - loss: 9.2639e-04 - val_loss: 3.1204e-04\n",
            "Epoch 56/100\n",
            "8/8 [==============================] - 0s 25ms/step - loss: 0.0011 - val_loss: 3.6342e-04\n",
            "Epoch 57/100\n",
            "8/8 [==============================] - 0s 26ms/step - loss: 0.0014 - val_loss: 4.6982e-04\n",
            "Epoch 58/100\n",
            "8/8 [==============================] - 0s 26ms/step - loss: 0.0012 - val_loss: 3.9697e-04\n",
            "Epoch 59/100\n",
            "8/8 [==============================] - 0s 25ms/step - loss: 9.5965e-04 - val_loss: 4.0448e-04\n",
            "Epoch 60/100\n",
            "8/8 [==============================] - 0s 26ms/step - loss: 0.0022 - val_loss: 7.8667e-04\n",
            "Epoch 61/100\n",
            "8/8 [==============================] - 0s 25ms/step - loss: 0.0028 - val_loss: 3.9065e-04\n",
            "Epoch 62/100\n",
            "8/8 [==============================] - 0s 26ms/step - loss: 0.0011 - val_loss: 3.7083e-04\n",
            "Epoch 63/100\n",
            "8/8 [==============================] - 0s 26ms/step - loss: 9.8229e-04 - val_loss: 3.0016e-04\n",
            "Epoch 64/100\n",
            "8/8 [==============================] - 0s 27ms/step - loss: 8.6957e-04 - val_loss: 3.2058e-04\n",
            "Epoch 65/100\n",
            "8/8 [==============================] - 0s 27ms/step - loss: 8.1187e-04 - val_loss: 4.1689e-04\n",
            "Epoch 66/100\n",
            "8/8 [==============================] - 0s 28ms/step - loss: 8.2776e-04 - val_loss: 3.1390e-04\n",
            "Epoch 67/100\n",
            "8/8 [==============================] - 0s 27ms/step - loss: 8.6827e-04 - val_loss: 3.7698e-04\n",
            "Epoch 68/100\n",
            "8/8 [==============================] - 0s 26ms/step - loss: 6.9177e-04 - val_loss: 3.8834e-04\n",
            "Epoch 69/100\n",
            "8/8 [==============================] - 0s 27ms/step - loss: 0.0019 - val_loss: 3.5313e-04\n",
            "Epoch 70/100\n",
            "8/8 [==============================] - 0s 26ms/step - loss: 0.0027 - val_loss: 3.4122e-04\n",
            "Epoch 71/100\n",
            "8/8 [==============================] - 0s 26ms/step - loss: 0.0014 - val_loss: 3.8424e-04\n",
            "Epoch 72/100\n",
            "8/8 [==============================] - 0s 25ms/step - loss: 0.0010 - val_loss: 3.3152e-04\n",
            "Epoch 73/100\n",
            "8/8 [==============================] - 0s 25ms/step - loss: 9.6893e-04 - val_loss: 3.7041e-04\n",
            "Epoch 74/100\n",
            "8/8 [==============================] - 0s 27ms/step - loss: 7.8629e-04 - val_loss: 3.2781e-04\n",
            "Epoch 75/100\n",
            "8/8 [==============================] - 0s 27ms/step - loss: 7.8328e-04 - val_loss: 4.1651e-04\n",
            "Epoch 76/100\n",
            "8/8 [==============================] - 0s 26ms/step - loss: 8.7605e-04 - val_loss: 3.7274e-04\n",
            "Epoch 77/100\n",
            "8/8 [==============================] - 0s 26ms/step - loss: 8.4581e-04 - val_loss: 3.3616e-04\n",
            "Epoch 78/100\n",
            "8/8 [==============================] - 0s 26ms/step - loss: 6.6223e-04 - val_loss: 3.8579e-04\n",
            "Epoch 79/100\n",
            "8/8 [==============================] - 0s 26ms/step - loss: 0.0011 - val_loss: 4.3196e-04\n",
            "Epoch 80/100\n",
            "8/8 [==============================] - 0s 26ms/step - loss: 0.0012 - val_loss: 4.5482e-04\n",
            "Epoch 81/100\n",
            "8/8 [==============================] - 0s 27ms/step - loss: 8.9544e-04 - val_loss: 3.8354e-04\n",
            "Epoch 82/100\n",
            "8/8 [==============================] - 0s 26ms/step - loss: 6.9868e-04 - val_loss: 3.2268e-04\n",
            "Epoch 83/100\n",
            "8/8 [==============================] - 0s 26ms/step - loss: 9.4448e-04 - val_loss: 3.3460e-04\n",
            "Epoch 84/100\n",
            "8/8 [==============================] - 0s 29ms/step - loss: 0.0010 - val_loss: 3.1940e-04\n",
            "Epoch 85/100\n",
            "8/8 [==============================] - 0s 26ms/step - loss: 9.4002e-04 - val_loss: 3.2377e-04\n",
            "Epoch 86/100\n",
            "8/8 [==============================] - 0s 26ms/step - loss: 8.9198e-04 - val_loss: 3.4856e-04\n",
            "Epoch 87/100\n",
            "8/8 [==============================] - 0s 27ms/step - loss: 7.3450e-04 - val_loss: 3.3819e-04\n",
            "Epoch 88/100\n",
            "8/8 [==============================] - 0s 26ms/step - loss: 6.8632e-04 - val_loss: 3.3244e-04\n",
            "Epoch 89/100\n",
            "8/8 [==============================] - 0s 26ms/step - loss: 8.1231e-04 - val_loss: 3.4689e-04\n",
            "Epoch 90/100\n",
            "8/8 [==============================] - 0s 26ms/step - loss: 9.1658e-04 - val_loss: 3.5192e-04\n",
            "Epoch 91/100\n",
            "8/8 [==============================] - 0s 25ms/step - loss: 0.0010 - val_loss: 3.4418e-04\n",
            "Epoch 92/100\n",
            "8/8 [==============================] - 0s 25ms/step - loss: 0.0012 - val_loss: 3.2847e-04\n",
            "Epoch 93/100\n",
            "8/8 [==============================] - 0s 25ms/step - loss: 7.8901e-04 - val_loss: 3.5429e-04\n",
            "Epoch 94/100\n",
            "8/8 [==============================] - 0s 26ms/step - loss: 8.6087e-04 - val_loss: 3.9106e-04\n",
            "Epoch 95/100\n",
            "8/8 [==============================] - 0s 26ms/step - loss: 9.8482e-04 - val_loss: 3.8269e-04\n",
            "Epoch 96/100\n",
            "8/8 [==============================] - 0s 28ms/step - loss: 0.0011 - val_loss: 3.6329e-04\n",
            "Epoch 97/100\n",
            "8/8 [==============================] - 0s 27ms/step - loss: 8.3639e-04 - val_loss: 4.2616e-04\n",
            "Epoch 98/100\n",
            "8/8 [==============================] - 0s 27ms/step - loss: 9.7462e-04 - val_loss: 3.4602e-04\n",
            "Epoch 99/100\n",
            "8/8 [==============================] - 0s 25ms/step - loss: 7.2019e-04 - val_loss: 3.6116e-04\n",
            "Epoch 100/100\n",
            "8/8 [==============================] - 0s 26ms/step - loss: 7.4450e-04 - val_loss: 3.8365e-04\n"
          ]
        },
        {
          "output_type": "execute_result",
          "data": {
            "text/plain": [
              "<keras.callbacks.History at 0x7f4da0ad4090>"
            ]
          },
          "metadata": {},
          "execution_count": 23
        }
      ]
    },
    {
      "cell_type": "markdown",
      "metadata": {
        "id": "vrlWZ37sAA9y"
      },
      "source": [
        "# **Prediction**"
      ]
    },
    {
      "cell_type": "code",
      "metadata": {
        "id": "3SW6HRZTA7f5"
      },
      "source": [
        "import tensorflow as tf"
      ],
      "execution_count": null,
      "outputs": []
    },
    {
      "cell_type": "code",
      "metadata": {
        "id": "9oaBwaxLA_jP"
      },
      "source": [
        "### Lets Do the prediction and check performance metrics\n",
        "train_predict=model.predict(X_train)\n",
        "test_predict=model.predict(X_test)"
      ],
      "execution_count": null,
      "outputs": []
    },
    {
      "cell_type": "code",
      "metadata": {
        "id": "b297BP2XBAXV"
      },
      "source": [
        "##Transformback to original form\n",
        "train_predict=scaler.inverse_transform(train_predict)\n",
        "test_predict=scaler.inverse_transform(test_predict)"
      ],
      "execution_count": null,
      "outputs": []
    },
    {
      "cell_type": "markdown",
      "metadata": {
        "id": "9Ug1OAhw1x_H"
      },
      "source": [
        "# **Performence Matrix**"
      ]
    },
    {
      "cell_type": "markdown",
      "metadata": {
        "id": "LNbwAOK22F0l"
      },
      "source": [
        "## **MSE**"
      ]
    },
    {
      "cell_type": "code",
      "metadata": {
        "colab": {
          "base_uri": "https://localhost:8080/"
        },
        "id": "KQhW6goE2Jwk",
        "outputId": "a832161b-8f6a-4c4f-f7f0-f1a3033c223d"
      },
      "source": [
        "import math\n",
        "from sklearn.metrics import mean_squared_error\n",
        "mean_squared_error(y_train,train_predict)"
      ],
      "execution_count": null,
      "outputs": [
        {
          "output_type": "execute_result",
          "data": {
            "text/plain": [
              "20945871291.87916"
            ]
          },
          "metadata": {},
          "execution_count": 27
        }
      ]
    },
    {
      "cell_type": "code",
      "metadata": {
        "colab": {
          "base_uri": "https://localhost:8080/"
        },
        "id": "3VWD1twi2Jh_",
        "outputId": "4fa7ed52-8354-4d43-a7e9-6069ca929620"
      },
      "source": [
        "### Test Data RMSE\n",
        "mean_squared_error(ytest,test_predict)"
      ],
      "execution_count": null,
      "outputs": [
        {
          "output_type": "execute_result",
          "data": {
            "text/plain": [
              "1261700163.6606643"
            ]
          },
          "metadata": {},
          "execution_count": 28
        }
      ]
    },
    {
      "cell_type": "markdown",
      "metadata": {
        "id": "6fY6qQVm1_U-"
      },
      "source": [
        "## **RMSE**"
      ]
    },
    {
      "cell_type": "code",
      "metadata": {
        "colab": {
          "base_uri": "https://localhost:8080/"
        },
        "id": "h2i2Tn1oU-ng",
        "outputId": "7655ac63-b4ba-45e6-b8d7-e3edd8b3c751"
      },
      "source": [
        "### Calculate RMSE performance metrics\n",
        "from sklearn.metrics import mean_squared_error\n",
        "math.sqrt(mean_squared_error(y_train,train_predict))"
      ],
      "execution_count": null,
      "outputs": [
        {
          "output_type": "execute_result",
          "data": {
            "text/plain": [
              "144726.8851730015"
            ]
          },
          "metadata": {},
          "execution_count": 29
        }
      ]
    },
    {
      "cell_type": "code",
      "metadata": {
        "colab": {
          "base_uri": "https://localhost:8080/"
        },
        "id": "9OxVnb8LU-ni",
        "outputId": "bb30b17d-97bc-4864-d758-1cf873a3c2ed"
      },
      "source": [
        "### Test Data RMSE\n",
        "math.sqrt(mean_squared_error(ytest,test_predict))"
      ],
      "execution_count": null,
      "outputs": [
        {
          "output_type": "execute_result",
          "data": {
            "text/plain": [
              "35520.41896797762"
            ]
          },
          "metadata": {},
          "execution_count": 30
        }
      ]
    },
    {
      "cell_type": "markdown",
      "metadata": {
        "id": "Th0nU35i2Xtj"
      },
      "source": [
        "## **MAE**"
      ]
    },
    {
      "cell_type": "code",
      "metadata": {
        "colab": {
          "base_uri": "https://localhost:8080/"
        },
        "id": "oxPKN2aR2bmq",
        "outputId": "bc77ddba-9186-4c4b-c8c8-873f352d9858"
      },
      "source": [
        "from sklearn.metrics import mean_absolute_error\n",
        "mean_absolute_error(y_train,train_predict)"
      ],
      "execution_count": null,
      "outputs": [
        {
          "output_type": "execute_result",
          "data": {
            "text/plain": [
              "92947.89268844793"
            ]
          },
          "metadata": {},
          "execution_count": 31
        }
      ]
    },
    {
      "cell_type": "code",
      "metadata": {
        "colab": {
          "base_uri": "https://localhost:8080/"
        },
        "id": "5X-HVodF2bTN",
        "outputId": "10d288e4-ead3-4fee-b87b-ea8d1dd23fbb"
      },
      "source": [
        "### Test Data MAE\n",
        "mean_absolute_error(ytest,test_predict)"
      ],
      "execution_count": null,
      "outputs": [
        {
          "output_type": "execute_result",
          "data": {
            "text/plain": [
              "33368.27290808932"
            ]
          },
          "metadata": {},
          "execution_count": 32
        }
      ]
    },
    {
      "cell_type": "code",
      "metadata": {
        "colab": {
          "base_uri": "https://localhost:8080/",
          "height": 279
        },
        "id": "yesyT_OzU-nj",
        "outputId": "9d31cbd6-7097-4fe7-f0de-3eb4f7a53620"
      },
      "source": [
        "### Plotting \n",
        "# shift train predictions for plotting\n",
        "look_back=10\n",
        "trainPredictPlot = numpy.empty_like(df1)\n",
        "trainPredictPlot[:, :] = np.nan\n",
        "trainPredictPlot[look_back:len(train_predict)+look_back, :] = train_predict\n",
        "# shift test predictions for plotting\n",
        "testPredictPlot = numpy.empty_like(df1)\n",
        "testPredictPlot[:, :] = numpy.nan\n",
        "testPredictPlot[len(train_predict)+(look_back*2)+1:len(df1)-1, :] = test_predict\n",
        "# plot baseline and predictions\n",
        "plt.plot(scaler.inverse_transform(df1))\n",
        "plt.plot(trainPredictPlot)\n",
        "plt.plot(testPredictPlot)\n",
        "plt.xlabel('Days')\n",
        "plt.ylabel('Confirmed Cases')\n",
        "plt.show()"
      ],
      "execution_count": null,
      "outputs": [
        {
          "output_type": "display_data",
          "data": {
            "image/png": "[encoded data removed]",
            "text/plain": [
              "<Figure size 432x288 with 1 Axes>"
            ]
          },
          "metadata": {
            "needs_background": "light"
          }
        }
      ]
    },
    {
      "cell_type": "code",
      "metadata": {
        "colab": {
          "base_uri": "https://localhost:8080/"
        },
        "id": "9GkMLkiUU-nk",
        "outputId": "00b0e217-802b-44c5-9f47-8d13e52940ce"
      },
      "source": [
        "len(test_data)"
      ],
      "execution_count": null,
      "outputs": [
        {
          "output_type": "execute_result",
          "data": {
            "text/plain": [
              "144"
            ]
          },
          "metadata": {},
          "execution_count": 34
        }
      ]
    },
    {
      "cell_type": "code",
      "metadata": {
        "colab": {
          "base_uri": "https://localhost:8080/"
        },
        "id": "p9hqyf35U-nl",
        "outputId": "981f6ca0-2032-4b04-f969-8d4865dfc22a"
      },
      "source": [
        "x_input=test_data[134:].reshape(1,-1)\n",
        "x_input.shape\n"
      ],
      "execution_count": null,
      "outputs": [
        {
          "output_type": "execute_result",
          "data": {
            "text/plain": [
              "(1, 10)"
            ]
          },
          "metadata": {},
          "execution_count": 35
        }
      ]
    },
    {
      "cell_type": "code",
      "metadata": {
        "id": "KFN-DYjkU-nn"
      },
      "source": [
        "temp_input=list(x_input)\n",
        "temp_input=temp_input[0].tolist()"
      ],
      "execution_count": null,
      "outputs": []
    },
    {
      "cell_type": "code",
      "metadata": {
        "colab": {
          "base_uri": "https://localhost:8080/"
        },
        "id": "CuUtPlH6RHVO",
        "outputId": "ca93fabd-9a68-4ad6-c578-8a365d75335e"
      },
      "source": [
        "len(temp_input)"
      ],
      "execution_count": null,
      "outputs": [
        {
          "output_type": "execute_result",
          "data": {
            "text/plain": [
              "10"
            ]
          },
          "metadata": {},
          "execution_count": 37
        }
      ]
    },
    {
      "cell_type": "code",
      "metadata": {
        "colab": {
          "base_uri": "https://localhost:8080/"
        },
        "id": "HQqAaefdU-no",
        "outputId": "02e7cd7e-1eff-46f5-c10a-3eac7acc5b81"
      },
      "source": [
        "temp_input"
      ],
      "execution_count": null,
      "outputs": [
        {
          "output_type": "execute_result",
          "data": {
            "text/plain": [
              "[0.030213333075801325,\n",
              " 0.025164900962847788,\n",
              " 0.028738157551643214,\n",
              " 0.031109061585560177,\n",
              " 0.03073242102620066,\n",
              " 0.026386568418206222,\n",
              " 0.026137889074526542,\n",
              " 0.027712053463644526,\n",
              " 0.024447835282528706,\n",
              " 0.027683081112924564]"
            ]
          },
          "metadata": {},
          "execution_count": 38
        }
      ]
    },
    {
      "cell_type": "code",
      "metadata": {
        "colab": {
          "base_uri": "https://localhost:8080/"
        },
        "id": "EL4ab3SJU-no",
        "outputId": "8d823ff5-afbc-45c3-f63b-34f3cc775095"
      },
      "source": [
        "# demonstrate prediction for next 10 days\n",
        "from numpy import array\n",
        "\n",
        "lst_output=[]\n",
        "n_steps=10\n",
        "i=0\n",
        "while(i<30):\n",
        "    \n",
        "    if(len(temp_input)>10):\n",
        "        #print(temp_input)\n",
        "        x_input=np.array(temp_input[1:])\n",
        "        print(\"{} day input {}\".format(i,x_input))\n",
        "        x_input=x_input.reshape(1,-1)\n",
        "        x_input = x_input.reshape((1, n_steps, 1))\n",
        "        #print(x_input)\n",
        "        yhat = model.predict(x_input, verbose=0)\n",
        "        print(\"{} day output {}\".format(i,yhat))\n",
        "        temp_input.extend(yhat[0].tolist())\n",
        "        temp_input=temp_input[1:]\n",
        "        #print(temp_input)\n",
        "        lst_output.extend(yhat.tolist())\n",
        "        i=i+1\n",
        "    else:\n",
        "        x_input = x_input.reshape((1, n_steps,1))\n",
        "        yhat = model.predict(x_input, verbose=0)\n",
        "        print(yhat[0])\n",
        "        temp_input.extend(yhat[0].tolist())\n",
        "        print(len(temp_input))\n",
        "        lst_output.extend(yhat.tolist())\n",
        "        i=i+1\n",
        "    \n",
        "\n",
        "print(lst_output)"
      ],
      "execution_count": null,
      "outputs": [
        {
          "output_type": "stream",
          "name": "stdout",
          "text": [
            "[0.02966322]\n",
            "11\n",
            "1 day input [0.0251649  0.02873816 0.03110906 0.03073242 0.02638657 0.02613789\n",
            " 0.02771205 0.02444784 0.02768308 0.02966322]\n",
            "1 day output [[0.02963892]]\n",
            "2 day input [0.02873816 0.03110906 0.03073242 0.02638657 0.02613789 0.02771205\n",
            " 0.02444784 0.02768308 0.02966322 0.02963892]\n",
            "2 day output [[0.02763037]]\n",
            "3 day input [0.03110906 0.03073242 0.02638657 0.02613789 0.02771205 0.02444784\n",
            " 0.02768308 0.02966322 0.02963892 0.02763037]\n",
            "3 day output [[0.02755929]]\n",
            "4 day input [0.03073242 0.02638657 0.02613789 0.02771205 0.02444784 0.02768308\n",
            " 0.02966322 0.02963892 0.02763037 0.02755929]\n",
            "4 day output [[0.0292924]]\n",
            "5 day input [0.02638657 0.02613789 0.02771205 0.02444784 0.02768308 0.02966322\n",
            " 0.02963892 0.02763037 0.02755929 0.0292924 ]\n",
            "5 day output [[0.03156676]]\n",
            "6 day input [0.02613789 0.02771205 0.02444784 0.02768308 0.02966322 0.02963892\n",
            " 0.02763037 0.02755929 0.0292924  0.03156676]\n",
            "6 day output [[0.03218964]]\n",
            "7 day input [0.02771205 0.02444784 0.02768308 0.02966322 0.02963892 0.02763037\n",
            " 0.02755929 0.0292924  0.03156676 0.03218964]\n",
            "7 day output [[0.03265777]]\n",
            "8 day input [0.02444784 0.02768308 0.02966322 0.02963892 0.02763037 0.02755929\n",
            " 0.0292924  0.03156676 0.03218964 0.03265777]\n",
            "8 day output [[0.03388923]]\n",
            "9 day input [0.02768308 0.02966322 0.02963892 0.02763037 0.02755929 0.0292924\n",
            " 0.03156676 0.03218964 0.03265777 0.03388923]\n",
            "9 day output [[0.03364252]]\n",
            "10 day input [0.02966322 0.02963892 0.02763037 0.02755929 0.0292924  0.03156676\n",
            " 0.03218964 0.03265777 0.03388923 0.03364252]\n",
            "10 day output [[0.03473397]]\n",
            "11 day input [0.02963892 0.02763037 0.02755929 0.0292924  0.03156676 0.03218964\n",
            " 0.03265777 0.03388923 0.03364252 0.03473397]\n",
            "11 day output [[0.03682424]]\n",
            "12 day input [0.02763037 0.02755929 0.0292924  0.03156676 0.03218964 0.03265777\n",
            " 0.03388923 0.03364252 0.03473397 0.03682424]\n",
            "12 day output [[0.03895662]]\n",
            "13 day input [0.02755929 0.0292924  0.03156676 0.03218964 0.03265777 0.03388923\n",
            " 0.03364252 0.03473397 0.03682424 0.03895662]\n",
            "13 day output [[0.03998267]]\n",
            "14 day input [0.0292924  0.03156676 0.03218964 0.03265777 0.03388923 0.03364252\n",
            " 0.03473397 0.03682424 0.03895662 0.03998267]\n",
            "14 day output [[0.04057544]]\n",
            "15 day input [0.03156676 0.03218964 0.03265777 0.03388923 0.03364252 0.03473397\n",
            " 0.03682424 0.03895662 0.03998267 0.04057544]\n",
            "15 day output [[0.04160637]]\n",
            "16 day input [0.03218964 0.03265777 0.03388923 0.03364252 0.03473397 0.03682424\n",
            " 0.03895662 0.03998267 0.04057544 0.04160637]\n",
            "16 day output [[0.04345885]]\n",
            "17 day input [0.03265777 0.03388923 0.03364252 0.03473397 0.03682424 0.03895662\n",
            " 0.03998267 0.04057544 0.04160637 0.04345885]\n",
            "17 day output [[0.04539897]]\n",
            "18 day input [0.03388923 0.03364252 0.03473397 0.03682424 0.03895662 0.03998267\n",
            " 0.04057544 0.04160637 0.04345885 0.04539897]\n",
            "18 day output [[0.04723345]]\n",
            "19 day input [0.03364252 0.03473397 0.03682424 0.03895662 0.03998267 0.04057544\n",
            " 0.04160637 0.04345885 0.04539897 0.04723345]\n",
            "19 day output [[0.04924569]]\n",
            "20 day input [0.03473397 0.03682424 0.03895662 0.03998267 0.04057544 0.04160637\n",
            " 0.04345885 0.04539897 0.04723345 0.04924569]\n",
            "20 day output [[0.05070564]]\n",
            "21 day input [0.03682424 0.03895662 0.03998267 0.04057544 0.04160637 0.04345885\n",
            " 0.04539897 0.04723345 0.04924569 0.05070564]\n",
            "21 day output [[0.05213973]]\n",
            "22 day input [0.03895662 0.03998267 0.04057544 0.04160637 0.04345885 0.04539897\n",
            " 0.04723345 0.04924569 0.05070564 0.05213973]\n",
            "22 day output [[0.05405301]]\n",
            "23 day input [0.03998267 0.04057544 0.04160637 0.04345885 0.04539897 0.04723345\n",
            " 0.04924569 0.05070564 0.05213973 0.05405301]\n",
            "23 day output [[0.05653106]]\n",
            "24 day input [0.04057544 0.04160637 0.04345885 0.04539897 0.04723345 0.04924569\n",
            " 0.05070564 0.05213973 0.05405301 0.05653106]\n",
            "24 day output [[0.05904312]]\n",
            "25 day input [0.04160637 0.04345885 0.04539897 0.04723345 0.04924569 0.05070564\n",
            " 0.05213973 0.05405301 0.05653106 0.05904312]\n",
            "25 day output [[0.06127746]]\n",
            "26 day input [0.04345885 0.04539897 0.04723345 0.04924569 0.05070564 0.05213973\n",
            " 0.05405301 0.05653106 0.05904312 0.06127746]\n",
            "26 day output [[0.06334887]]\n",
            "27 day input [0.04539897 0.04723345 0.04924569 0.05070564 0.05213973 0.05405301\n",
            " 0.05653106 0.05904312 0.06127746 0.06334887]\n",
            "27 day output [[0.06562955]]\n",
            "28 day input [0.04723345 0.04924569 0.05070564 0.05213973 0.05405301 0.05653106\n",
            " 0.05904312 0.06127746 0.06334887 0.06562955]\n",
            "28 day output [[0.06818827]]\n",
            "29 day input [0.04924569 0.05070564 0.05213973 0.05405301 0.05653106 0.05904312\n",
            " 0.06127746 0.06334887 0.06562955 0.06818827]\n",
            "29 day output [[0.07096805]]\n",
            "[[0.029663223773241043], [0.02963891625404358], [0.02763037011027336], [0.027559291571378708], [0.029292404651641846], [0.03156676143407822], [0.03218964487314224], [0.032657772302627563], [0.033889226615428925], [0.03364252299070358], [0.03473396599292755], [0.03682423755526543], [0.038956619799137115], [0.039982669055461884], [0.04057544097304344], [0.04160637408494949], [0.04345884919166565], [0.04539896547794342], [0.047233451157808304], [0.049245685338974], [0.05070564150810242], [0.05213972553610802], [0.054053012281656265], [0.05653105676174164], [0.059043120592832565], [0.06127746403217316], [0.06334886699914932], [0.06562954932451248], [0.06818827241659164], [0.07096804678440094]]\n"
          ]
        }
      ]
    },
    {
      "cell_type": "code",
      "metadata": {
        "id": "itL7ug7xU-np"
      },
      "source": [
        "day_new=np.arange(1,101)\n",
        "day_pred=np.arange(101,131)"
      ],
      "execution_count": null,
      "outputs": []
    },
    {
      "cell_type": "code",
      "metadata": {
        "id": "4LFs9dLgU-nq"
      },
      "source": [
        "import matplotlib.pyplot as plt"
      ],
      "execution_count": null,
      "outputs": []
    },
    {
      "cell_type": "code",
      "metadata": {
        "colab": {
          "base_uri": "https://localhost:8080/"
        },
        "id": "9Hyxt_gQU-nq",
        "outputId": "2ca017f8-a104-49e1-f383-02657f5d70a1"
      },
      "source": [
        "len(df1)"
      ],
      "execution_count": null,
      "outputs": [
        {
          "output_type": "execute_result",
          "data": {
            "text/plain": [
              "410"
            ]
          },
          "metadata": {},
          "execution_count": 42
        }
      ]
    },
    {
      "cell_type": "code",
      "metadata": {
        "colab": {
          "base_uri": "https://localhost:8080/"
        },
        "id": "9fl8-tsXr41b",
        "outputId": "8911c8c5-ab6b-4fa3-d828-f26cf0144a31"
      },
      "source": [
        "len(lst_output)"
      ],
      "execution_count": null,
      "outputs": [
        {
          "output_type": "execute_result",
          "data": {
            "text/plain": [
              "30"
            ]
          },
          "metadata": {},
          "execution_count": 43
        }
      ]
    },
    {
      "cell_type": "code",
      "metadata": {
        "colab": {
          "base_uri": "https://localhost:8080/",
          "height": 296
        },
        "id": "QFCMU5meU-nr",
        "outputId": "18a17baa-ec52-4d3c-c817-6bc1de76afa9"
      },
      "source": [
        "plt.plot(day_new,scaler.inverse_transform(df1[310:]))\n",
        "plt.plot(day_pred,scaler.inverse_transform(lst_output))\n",
        "plt.xlabel('Days')\n",
        "plt.ylabel('Confirmed Cases')"
      ],
      "execution_count": null,
      "outputs": [
        {
          "output_type": "execute_result",
          "data": {
            "text/plain": [
              "Text(0, 0.5, 'Confirmed Cases')"
            ]
          },
          "metadata": {},
          "execution_count": 44
        },
        {
          "output_type": "display_data",
          "data": {
            "image/png": "[encoded data removed]",
            "text/plain": [
              "<Figure size 432x288 with 1 Axes>"
            ]
          },
          "metadata": {
            "needs_background": "light"
          }
        }
      ]
    },
    {
      "cell_type": "code",
      "metadata": {
        "colab": {
          "base_uri": "https://localhost:8080/",
          "height": 296
        },
        "id": "b-2A0_qfU-nr",
        "outputId": "21d8ac60-635b-4416-e58d-0bb7c1ff8d63"
      },
      "source": [
        "df3=df1.tolist()\n",
        "df3.extend(lst_output)\n",
        "plt.plot(df3[300:])\n",
        "plt.xlabel('Days')\n",
        "plt.ylabel('Confirmed Cases')"
      ],
      "execution_count": null,
      "outputs": [
        {
          "output_type": "execute_result",
          "data": {
            "text/plain": [
              "Text(0, 0.5, 'Confirmed Cases')"
            ]
          },
          "metadata": {},
          "execution_count": 45
        },
        {
          "output_type": "display_data",
          "data": {
            "image/png": "[encoded data removed]",
            "text/plain": [
              "<Figure size 432x288 with 1 Axes>"
            ]
          },
          "metadata": {
            "needs_background": "light"
          }
        }
      ]
    },
    {
      "cell_type": "code",
      "metadata": {
        "id": "YOhppl7gU-ns"
      },
      "source": [
        "df3=scaler.inverse_transform(df3).tolist()"
      ],
      "execution_count": null,
      "outputs": []
    },
    {
      "cell_type": "code",
      "metadata": {
        "colab": {
          "base_uri": "https://localhost:8080/",
          "height": 296
        },
        "id": "Casmv77fU-ns",
        "outputId": "07462a1c-73ce-4bb3-8f8e-3318bacb454d"
      },
      "source": [
        "plt.plot(df3)\n",
        "plt.xlabel('Days')\n",
        "plt.ylabel('Confirmed Cases')"
      ],
      "execution_count": null,
      "outputs": [
        {
          "output_type": "execute_result",
          "data": {
            "text/plain": [
              "Text(0, 0.5, 'Confirmed Cases')"
            ]
          },
          "metadata": {},
          "execution_count": 47
        },
        {
          "output_type": "display_data",
          "data": {
            "image/png": "[encoded data removed]",
            "text/plain": [
              "<Figure size 432x288 with 1 Axes>"
            ]
          },
          "metadata": {
            "needs_background": "light"
          }
        }
      ]
    },
    {
      "cell_type": "markdown",
      "metadata": {
        "id": "uviEE9j9Pbgo"
      },
      "source": [
        "# **Bidirectional LSTM**"
      ]
    },
    {
      "cell_type": "code",
      "metadata": {
        "colab": {
          "base_uri": "https://localhost:8080/"
        },
        "id": "ZfCaowxLPadw",
        "outputId": "80005eb8-671c-4832-e69d-2a4136b0e923"
      },
      "source": [
        "from keras.layers import Bidirectional\n",
        "model2 = Sequential()\n",
        "model2.add(Bidirectional(LSTM(50, activation='relu'), input_shape=(10,1)))\n",
        "model2.add(Dense(1))\n",
        "model2.compile(loss='mean_squared_error',optimizer='adam')"
      ],
      "execution_count": null,
      "outputs": [
        {
          "output_type": "stream",
          "name": "stdout",
          "text": [
            "WARNING:tensorflow:Layer lstm_4 will not use cuDNN kernels since it doesn't meet the criteria. It will use a generic GPU kernel as fallback when running on GPU.\n",
            "WARNING:tensorflow:Layer lstm_4 will not use cuDNN kernels since it doesn't meet the criteria. It will use a generic GPU kernel as fallback when running on GPU.\n",
            "WARNING:tensorflow:Layer lstm_4 will not use cuDNN kernels since it doesn't meet the criteria. It will use a generic GPU kernel as fallback when running on GPU.\n"
          ]
        }
      ]
    },
    {
      "cell_type": "code",
      "metadata": {
        "colab": {
          "base_uri": "https://localhost:8080/"
        },
        "id": "5DpXde_4Qho-",
        "outputId": "7c777f47-418d-4519-b955-69c60360ef79"
      },
      "source": [
        "model2.summary()"
      ],
      "execution_count": null,
      "outputs": [
        {
          "output_type": "stream",
          "name": "stdout",
          "text": [
            "Model: \"sequential_1\"\n",
            "_________________________________________________________________\n",
            " Layer (type)                Output Shape              Param #   \n",
            "=================================================================\n",
            " bidirectional (Bidirectiona  (None, 100)              20800     \n",
            " l)                                                              \n",
            "                                                                 \n",
            " dense_1 (Dense)             (None, 1)                 101       \n",
            "                                                                 \n",
            "=================================================================\n",
            "Total params: 20,901\n",
            "Trainable params: 20,901\n",
            "Non-trainable params: 0\n",
            "_________________________________________________________________\n"
          ]
        }
      ]
    },
    {
      "cell_type": "code",
      "metadata": {
        "colab": {
          "base_uri": "https://localhost:8080/"
        },
        "id": "yBgW4PGgQwKs",
        "outputId": "3810a1f4-cdea-4733-b308-c02a85adcb4d"
      },
      "source": [
        "model2.fit(X_train,y_train,validation_data=(X_test,ytest),epochs=100,batch_size=32,verbose=1)"
      ],
      "execution_count": null,
      "outputs": [
        {
          "output_type": "stream",
          "name": "stdout",
          "text": [
            "Epoch 1/100\n",
            "8/8 [==============================] - 3s 125ms/step - loss: 0.0891 - val_loss: 0.0012\n",
            "Epoch 2/100\n",
            "8/8 [==============================] - 1s 66ms/step - loss: 0.0508 - val_loss: 0.0012\n",
            "Epoch 3/100\n",
            "8/8 [==============================] - 1s 74ms/step - loss: 0.0257 - val_loss: 0.0071\n",
            "Epoch 4/100\n",
            "8/8 [==============================] - 1s 82ms/step - loss: 0.0134 - val_loss: 0.0123\n",
            "Epoch 5/100\n",
            "8/8 [==============================] - 1s 66ms/step - loss: 0.0107 - val_loss: 0.0056\n",
            "Epoch 6/100\n",
            "8/8 [==============================] - 0s 62ms/step - loss: 0.0066 - val_loss: 0.0013\n",
            "Epoch 7/100\n",
            "8/8 [==============================] - 1s 69ms/step - loss: 0.0054 - val_loss: 4.1929e-04\n",
            "Epoch 8/100\n",
            "8/8 [==============================] - 1s 86ms/step - loss: 0.0048 - val_loss: 3.1658e-04\n",
            "Epoch 9/100\n",
            "8/8 [==============================] - 1s 81ms/step - loss: 0.0047 - val_loss: 3.3955e-04\n",
            "Epoch 10/100\n",
            "8/8 [==============================] - 1s 77ms/step - loss: 0.0045 - val_loss: 3.8328e-04\n",
            "Epoch 11/100\n",
            "8/8 [==============================] - 1s 63ms/step - loss: 0.0043 - val_loss: 3.3168e-04\n",
            "Epoch 12/100\n",
            "8/8 [==============================] - 0s 60ms/step - loss: 0.0040 - val_loss: 3.6812e-04\n",
            "Epoch 13/100\n",
            "8/8 [==============================] - 0s 63ms/step - loss: 0.0039 - val_loss: 2.8380e-04\n",
            "Epoch 14/100\n",
            "8/8 [==============================] - 1s 72ms/step - loss: 0.0036 - val_loss: 2.9488e-04\n",
            "Epoch 15/100\n",
            "8/8 [==============================] - 1s 80ms/step - loss: 0.0035 - val_loss: 3.0947e-04\n",
            "Epoch 16/100\n",
            "8/8 [==============================] - 1s 72ms/step - loss: 0.0033 - val_loss: 2.8337e-04\n",
            "Epoch 17/100\n",
            "8/8 [==============================] - 0s 62ms/step - loss: 0.0031 - val_loss: 3.7546e-04\n",
            "Epoch 18/100\n",
            "8/8 [==============================] - 1s 71ms/step - loss: 0.0030 - val_loss: 3.1071e-04\n",
            "Epoch 19/100\n",
            "8/8 [==============================] - 0s 62ms/step - loss: 0.0028 - val_loss: 3.4635e-04\n",
            "Epoch 20/100\n",
            "8/8 [==============================] - 1s 67ms/step - loss: 0.0025 - val_loss: 2.8064e-04\n",
            "Epoch 21/100\n",
            "8/8 [==============================] - 1s 72ms/step - loss: 0.0024 - val_loss: 3.5499e-04\n",
            "Epoch 22/100\n",
            "8/8 [==============================] - 1s 68ms/step - loss: 0.0028 - val_loss: 5.5022e-04\n",
            "Epoch 23/100\n",
            "8/8 [==============================] - 1s 71ms/step - loss: 0.0025 - val_loss: 5.5694e-04\n",
            "Epoch 24/100\n",
            "8/8 [==============================] - 0s 62ms/step - loss: 0.0023 - val_loss: 3.0121e-04\n",
            "Epoch 25/100\n",
            "8/8 [==============================] - 1s 69ms/step - loss: 0.0023 - val_loss: 3.1183e-04\n",
            "Epoch 26/100\n",
            "8/8 [==============================] - 1s 78ms/step - loss: 0.0018 - val_loss: 2.8000e-04\n",
            "Epoch 27/100\n",
            "8/8 [==============================] - 0s 60ms/step - loss: 0.0017 - val_loss: 3.5947e-04\n",
            "Epoch 28/100\n",
            "8/8 [==============================] - 1s 67ms/step - loss: 0.0015 - val_loss: 3.2105e-04\n",
            "Epoch 29/100\n",
            "8/8 [==============================] - 1s 75ms/step - loss: 0.0015 - val_loss: 2.8894e-04\n",
            "Epoch 30/100\n",
            "8/8 [==============================] - 1s 77ms/step - loss: 0.0014 - val_loss: 2.8675e-04\n",
            "Epoch 31/100\n",
            "8/8 [==============================] - 0s 61ms/step - loss: 0.0014 - val_loss: 2.7918e-04\n",
            "Epoch 32/100\n",
            "8/8 [==============================] - 1s 78ms/step - loss: 0.0014 - val_loss: 3.1279e-04\n",
            "Epoch 33/100\n",
            "8/8 [==============================] - 1s 70ms/step - loss: 0.0016 - val_loss: 3.2164e-04\n",
            "Epoch 34/100\n",
            "8/8 [==============================] - 1s 74ms/step - loss: 0.0018 - val_loss: 2.8316e-04\n",
            "Epoch 35/100\n",
            "8/8 [==============================] - 1s 64ms/step - loss: 0.0013 - val_loss: 3.9765e-04\n",
            "Epoch 36/100\n",
            "8/8 [==============================] - 1s 70ms/step - loss: 0.0014 - val_loss: 2.8125e-04\n",
            "Epoch 37/100\n",
            "8/8 [==============================] - 1s 89ms/step - loss: 0.0013 - val_loss: 2.8002e-04\n",
            "Epoch 38/100\n",
            "8/8 [==============================] - 1s 69ms/step - loss: 0.0013 - val_loss: 2.8232e-04\n",
            "Epoch 39/100\n",
            "8/8 [==============================] - 1s 63ms/step - loss: 0.0012 - val_loss: 2.9549e-04\n",
            "Epoch 40/100\n",
            "8/8 [==============================] - 1s 68ms/step - loss: 0.0012 - val_loss: 3.0109e-04\n",
            "Epoch 41/100\n",
            "8/8 [==============================] - 1s 67ms/step - loss: 0.0014 - val_loss: 3.7738e-04\n",
            "Epoch 42/100\n",
            "8/8 [==============================] - 0s 60ms/step - loss: 0.0012 - val_loss: 2.8795e-04\n",
            "Epoch 43/100\n",
            "8/8 [==============================] - 1s 71ms/step - loss: 0.0011 - val_loss: 2.9772e-04\n",
            "Epoch 44/100\n",
            "8/8 [==============================] - 1s 86ms/step - loss: 0.0011 - val_loss: 3.4950e-04\n",
            "Epoch 45/100\n",
            "8/8 [==============================] - 1s 64ms/step - loss: 0.0012 - val_loss: 2.9495e-04\n",
            "Epoch 46/100\n",
            "8/8 [==============================] - 0s 57ms/step - loss: 0.0011 - val_loss: 3.2333e-04\n",
            "Epoch 47/100\n",
            "8/8 [==============================] - 1s 74ms/step - loss: 0.0010 - val_loss: 2.9190e-04\n",
            "Epoch 48/100\n",
            "8/8 [==============================] - 1s 71ms/step - loss: 0.0010 - val_loss: 3.0079e-04\n",
            "Epoch 49/100\n",
            "8/8 [==============================] - 1s 74ms/step - loss: 0.0011 - val_loss: 2.8532e-04\n",
            "Epoch 50/100\n",
            "8/8 [==============================] - 1s 71ms/step - loss: 0.0012 - val_loss: 5.3642e-04\n",
            "Epoch 51/100\n",
            "8/8 [==============================] - 0s 61ms/step - loss: 0.0013 - val_loss: 3.2129e-04\n",
            "Epoch 52/100\n",
            "8/8 [==============================] - 0s 61ms/step - loss: 0.0013 - val_loss: 2.9120e-04\n",
            "Epoch 53/100\n",
            "8/8 [==============================] - 1s 62ms/step - loss: 0.0011 - val_loss: 4.2405e-04\n",
            "Epoch 54/100\n",
            "8/8 [==============================] - 0s 63ms/step - loss: 0.0012 - val_loss: 3.0181e-04\n",
            "Epoch 55/100\n",
            "8/8 [==============================] - 1s 63ms/step - loss: 9.8496e-04 - val_loss: 3.6584e-04\n",
            "Epoch 56/100\n",
            "8/8 [==============================] - 0s 63ms/step - loss: 0.0013 - val_loss: 4.4041e-04\n",
            "Epoch 57/100\n",
            "8/8 [==============================] - 1s 69ms/step - loss: 0.0013 - val_loss: 2.8399e-04\n",
            "Epoch 58/100\n",
            "8/8 [==============================] - 1s 68ms/step - loss: 0.0013 - val_loss: 3.0720e-04\n",
            "Epoch 59/100\n",
            "8/8 [==============================] - 0s 57ms/step - loss: 0.0014 - val_loss: 3.3072e-04\n",
            "Epoch 60/100\n",
            "8/8 [==============================] - 0s 59ms/step - loss: 8.9919e-04 - val_loss: 2.8234e-04\n",
            "Epoch 61/100\n",
            "8/8 [==============================] - 1s 74ms/step - loss: 8.2145e-04 - val_loss: 3.0384e-04\n",
            "Epoch 62/100\n",
            "8/8 [==============================] - 1s 74ms/step - loss: 8.6212e-04 - val_loss: 2.8189e-04\n",
            "Epoch 63/100\n",
            "8/8 [==============================] - 0s 61ms/step - loss: 8.7078e-04 - val_loss: 2.9986e-04\n",
            "Epoch 64/100\n",
            "8/8 [==============================] - 1s 70ms/step - loss: 9.2636e-04 - val_loss: 3.1396e-04\n",
            "Epoch 65/100\n",
            "8/8 [==============================] - 1s 66ms/step - loss: 9.5846e-04 - val_loss: 2.9464e-04\n",
            "Epoch 66/100\n",
            "8/8 [==============================] - 1s 67ms/step - loss: 8.2304e-04 - val_loss: 2.9978e-04\n",
            "Epoch 67/100\n",
            "8/8 [==============================] - 0s 58ms/step - loss: 0.0011 - val_loss: 3.6346e-04\n",
            "Epoch 68/100\n",
            "8/8 [==============================] - 1s 68ms/step - loss: 0.0013 - val_loss: 3.0870e-04\n",
            "Epoch 69/100\n",
            "8/8 [==============================] - 1s 64ms/step - loss: 8.8677e-04 - val_loss: 2.8926e-04\n",
            "Epoch 70/100\n",
            "8/8 [==============================] - 1s 82ms/step - loss: 0.0011 - val_loss: 3.4767e-04\n",
            "Epoch 71/100\n",
            "8/8 [==============================] - 1s 91ms/step - loss: 7.7317e-04 - val_loss: 2.8634e-04\n",
            "Epoch 72/100\n",
            "8/8 [==============================] - 1s 84ms/step - loss: 8.5395e-04 - val_loss: 2.8489e-04\n",
            "Epoch 73/100\n",
            "8/8 [==============================] - 1s 63ms/step - loss: 9.2019e-04 - val_loss: 3.0996e-04\n",
            "Epoch 74/100\n",
            "8/8 [==============================] - 0s 62ms/step - loss: 7.4969e-04 - val_loss: 2.8392e-04\n",
            "Epoch 75/100\n",
            "8/8 [==============================] - 1s 70ms/step - loss: 7.2023e-04 - val_loss: 2.8362e-04\n",
            "Epoch 76/100\n",
            "8/8 [==============================] - 0s 60ms/step - loss: 7.4000e-04 - val_loss: 3.8268e-04\n",
            "Epoch 77/100\n",
            "8/8 [==============================] - 1s 64ms/step - loss: 0.0011 - val_loss: 3.3410e-04\n",
            "Epoch 78/100\n",
            "8/8 [==============================] - 1s 63ms/step - loss: 9.4614e-04 - val_loss: 2.9510e-04\n",
            "Epoch 79/100\n",
            "8/8 [==============================] - 1s 65ms/step - loss: 7.5171e-04 - val_loss: 3.2279e-04\n",
            "Epoch 80/100\n",
            "8/8 [==============================] - 0s 61ms/step - loss: 8.8038e-04 - val_loss: 3.0065e-04\n",
            "Epoch 81/100\n",
            "8/8 [==============================] - 0s 63ms/step - loss: 9.2710e-04 - val_loss: 2.8837e-04\n",
            "Epoch 82/100\n",
            "8/8 [==============================] - 0s 63ms/step - loss: 9.2971e-04 - val_loss: 2.8449e-04\n",
            "Epoch 83/100\n",
            "8/8 [==============================] - 1s 69ms/step - loss: 7.2064e-04 - val_loss: 3.6120e-04\n",
            "Epoch 84/100\n",
            "8/8 [==============================] - 1s 76ms/step - loss: 8.7810e-04 - val_loss: 3.1105e-04\n",
            "Epoch 85/100\n",
            "8/8 [==============================] - 0s 60ms/step - loss: 8.5389e-04 - val_loss: 3.1791e-04\n",
            "Epoch 86/100\n",
            "8/8 [==============================] - 0s 56ms/step - loss: 0.0011 - val_loss: 3.3861e-04\n",
            "Epoch 87/100\n",
            "8/8 [==============================] - 1s 85ms/step - loss: 7.6146e-04 - val_loss: 2.9356e-04\n",
            "Epoch 88/100\n",
            "8/8 [==============================] - 1s 83ms/step - loss: 7.9191e-04 - val_loss: 3.3590e-04\n",
            "Epoch 89/100\n",
            "8/8 [==============================] - 1s 80ms/step - loss: 7.1439e-04 - val_loss: 2.9104e-04\n",
            "Epoch 90/100\n",
            "8/8 [==============================] - 1s 62ms/step - loss: 7.9754e-04 - val_loss: 3.4620e-04\n",
            "Epoch 91/100\n",
            "8/8 [==============================] - 0s 64ms/step - loss: 9.7071e-04 - val_loss: 3.3759e-04\n",
            "Epoch 92/100\n",
            "8/8 [==============================] - 1s 68ms/step - loss: 7.8040e-04 - val_loss: 3.4342e-04\n",
            "Epoch 93/100\n",
            "8/8 [==============================] - 1s 67ms/step - loss: 8.7807e-04 - val_loss: 3.9702e-04\n",
            "Epoch 94/100\n",
            "8/8 [==============================] - 1s 65ms/step - loss: 9.9780e-04 - val_loss: 3.7290e-04\n",
            "Epoch 95/100\n",
            "8/8 [==============================] - 1s 73ms/step - loss: 7.1456e-04 - val_loss: 2.9487e-04\n",
            "Epoch 96/100\n",
            "8/8 [==============================] - 1s 83ms/step - loss: 6.9604e-04 - val_loss: 3.2029e-04\n",
            "Epoch 97/100\n",
            "8/8 [==============================] - 0s 60ms/step - loss: 6.6860e-04 - val_loss: 4.6268e-04\n",
            "Epoch 98/100\n",
            "8/8 [==============================] - 0s 64ms/step - loss: 9.7888e-04 - val_loss: 2.8901e-04\n",
            "Epoch 99/100\n",
            "8/8 [==============================] - 1s 80ms/step - loss: 0.0012 - val_loss: 4.6431e-04\n",
            "Epoch 100/100\n",
            "8/8 [==============================] - 1s 75ms/step - loss: 0.0011 - val_loss: 4.4679e-04\n"
          ]
        },
        {
          "output_type": "execute_result",
          "data": {
            "text/plain": [
              "<keras.callbacks.History at 0x7f4d9d049310>"
            ]
          },
          "metadata": {},
          "execution_count": 50
        }
      ]
    },
    {
      "cell_type": "code",
      "metadata": {
        "id": "DKTU4Cx-RAoz"
      },
      "source": [
        "train_predict=model2.predict(X_train)\n",
        "test_predict=model2.predict(X_test)"
      ],
      "execution_count": null,
      "outputs": []
    },
    {
      "cell_type": "code",
      "metadata": {
        "id": "c80-pT6_RGDF"
      },
      "source": [
        "train_predict=scaler.inverse_transform(train_predict)\n",
        "test_predict=scaler.inverse_transform(test_predict)"
      ],
      "execution_count": null,
      "outputs": []
    },
    {
      "cell_type": "markdown",
      "metadata": {
        "id": "jwiMRYEv25V_"
      },
      "source": [
        "# **Performence Matrix**"
      ]
    },
    {
      "cell_type": "markdown",
      "metadata": {
        "id": "OUW7jKjR3lBn"
      },
      "source": [
        "## **MSE**"
      ]
    },
    {
      "cell_type": "code",
      "metadata": {
        "id": "X6euaefY3oYO",
        "colab": {
          "base_uri": "https://localhost:8080/"
        },
        "outputId": "1800682a-c7f8-4800-e22e-a82a151c745d"
      },
      "source": [
        "mean_squared_error(y_train,train_predict)"
      ],
      "execution_count": null,
      "outputs": [
        {
          "output_type": "execute_result",
          "data": {
            "text/plain": [
              "21137038272.829105"
            ]
          },
          "metadata": {},
          "execution_count": 53
        }
      ]
    },
    {
      "cell_type": "code",
      "metadata": {
        "id": "Jzvy3zsE3oHT",
        "colab": {
          "base_uri": "https://localhost:8080/"
        },
        "outputId": "7dded9e3-47c5-40bd-de8c-6a8f590754a5"
      },
      "source": [
        "### Test Data RMSE\n",
        "mean_squared_error(ytest,test_predict)"
      ],
      "execution_count": null,
      "outputs": [
        {
          "output_type": "execute_result",
          "data": {
            "text/plain": [
              "1388884753.5570335"
            ]
          },
          "metadata": {},
          "execution_count": 54
        }
      ]
    },
    {
      "cell_type": "markdown",
      "metadata": {
        "id": "_zYu0ouP3f54"
      },
      "source": [
        "## **RMSE**"
      ]
    },
    {
      "cell_type": "code",
      "metadata": {
        "id": "qAI2cBvoRR9q",
        "colab": {
          "base_uri": "https://localhost:8080/"
        },
        "outputId": "1157d334-4ad7-4a16-eb11-d6915a3e5802"
      },
      "source": [
        "### Calculate RMSE performance metrics\n",
        "math.sqrt(mean_squared_error(y_train,train_predict))"
      ],
      "execution_count": null,
      "outputs": [
        {
          "output_type": "execute_result",
          "data": {
            "text/plain": [
              "145385.8255567891"
            ]
          },
          "metadata": {},
          "execution_count": 55
        }
      ]
    },
    {
      "cell_type": "code",
      "metadata": {
        "id": "nd0z2PoxRWgG",
        "colab": {
          "base_uri": "https://localhost:8080/"
        },
        "outputId": "9dcae4c2-23dc-4142-b5da-8a761d05c8de"
      },
      "source": [
        "### Test Data RMSE\n",
        "math.sqrt(mean_squared_error(ytest,test_predict))"
      ],
      "execution_count": null,
      "outputs": [
        {
          "output_type": "execute_result",
          "data": {
            "text/plain": [
              "37267.74414365637"
            ]
          },
          "metadata": {},
          "execution_count": 56
        }
      ]
    },
    {
      "cell_type": "markdown",
      "metadata": {
        "id": "NuVlHO-S419f"
      },
      "source": [
        "## **MAE**"
      ]
    },
    {
      "cell_type": "code",
      "metadata": {
        "id": "oeoC-fMA44ts",
        "colab": {
          "base_uri": "https://localhost:8080/"
        },
        "outputId": "f2b9b9c4-640b-42ba-8752-1a416c79db4e"
      },
      "source": [
        "mean_absolute_error(y_train,train_predict)"
      ],
      "execution_count": null,
      "outputs": [
        {
          "output_type": "execute_result",
          "data": {
            "text/plain": [
              "95296.35073838665"
            ]
          },
          "metadata": {},
          "execution_count": 57
        }
      ]
    },
    {
      "cell_type": "code",
      "metadata": {
        "id": "NLjEu_Xv45f-",
        "colab": {
          "base_uri": "https://localhost:8080/"
        },
        "outputId": "f56fab52-902c-45d8-a2ee-abfff2d5080a"
      },
      "source": [
        "### Test Data MAE\n",
        "mean_absolute_error(ytest,test_predict)"
      ],
      "execution_count": null,
      "outputs": [
        {
          "output_type": "execute_result",
          "data": {
            "text/plain": [
              "35788.62621812221"
            ]
          },
          "metadata": {},
          "execution_count": 58
        }
      ]
    },
    {
      "cell_type": "code",
      "metadata": {
        "id": "hYawp5LRRbpu",
        "colab": {
          "base_uri": "https://localhost:8080/",
          "height": 279
        },
        "outputId": "9f0a8acc-af5d-416a-c79c-f8e357ee1511"
      },
      "source": [
        "### Plotting \n",
        "# shift train predictions for plotting\n",
        "look_back=10\n",
        "trainPredictPlot = numpy.empty_like(df1)\n",
        "trainPredictPlot[:, :] = np.nan\n",
        "trainPredictPlot[look_back:len(train_predict)+look_back, :] = train_predict\n",
        "# shift test predictions for plotting\n",
        "testPredictPlot = numpy.empty_like(df1)\n",
        "testPredictPlot[:, :] = numpy.nan\n",
        "testPredictPlot[len(train_predict)+(look_back*2)+1:len(df1)-1, :] = test_predict\n",
        "# plot baseline and predictions\n",
        "plt.plot(scaler.inverse_transform(df1))\n",
        "plt.plot(trainPredictPlot)\n",
        "plt.plot(testPredictPlot)\n",
        "plt.xlabel('Days')\n",
        "plt.ylabel('Confirmed Cases')\n",
        "plt.show()"
      ],
      "execution_count": null,
      "outputs": [
        {
          "output_type": "display_data",
          "data": {
            "image/png": "[encoded data removed]",
            "text/plain": [
              "<Figure size 432x288 with 1 Axes>"
            ]
          },
          "metadata": {
            "needs_background": "light"
          }
        }
      ]
    },
    {
      "cell_type": "code",
      "metadata": {
        "id": "qYp7Gl0mSXVH",
        "colab": {
          "base_uri": "https://localhost:8080/"
        },
        "outputId": "c865d35e-b256-4830-9d89-bfc1a1cd0621"
      },
      "source": [
        "x_input=test_data[134:].reshape(1,-1)\n",
        "x_input.shape"
      ],
      "execution_count": null,
      "outputs": [
        {
          "output_type": "execute_result",
          "data": {
            "text/plain": [
              "(1, 10)"
            ]
          },
          "metadata": {},
          "execution_count": 60
        }
      ]
    },
    {
      "cell_type": "code",
      "metadata": {
        "id": "tJkxpncMSeAa"
      },
      "source": [
        "temp_input=list(x_input)\n",
        "temp_input=temp_input[0].tolist()"
      ],
      "execution_count": null,
      "outputs": []
    },
    {
      "cell_type": "code",
      "metadata": {
        "id": "VonUkKmuRfQv",
        "colab": {
          "base_uri": "https://localhost:8080/"
        },
        "outputId": "c77d5380-35f7-4384-8388-cf05652de853"
      },
      "source": [
        "# demonstrate prediction for next 10 days\n",
        "from numpy import array\n",
        "\n",
        "lst_output=[]\n",
        "n_steps=10\n",
        "i=0\n",
        "while(i<30):\n",
        "    \n",
        "    if(len(temp_input)>10):\n",
        "        #print(temp_input)\n",
        "        x_input=np.array(temp_input[1:])\n",
        "        print(\"{} day input {}\".format(i,x_input))\n",
        "        x_input=x_input.reshape(1,-1)\n",
        "        x_input = x_input.reshape((1, n_steps, 1))\n",
        "        #print(x_input)\n",
        "        yhat = model2.predict(x_input, verbose=0)\n",
        "        print(\"{} day output {}\".format(i,yhat))\n",
        "        temp_input.extend(yhat[0].tolist())\n",
        "        temp_input=temp_input[1:]\n",
        "        #print(temp_input)\n",
        "        lst_output.extend(yhat.tolist())\n",
        "        i=i+1\n",
        "    else:\n",
        "        x_input = x_input.reshape((1, n_steps,1))\n",
        "        yhat = model2.predict(x_input, verbose=0)\n",
        "        print(yhat[0])\n",
        "        temp_input.extend(yhat[0].tolist())\n",
        "        print(len(temp_input))\n",
        "        lst_output.extend(yhat.tolist())\n",
        "        i=i+1\n",
        "    \n",
        "\n",
        "print(lst_output)"
      ],
      "execution_count": null,
      "outputs": [
        {
          "output_type": "stream",
          "name": "stdout",
          "text": [
            "[0.04034822]\n",
            "11\n",
            "1 day input [0.0251649  0.02873816 0.03110906 0.03073242 0.02638657 0.02613789\n",
            " 0.02771205 0.02444784 0.02768308 0.04034822]\n",
            "1 day output [[0.04292107]]\n",
            "2 day input [0.02873816 0.03110906 0.03073242 0.02638657 0.02613789 0.02771205\n",
            " 0.02444784 0.02768308 0.04034822 0.04292107]\n",
            "2 day output [[0.0455535]]\n",
            "3 day input [0.03110906 0.03073242 0.02638657 0.02613789 0.02771205 0.02444784\n",
            " 0.02768308 0.04034822 0.04292107 0.0455535 ]\n",
            "3 day output [[0.04884038]]\n",
            "4 day input [0.03073242 0.02638657 0.02613789 0.02771205 0.02444784 0.02768308\n",
            " 0.04034822 0.04292107 0.0455535  0.04884038]\n",
            "4 day output [[0.05272193]]\n",
            "5 day input [0.02638657 0.02613789 0.02771205 0.02444784 0.02768308 0.04034822\n",
            " 0.04292107 0.0455535  0.04884038 0.05272193]\n",
            "5 day output [[0.05691379]]\n",
            "6 day input [0.02613789 0.02771205 0.02444784 0.02768308 0.04034822 0.04292107\n",
            " 0.0455535  0.04884038 0.05272193 0.05691379]\n",
            "6 day output [[0.06111928]]\n",
            "7 day input [0.02771205 0.02444784 0.02768308 0.04034822 0.04292107 0.0455535\n",
            " 0.04884038 0.05272193 0.05691379 0.06111928]\n",
            "7 day output [[0.06533074]]\n",
            "8 day input [0.02444784 0.02768308 0.04034822 0.04292107 0.0455535  0.04884038\n",
            " 0.05272193 0.05691379 0.06111928 0.06533074]\n",
            "8 day output [[0.06936445]]\n",
            "9 day input [0.02768308 0.04034822 0.04292107 0.0455535  0.04884038 0.05272193\n",
            " 0.05691379 0.06111928 0.06533074 0.06936445]\n",
            "9 day output [[0.07293683]]\n",
            "10 day input [0.04034822 0.04292107 0.0455535  0.04884038 0.05272193 0.05691379\n",
            " 0.06111928 0.06533074 0.06936445 0.07293683]\n",
            "10 day output [[0.07638915]]\n",
            "11 day input [0.04292107 0.0455535  0.04884038 0.05272193 0.05691379 0.06111928\n",
            " 0.06533074 0.06936445 0.07293683 0.07638915]\n",
            "11 day output [[0.08029794]]\n",
            "12 day input [0.0455535  0.04884038 0.05272193 0.05691379 0.06111928 0.06533074\n",
            " 0.06936445 0.07293683 0.07638915 0.08029794]\n",
            "12 day output [[0.08418811]]\n",
            "13 day input [0.04884038 0.05272193 0.05691379 0.06111928 0.06533074 0.06936445\n",
            " 0.07293683 0.07638915 0.08029794 0.08418811]\n",
            "13 day output [[0.08808855]]\n",
            "14 day input [0.05272193 0.05691379 0.06111928 0.06533074 0.06936445 0.07293683\n",
            " 0.07638915 0.08029794 0.08418811 0.08808855]\n",
            "14 day output [[0.09199493]]\n",
            "15 day input [0.05691379 0.06111928 0.06533074 0.06936445 0.07293683 0.07638915\n",
            " 0.08029794 0.08418811 0.08808855 0.09199493]\n",
            "15 day output [[0.09592224]]\n",
            "16 day input [0.06111928 0.06533074 0.06936445 0.07293683 0.07638915 0.08029794\n",
            " 0.08418811 0.08808855 0.09199493 0.09592224]\n",
            "16 day output [[0.09993345]]\n",
            "17 day input [0.06533074 0.06936445 0.07293683 0.07638915 0.08029794 0.08418811\n",
            " 0.08808855 0.09199493 0.09592224 0.09993345]\n",
            "17 day output [[0.1040886]]\n",
            "18 day input [0.06936445 0.07293683 0.07638915 0.08029794 0.08418811 0.08808855\n",
            " 0.09199493 0.09592224 0.09993345 0.1040886 ]\n",
            "18 day output [[0.10842381]]\n",
            "19 day input [0.07293683 0.07638915 0.08029794 0.08418811 0.08808855 0.09199493\n",
            " 0.09592224 0.09993345 0.1040886  0.10842381]\n",
            "19 day output [[0.11288042]]\n",
            "20 day input [0.07638915 0.08029794 0.08418811 0.08808855 0.09199493 0.09592224\n",
            " 0.09993345 0.1040886  0.10842381 0.11288042]\n",
            "20 day output [[0.11745975]]\n",
            "21 day input [0.08029794 0.08418811 0.08808855 0.09199493 0.09592224 0.09993345\n",
            " 0.1040886  0.10842381 0.11288042 0.11745975]\n",
            "21 day output [[0.12206468]]\n",
            "22 day input [0.08418811 0.08808855 0.09199493 0.09592224 0.09993345 0.1040886\n",
            " 0.10842381 0.11288042 0.11745975 0.12206468]\n",
            "22 day output [[0.12669799]]\n",
            "23 day input [0.08808855 0.09199493 0.09592224 0.09993345 0.1040886  0.10842381\n",
            " 0.11288042 0.11745975 0.12206468 0.12669799]\n",
            "23 day output [[0.1312981]]\n",
            "24 day input [0.09199493 0.09592224 0.09993345 0.1040886  0.10842381 0.11288042\n",
            " 0.11745975 0.12206468 0.12669799 0.13129809]\n",
            "24 day output [[0.13593116]]\n",
            "25 day input [0.09592224 0.09993345 0.1040886  0.10842381 0.11288042 0.11745975\n",
            " 0.12206468 0.12669799 0.13129809 0.13593116]\n",
            "25 day output [[0.14056592]]\n",
            "26 day input [0.09993345 0.1040886  0.10842381 0.11288042 0.11745975 0.12206468\n",
            " 0.12669799 0.13129809 0.13593116 0.14056592]\n",
            "26 day output [[0.14519219]]\n",
            "27 day input [0.1040886  0.10842381 0.11288042 0.11745975 0.12206468 0.12669799\n",
            " 0.13129809 0.13593116 0.14056592 0.14519219]\n",
            "27 day output [[0.14987719]]\n",
            "28 day input [0.10842381 0.11288042 0.11745975 0.12206468 0.12669799 0.13129809\n",
            " 0.13593116 0.14056592 0.14519219 0.14987719]\n",
            "28 day output [[0.15456052]]\n",
            "29 day input [0.11288042 0.11745975 0.12206468 0.12669799 0.13129809 0.13593116\n",
            " 0.14056592 0.14519219 0.14987719 0.15456052]\n",
            "29 day output [[0.15925504]]\n",
            "[[0.04034821689128876], [0.042921073734760284], [0.04555349797010422], [0.04884037747979164], [0.05272192880511284], [0.05691378563642502], [0.06111928075551987], [0.06533073633909225], [0.06936445087194443], [0.07293682545423508], [0.07638914883136749], [0.08029793947935104], [0.08418811112642288], [0.08808854967355728], [0.09199492633342743], [0.09592223912477493], [0.0999334529042244], [0.10408859699964523], [0.10842380672693253], [0.1128804162144661], [0.1174597516655922], [0.12206467986106873], [0.12669798731803894], [0.13129809498786926], [0.13593116402626038], [0.1405659168958664], [0.1451921910047531], [0.14987719058990479], [0.15456052124500275], [0.1592550426721573]]\n"
          ]
        }
      ]
    },
    {
      "cell_type": "code",
      "metadata": {
        "id": "mnLg9E0tStlB"
      },
      "source": [
        "day_new=np.arange(1,101)\n",
        "day_pred=np.arange(101,131)"
      ],
      "execution_count": null,
      "outputs": []
    },
    {
      "cell_type": "code",
      "metadata": {
        "id": "dPuNEx_USumh",
        "colab": {
          "base_uri": "https://localhost:8080/",
          "height": 296
        },
        "outputId": "83d7700b-c20f-45f7-86cf-870aad2b4a17"
      },
      "source": [
        "plt.plot(day_new,scaler.inverse_transform(df1[310:]))\n",
        "plt.plot(day_pred,scaler.inverse_transform(lst_output))\n",
        "plt.xlabel('Days')\n",
        "plt.ylabel('Confirmed Cases')"
      ],
      "execution_count": null,
      "outputs": [
        {
          "output_type": "execute_result",
          "data": {
            "text/plain": [
              "Text(0, 0.5, 'Confirmed Cases')"
            ]
          },
          "metadata": {},
          "execution_count": 64
        },
        {
          "output_type": "display_data",
          "data": {
            "image/png": "[encoded data removed]",
            "text/plain": [
              "<Figure size 432x288 with 1 Axes>"
            ]
          },
          "metadata": {
            "needs_background": "light"
          }
        }
      ]
    },
    {
      "cell_type": "code",
      "metadata": {
        "id": "MXIYtsiGSuch",
        "colab": {
          "base_uri": "https://localhost:8080/",
          "height": 296
        },
        "outputId": "051d0fb9-dbee-4813-eeaa-a1a844bcf537"
      },
      "source": [
        "df3=df1.tolist()\n",
        "df3.extend(lst_output)\n",
        "plt.plot(df3[300:])\n",
        "plt.xlabel('Days')\n",
        "plt.ylabel('Confirmed Cases')"
      ],
      "execution_count": null,
      "outputs": [
        {
          "output_type": "execute_result",
          "data": {
            "text/plain": [
              "Text(0, 0.5, 'Confirmed Cases')"
            ]
          },
          "metadata": {},
          "execution_count": 65
        },
        {
          "output_type": "display_data",
          "data": {
            "image/png": "[encoded data removed]",
            "text/plain": [
              "<Figure size 432x288 with 1 Axes>"
            ]
          },
          "metadata": {
            "needs_background": "light"
          }
        }
      ]
    },
    {
      "cell_type": "code",
      "metadata": {
        "id": "DecNMKBkTKFU",
        "colab": {
          "base_uri": "https://localhost:8080/",
          "height": 296
        },
        "outputId": "691fd899-0bde-4927-d6a0-2879ce85a2e1"
      },
      "source": [
        "df3=scaler.inverse_transform(df3).tolist()\n",
        "plt.plot(df3)\n",
        "plt.xlabel('Days')\n",
        "plt.ylabel('Confirmed Cases')"
      ],
      "execution_count": null,
      "outputs": [
        {
          "output_type": "execute_result",
          "data": {
            "text/plain": [
              "Text(0, 0.5, 'Confirmed Cases')"
            ]
          },
          "metadata": {},
          "execution_count": 66
        },
        {
          "output_type": "display_data",
          "data": {
            "image/png": "[encoded data removed]",
            "text/plain": [
              "<Figure size 432x288 with 1 Axes>"
            ]
          },
          "metadata": {
            "needs_background": "light"
          }
        }
      ]
    },
    {
      "cell_type": "markdown",
      "metadata": {
        "id": "PHtkAuHpXa3O"
      },
      "source": [
        "# **Vanilla LSTM**"
      ]
    },
    {
      "cell_type": "code",
      "metadata": {
        "id": "o812ihR9XnZD",
        "colab": {
          "base_uri": "https://localhost:8080/"
        },
        "outputId": "9d2d0aa4-95ee-4694-ce15-a200e6a7f834"
      },
      "source": [
        "model3 = Sequential()\n",
        "model3.add(LSTM(50, activation='relu', input_shape=(10, 1)))\n",
        "model3.add(Dense(1))\n",
        "model3.compile(loss='mean_squared_error',optimizer='adam')"
      ],
      "execution_count": null,
      "outputs": [
        {
          "output_type": "stream",
          "name": "stdout",
          "text": [
            "WARNING:tensorflow:Layer lstm_5 will not use cuDNN kernels since it doesn't meet the criteria. It will use a generic GPU kernel as fallback when running on GPU.\n"
          ]
        }
      ]
    },
    {
      "cell_type": "code",
      "metadata": {
        "id": "OUm4Xn7FYj15",
        "colab": {
          "base_uri": "https://localhost:8080/"
        },
        "outputId": "8a09f446-09ef-4c16-bee6-c80b55cc3179"
      },
      "source": [
        "model3.summary()"
      ],
      "execution_count": null,
      "outputs": [
        {
          "output_type": "stream",
          "name": "stdout",
          "text": [
            "Model: \"sequential_2\"\n",
            "_________________________________________________________________\n",
            " Layer (type)                Output Shape              Param #   \n",
            "=================================================================\n",
            " lstm_5 (LSTM)               (None, 50)                10400     \n",
            "                                                                 \n",
            " dense_2 (Dense)             (None, 1)                 51        \n",
            "                                                                 \n",
            "=================================================================\n",
            "Total params: 10,451\n",
            "Trainable params: 10,451\n",
            "Non-trainable params: 0\n",
            "_________________________________________________________________\n"
          ]
        }
      ]
    },
    {
      "cell_type": "code",
      "metadata": {
        "id": "77axoUvpX0FY",
        "colab": {
          "base_uri": "https://localhost:8080/"
        },
        "outputId": "01fde1e0-2de3-4db6-f53f-adb5e4604693"
      },
      "source": [
        "model3.fit(X_train,y_train,validation_data=(X_test,ytest),epochs=100,batch_size=32,verbose=1)"
      ],
      "execution_count": null,
      "outputs": [
        {
          "output_type": "stream",
          "name": "stdout",
          "text": [
            "Epoch 1/100\n",
            "8/8 [==============================] - 2s 68ms/step - loss: 0.0998 - val_loss: 0.0018\n",
            "Epoch 2/100\n",
            "8/8 [==============================] - 0s 39ms/step - loss: 0.0712 - val_loss: 7.1864e-04\n",
            "Epoch 3/100\n",
            "8/8 [==============================] - 0s 35ms/step - loss: 0.0451 - val_loss: 0.0032\n",
            "Epoch 4/100\n",
            "8/8 [==============================] - 0s 33ms/step - loss: 0.0270 - val_loss: 0.0089\n",
            "Epoch 5/100\n",
            "8/8 [==============================] - 0s 34ms/step - loss: 0.0159 - val_loss: 0.0109\n",
            "Epoch 6/100\n",
            "8/8 [==============================] - 0s 40ms/step - loss: 0.0101 - val_loss: 0.0049\n",
            "Epoch 7/100\n",
            "8/8 [==============================] - 0s 34ms/step - loss: 0.0060 - val_loss: 7.2210e-04\n",
            "Epoch 8/100\n",
            "8/8 [==============================] - 0s 36ms/step - loss: 0.0047 - val_loss: 3.7294e-04\n",
            "Epoch 9/100\n",
            "8/8 [==============================] - 0s 34ms/step - loss: 0.0047 - val_loss: 3.2081e-04\n",
            "Epoch 10/100\n",
            "8/8 [==============================] - 0s 39ms/step - loss: 0.0044 - val_loss: 3.2926e-04\n",
            "Epoch 11/100\n",
            "8/8 [==============================] - 0s 34ms/step - loss: 0.0040 - val_loss: 5.7576e-04\n",
            "Epoch 12/100\n",
            "8/8 [==============================] - 0s 43ms/step - loss: 0.0039 - val_loss: 4.3320e-04\n",
            "Epoch 13/100\n",
            "8/8 [==============================] - 0s 33ms/step - loss: 0.0037 - val_loss: 2.9761e-04\n",
            "Epoch 14/100\n",
            "8/8 [==============================] - 0s 36ms/step - loss: 0.0035 - val_loss: 3.5763e-04\n",
            "Epoch 15/100\n",
            "8/8 [==============================] - 0s 34ms/step - loss: 0.0032 - val_loss: 2.9820e-04\n",
            "Epoch 16/100\n",
            "8/8 [==============================] - 0s 45ms/step - loss: 0.0031 - val_loss: 4.1453e-04\n",
            "Epoch 17/100\n",
            "8/8 [==============================] - 0s 46ms/step - loss: 0.0029 - val_loss: 3.2760e-04\n",
            "Epoch 18/100\n",
            "8/8 [==============================] - 0s 56ms/step - loss: 0.0027 - val_loss: 2.9859e-04\n",
            "Epoch 19/100\n",
            "8/8 [==============================] - 0s 32ms/step - loss: 0.0025 - val_loss: 3.8460e-04\n",
            "Epoch 20/100\n",
            "8/8 [==============================] - 0s 37ms/step - loss: 0.0023 - val_loss: 2.9556e-04\n",
            "Epoch 21/100\n",
            "8/8 [==============================] - 0s 35ms/step - loss: 0.0020 - val_loss: 2.8504e-04\n",
            "Epoch 22/100\n",
            "8/8 [==============================] - 0s 37ms/step - loss: 0.0018 - val_loss: 2.7938e-04\n",
            "Epoch 23/100\n",
            "8/8 [==============================] - 0s 33ms/step - loss: 0.0016 - val_loss: 2.9036e-04\n",
            "Epoch 24/100\n",
            "8/8 [==============================] - 0s 34ms/step - loss: 0.0017 - val_loss: 3.0231e-04\n",
            "Epoch 25/100\n",
            "8/8 [==============================] - 0s 36ms/step - loss: 0.0013 - val_loss: 3.2431e-04\n",
            "Epoch 26/100\n",
            "8/8 [==============================] - 0s 39ms/step - loss: 0.0011 - val_loss: 3.0272e-04\n",
            "Epoch 27/100\n",
            "8/8 [==============================] - 0s 45ms/step - loss: 0.0011 - val_loss: 2.8636e-04\n",
            "Epoch 28/100\n",
            "8/8 [==============================] - 0s 37ms/step - loss: 0.0011 - val_loss: 3.3773e-04\n",
            "Epoch 29/100\n",
            "8/8 [==============================] - 0s 38ms/step - loss: 0.0012 - val_loss: 7.2331e-04\n",
            "Epoch 30/100\n",
            "8/8 [==============================] - 0s 32ms/step - loss: 0.0012 - val_loss: 3.9745e-04\n",
            "Epoch 31/100\n",
            "8/8 [==============================] - 0s 37ms/step - loss: 0.0013 - val_loss: 3.3105e-04\n",
            "Epoch 32/100\n",
            "8/8 [==============================] - 0s 39ms/step - loss: 0.0012 - val_loss: 3.7870e-04\n",
            "Epoch 33/100\n",
            "8/8 [==============================] - 0s 37ms/step - loss: 0.0011 - val_loss: 3.3747e-04\n",
            "Epoch 34/100\n",
            "8/8 [==============================] - 0s 35ms/step - loss: 0.0011 - val_loss: 3.6172e-04\n",
            "Epoch 35/100\n",
            "8/8 [==============================] - 0s 38ms/step - loss: 0.0012 - val_loss: 2.8659e-04\n",
            "Epoch 36/100\n",
            "8/8 [==============================] - 0s 38ms/step - loss: 0.0012 - val_loss: 4.0772e-04\n",
            "Epoch 37/100\n",
            "8/8 [==============================] - 0s 35ms/step - loss: 0.0011 - val_loss: 3.8338e-04\n",
            "Epoch 38/100\n",
            "8/8 [==============================] - 0s 33ms/step - loss: 0.0013 - val_loss: 3.7626e-04\n",
            "Epoch 39/100\n",
            "8/8 [==============================] - 0s 35ms/step - loss: 0.0011 - val_loss: 3.1260e-04\n",
            "Epoch 40/100\n",
            "8/8 [==============================] - 0s 33ms/step - loss: 0.0011 - val_loss: 4.7506e-04\n",
            "Epoch 41/100\n",
            "8/8 [==============================] - 0s 33ms/step - loss: 0.0014 - val_loss: 3.2879e-04\n",
            "Epoch 42/100\n",
            "8/8 [==============================] - 0s 40ms/step - loss: 0.0012 - val_loss: 4.2256e-04\n",
            "Epoch 43/100\n",
            "8/8 [==============================] - 0s 44ms/step - loss: 0.0012 - val_loss: 4.4203e-04\n",
            "Epoch 44/100\n",
            "8/8 [==============================] - 0s 45ms/step - loss: 0.0011 - val_loss: 3.0051e-04\n",
            "Epoch 45/100\n",
            "8/8 [==============================] - 0s 39ms/step - loss: 9.3346e-04 - val_loss: 2.9339e-04\n",
            "Epoch 46/100\n",
            "8/8 [==============================] - 0s 46ms/step - loss: 0.0010 - val_loss: 2.8735e-04\n",
            "Epoch 47/100\n",
            "8/8 [==============================] - 0s 34ms/step - loss: 0.0013 - val_loss: 6.7005e-04\n",
            "Epoch 48/100\n",
            "8/8 [==============================] - 0s 35ms/step - loss: 9.8808e-04 - val_loss: 3.8281e-04\n",
            "Epoch 49/100\n",
            "8/8 [==============================] - 0s 35ms/step - loss: 9.5515e-04 - val_loss: 3.5820e-04\n",
            "Epoch 50/100\n",
            "8/8 [==============================] - 0s 37ms/step - loss: 9.2247e-04 - val_loss: 2.8378e-04\n",
            "Epoch 51/100\n",
            "8/8 [==============================] - 0s 34ms/step - loss: 8.9924e-04 - val_loss: 2.8368e-04\n",
            "Epoch 52/100\n",
            "8/8 [==============================] - 0s 38ms/step - loss: 8.9936e-04 - val_loss: 3.8425e-04\n",
            "Epoch 53/100\n",
            "8/8 [==============================] - 0s 35ms/step - loss: 9.4619e-04 - val_loss: 2.8607e-04\n",
            "Epoch 54/100\n",
            "8/8 [==============================] - 0s 36ms/step - loss: 8.4991e-04 - val_loss: 3.3317e-04\n",
            "Epoch 55/100\n",
            "8/8 [==============================] - 0s 40ms/step - loss: 8.5907e-04 - val_loss: 2.8279e-04\n",
            "Epoch 56/100\n",
            "8/8 [==============================] - 0s 33ms/step - loss: 8.5978e-04 - val_loss: 3.9017e-04\n",
            "Epoch 57/100\n",
            "8/8 [==============================] - 0s 47ms/step - loss: 9.5020e-04 - val_loss: 3.3024e-04\n",
            "Epoch 58/100\n",
            "8/8 [==============================] - 0s 45ms/step - loss: 0.0010 - val_loss: 3.1390e-04\n",
            "Epoch 59/100\n",
            "8/8 [==============================] - 0s 38ms/step - loss: 0.0011 - val_loss: 5.5844e-04\n",
            "Epoch 60/100\n",
            "8/8 [==============================] - 0s 37ms/step - loss: 0.0011 - val_loss: 3.1126e-04\n",
            "Epoch 61/100\n",
            "8/8 [==============================] - 0s 37ms/step - loss: 0.0011 - val_loss: 3.2726e-04\n",
            "Epoch 62/100\n",
            "8/8 [==============================] - 0s 38ms/step - loss: 0.0013 - val_loss: 0.0012\n",
            "Epoch 63/100\n",
            "8/8 [==============================] - 0s 35ms/step - loss: 0.0018 - val_loss: 6.6232e-04\n",
            "Epoch 64/100\n",
            "8/8 [==============================] - 0s 36ms/step - loss: 0.0014 - val_loss: 3.0135e-04\n",
            "Epoch 65/100\n",
            "8/8 [==============================] - 0s 46ms/step - loss: 0.0011 - val_loss: 3.9269e-04\n",
            "Epoch 66/100\n",
            "8/8 [==============================] - 0s 49ms/step - loss: 0.0010 - val_loss: 3.3919e-04\n",
            "Epoch 67/100\n",
            "8/8 [==============================] - 0s 38ms/step - loss: 9.5087e-04 - val_loss: 4.6240e-04\n",
            "Epoch 68/100\n",
            "8/8 [==============================] - 0s 35ms/step - loss: 8.8637e-04 - val_loss: 2.9659e-04\n",
            "Epoch 69/100\n",
            "8/8 [==============================] - 0s 33ms/step - loss: 8.1154e-04 - val_loss: 2.9662e-04\n",
            "Epoch 70/100\n",
            "8/8 [==============================] - 0s 34ms/step - loss: 7.6788e-04 - val_loss: 3.0216e-04\n",
            "Epoch 71/100\n",
            "8/8 [==============================] - 0s 43ms/step - loss: 7.9918e-04 - val_loss: 4.9897e-04\n",
            "Epoch 72/100\n",
            "8/8 [==============================] - 0s 40ms/step - loss: 8.2126e-04 - val_loss: 3.8333e-04\n",
            "Epoch 73/100\n",
            "8/8 [==============================] - 0s 41ms/step - loss: 8.2246e-04 - val_loss: 3.6786e-04\n",
            "Epoch 74/100\n",
            "8/8 [==============================] - 0s 47ms/step - loss: 7.8934e-04 - val_loss: 3.0387e-04\n",
            "Epoch 75/100\n",
            "8/8 [==============================] - 0s 35ms/step - loss: 7.4654e-04 - val_loss: 2.8754e-04\n",
            "Epoch 76/100\n",
            "8/8 [==============================] - 0s 37ms/step - loss: 7.1785e-04 - val_loss: 2.9754e-04\n",
            "Epoch 77/100\n",
            "8/8 [==============================] - 0s 38ms/step - loss: 7.9938e-04 - val_loss: 3.7078e-04\n",
            "Epoch 78/100\n",
            "8/8 [==============================] - 0s 43ms/step - loss: 8.1755e-04 - val_loss: 3.4864e-04\n",
            "Epoch 79/100\n",
            "8/8 [==============================] - 0s 37ms/step - loss: 7.8021e-04 - val_loss: 3.7671e-04\n",
            "Epoch 80/100\n",
            "8/8 [==============================] - 0s 36ms/step - loss: 7.6269e-04 - val_loss: 3.3750e-04\n",
            "Epoch 81/100\n",
            "8/8 [==============================] - 0s 36ms/step - loss: 6.9118e-04 - val_loss: 3.8144e-04\n",
            "Epoch 82/100\n",
            "8/8 [==============================] - 0s 34ms/step - loss: 7.0033e-04 - val_loss: 2.9202e-04\n",
            "Epoch 83/100\n",
            "8/8 [==============================] - 0s 35ms/step - loss: 7.2479e-04 - val_loss: 2.9706e-04\n",
            "Epoch 84/100\n",
            "8/8 [==============================] - 0s 47ms/step - loss: 7.9971e-04 - val_loss: 3.0718e-04\n",
            "Epoch 85/100\n",
            "8/8 [==============================] - 0s 47ms/step - loss: 7.6302e-04 - val_loss: 4.3850e-04\n",
            "Epoch 86/100\n",
            "8/8 [==============================] - 0s 46ms/step - loss: 7.5664e-04 - val_loss: 3.3017e-04\n",
            "Epoch 87/100\n",
            "8/8 [==============================] - 0s 34ms/step - loss: 8.4131e-04 - val_loss: 3.8048e-04\n",
            "Epoch 88/100\n",
            "8/8 [==============================] - 0s 36ms/step - loss: 9.4007e-04 - val_loss: 4.9376e-04\n",
            "Epoch 89/100\n",
            "8/8 [==============================] - 0s 36ms/step - loss: 8.3849e-04 - val_loss: 3.0084e-04\n",
            "Epoch 90/100\n",
            "8/8 [==============================] - 0s 44ms/step - loss: 6.7832e-04 - val_loss: 3.1603e-04\n",
            "Epoch 91/100\n",
            "8/8 [==============================] - 0s 35ms/step - loss: 6.4384e-04 - val_loss: 3.1164e-04\n",
            "Epoch 92/100\n",
            "8/8 [==============================] - 0s 34ms/step - loss: 6.5023e-04 - val_loss: 2.9103e-04\n",
            "Epoch 93/100\n",
            "8/8 [==============================] - 0s 36ms/step - loss: 8.0186e-04 - val_loss: 4.4196e-04\n",
            "Epoch 94/100\n",
            "8/8 [==============================] - 0s 42ms/step - loss: 6.7628e-04 - val_loss: 2.9899e-04\n",
            "Epoch 95/100\n",
            "8/8 [==============================] - 0s 36ms/step - loss: 6.2897e-04 - val_loss: 2.9694e-04\n",
            "Epoch 96/100\n",
            "8/8 [==============================] - 0s 36ms/step - loss: 5.9651e-04 - val_loss: 3.1722e-04\n",
            "Epoch 97/100\n",
            "8/8 [==============================] - 0s 43ms/step - loss: 6.4763e-04 - val_loss: 2.9274e-04\n",
            "Epoch 98/100\n",
            "8/8 [==============================] - 0s 48ms/step - loss: 6.0894e-04 - val_loss: 2.9812e-04\n",
            "Epoch 99/100\n",
            "8/8 [==============================] - 0s 48ms/step - loss: 5.8859e-04 - val_loss: 2.9675e-04\n",
            "Epoch 100/100\n",
            "8/8 [==============================] - 0s 33ms/step - loss: 6.1622e-04 - val_loss: 3.9065e-04\n"
          ]
        },
        {
          "output_type": "execute_result",
          "data": {
            "text/plain": [
              "<keras.callbacks.History at 0x7f4d768a4050>"
            ]
          },
          "metadata": {},
          "execution_count": 69
        }
      ]
    },
    {
      "cell_type": "markdown",
      "metadata": {
        "id": "5M2nxSRnGbPe"
      },
      "source": [
        "# **Prediction**"
      ]
    },
    {
      "cell_type": "code",
      "metadata": {
        "id": "rJVXqWhpX7Tb"
      },
      "source": [
        "train_predict=model3.predict(X_train)\n",
        "test_predict=model3.predict(X_test)\n",
        "##Transformback to original form\n",
        "train_predict=scaler.inverse_transform(train_predict)\n",
        "test_predict=scaler.inverse_transform(test_predict)"
      ],
      "execution_count": null,
      "outputs": []
    },
    {
      "cell_type": "markdown",
      "metadata": {
        "id": "g-w5UmOj4IOd"
      },
      "source": [
        "# **Performence Matrix**"
      ]
    },
    {
      "cell_type": "markdown",
      "metadata": {
        "id": "eywpegkK4NtM"
      },
      "source": [
        "## **MSE**"
      ]
    },
    {
      "cell_type": "code",
      "metadata": {
        "id": "tbIamdNo308X",
        "colab": {
          "base_uri": "https://localhost:8080/"
        },
        "outputId": "5593e1f0-7a0a-4522-99a2-14a70ea730d4"
      },
      "source": [
        "mean_squared_error(y_train,train_predict)"
      ],
      "execution_count": null,
      "outputs": [
        {
          "output_type": "execute_result",
          "data": {
            "text/plain": [
              "20652855855.901485"
            ]
          },
          "metadata": {},
          "execution_count": 71
        }
      ]
    },
    {
      "cell_type": "code",
      "metadata": {
        "id": "DqTB-fCR32R9",
        "colab": {
          "base_uri": "https://localhost:8080/"
        },
        "outputId": "627ba6d1-9e1c-4ce2-d8d1-febaa75c9c1a"
      },
      "source": [
        "### Test Data RMSE\n",
        "mean_squared_error(ytest,test_predict)"
      ],
      "execution_count": null,
      "outputs": [
        {
          "output_type": "execute_result",
          "data": {
            "text/plain": [
              "1314373009.5405548"
            ]
          },
          "metadata": {},
          "execution_count": 72
        }
      ]
    },
    {
      "cell_type": "markdown",
      "metadata": {
        "id": "pOZ9kfqz4RoV"
      },
      "source": [
        "## **RMSE**"
      ]
    },
    {
      "cell_type": "code",
      "metadata": {
        "id": "--q1N7beY3YU",
        "colab": {
          "base_uri": "https://localhost:8080/"
        },
        "outputId": "828f9afc-ac13-4dc9-a5ad-dfa365db255d"
      },
      "source": [
        "### Calculate RMSE performance metrics\n",
        "math.sqrt(mean_squared_error(y_train,train_predict))"
      ],
      "execution_count": null,
      "outputs": [
        {
          "output_type": "execute_result",
          "data": {
            "text/plain": [
              "143711.01508200922"
            ]
          },
          "metadata": {},
          "execution_count": 73
        }
      ]
    },
    {
      "cell_type": "code",
      "metadata": {
        "id": "Q3SRTZsPZEiS",
        "colab": {
          "base_uri": "https://localhost:8080/"
        },
        "outputId": "e2813dc5-b415-45e7-ecbf-e73848976c72"
      },
      "source": [
        "### Test Data RMSE\n",
        "math.sqrt(mean_squared_error(ytest,test_predict))"
      ],
      "execution_count": null,
      "outputs": [
        {
          "output_type": "execute_result",
          "data": {
            "text/plain": [
              "36254.28263723549"
            ]
          },
          "metadata": {},
          "execution_count": 74
        }
      ]
    },
    {
      "cell_type": "markdown",
      "metadata": {
        "id": "_wxLwd0a48gP"
      },
      "source": [
        "## **MAE**"
      ]
    },
    {
      "cell_type": "code",
      "metadata": {
        "id": "gkjFSXhH5AsU",
        "colab": {
          "base_uri": "https://localhost:8080/"
        },
        "outputId": "9bf0a68c-b3dd-4570-950e-a15e4100d6dc"
      },
      "source": [
        "mean_absolute_error(y_train,train_predict)"
      ],
      "execution_count": null,
      "outputs": [
        {
          "output_type": "execute_result",
          "data": {
            "text/plain": [
              "93724.9929833315"
            ]
          },
          "metadata": {},
          "execution_count": 75
        }
      ]
    },
    {
      "cell_type": "code",
      "metadata": {
        "id": "X1nPg-Pj5Ait",
        "colab": {
          "base_uri": "https://localhost:8080/"
        },
        "outputId": "b01b2425-cdc1-4f99-89fe-5ff5d14efa95"
      },
      "source": [
        "### Test Data MAE\n",
        "mean_absolute_error(ytest,test_predict)"
      ],
      "execution_count": null,
      "outputs": [
        {
          "output_type": "execute_result",
          "data": {
            "text/plain": [
              "34612.11483713067"
            ]
          },
          "metadata": {},
          "execution_count": 76
        }
      ]
    },
    {
      "cell_type": "code",
      "metadata": {
        "id": "QZ2NR-WDZGTa",
        "colab": {
          "base_uri": "https://localhost:8080/",
          "height": 279
        },
        "outputId": "3acf0c0a-6b7a-4086-b8fe-7f4b15615fc8"
      },
      "source": [
        "### Plotting \n",
        "# shift train predictions for plotting\n",
        "look_back=10\n",
        "trainPredictPlot = numpy.empty_like(df1)\n",
        "trainPredictPlot[:, :] = np.nan\n",
        "trainPredictPlot[look_back:len(train_predict)+look_back, :] = train_predict\n",
        "# shift test predictions for plotting\n",
        "testPredictPlot = numpy.empty_like(df1)\n",
        "testPredictPlot[:, :] = numpy.nan\n",
        "testPredictPlot[len(train_predict)+(look_back*2)+1:len(df1)-1, :] = test_predict\n",
        "# plot baseline and predictions\n",
        "plt.plot(scaler.inverse_transform(df1))\n",
        "plt.plot(trainPredictPlot)\n",
        "plt.plot(testPredictPlot)\n",
        "plt.xlabel('Days')\n",
        "plt.ylabel('Confirmed Cases')\n",
        "plt.show()"
      ],
      "execution_count": null,
      "outputs": [
        {
          "output_type": "display_data",
          "data": {
            "image/png": "[encoded data removed]",
            "text/plain": [
              "<Figure size 432x288 with 1 Axes>"
            ]
          },
          "metadata": {
            "needs_background": "light"
          }
        }
      ]
    },
    {
      "cell_type": "code",
      "metadata": {
        "id": "NvkswuURZO91",
        "colab": {
          "base_uri": "https://localhost:8080/"
        },
        "outputId": "78fa17db-de6c-4590-c602-6bcc666cd4ef"
      },
      "source": [
        "x_input=test_data[134:].reshape(1,-1)\n",
        "x_input.shape"
      ],
      "execution_count": null,
      "outputs": [
        {
          "output_type": "execute_result",
          "data": {
            "text/plain": [
              "(1, 10)"
            ]
          },
          "metadata": {},
          "execution_count": 78
        }
      ]
    },
    {
      "cell_type": "code",
      "metadata": {
        "id": "C3xPO9GNZZqq"
      },
      "source": [
        "temp_input=list(x_input)\n",
        "temp_input=temp_input[0].tolist()"
      ],
      "execution_count": null,
      "outputs": []
    },
    {
      "cell_type": "code",
      "metadata": {
        "id": "iGbwDep0ZbHy",
        "colab": {
          "base_uri": "https://localhost:8080/"
        },
        "outputId": "e9f5e104-9832-4750-84b7-03590319fbf0"
      },
      "source": [
        "# demonstrate prediction for next 10 days\n",
        "from numpy import array\n",
        "\n",
        "lst_output=[]\n",
        "n_steps=10\n",
        "i=0\n",
        "while(i<30):\n",
        "    \n",
        "    if(len(temp_input)>10):\n",
        "        #print(temp_input)\n",
        "        x_input=np.array(temp_input[1:])\n",
        "        print(\"{} day input {}\".format(i,x_input))\n",
        "        x_input=x_input.reshape(1,-1)\n",
        "        x_input = x_input.reshape((1, n_steps, 1))\n",
        "        #print(x_input)\n",
        "        yhat = model3.predict(x_input, verbose=0)\n",
        "        print(\"{} day output {}\".format(i,yhat))\n",
        "        temp_input.extend(yhat[0].tolist())\n",
        "        temp_input=temp_input[1:]\n",
        "        #print(temp_input)\n",
        "        lst_output.extend(yhat.tolist())\n",
        "        i=i+1\n",
        "    else:\n",
        "        x_input = x_input.reshape((1, n_steps,1))\n",
        "        yhat = model3.predict(x_input, verbose=0)\n",
        "        print(yhat[0])\n",
        "        temp_input.extend(yhat[0].tolist())\n",
        "        print(len(temp_input))\n",
        "        lst_output.extend(yhat.tolist())\n",
        "        i=i+1\n",
        "    \n",
        "\n",
        "print(lst_output)"
      ],
      "execution_count": null,
      "outputs": [
        {
          "output_type": "stream",
          "name": "stdout",
          "text": [
            "[0.03555048]\n",
            "11\n",
            "1 day input [0.0251649  0.02873816 0.03110906 0.03073242 0.02638657 0.02613789\n",
            " 0.02771205 0.02444784 0.02768308 0.03555048]\n",
            "1 day output [[0.03731896]]\n",
            "2 day input [0.02873816 0.03110906 0.03073242 0.02638657 0.02613789 0.02771205\n",
            " 0.02444784 0.02768308 0.03555048 0.03731896]\n",
            "2 day output [[0.03899707]]\n",
            "3 day input [0.03110906 0.03073242 0.02638657 0.02613789 0.02771205 0.02444784\n",
            " 0.02768308 0.03555048 0.03731896 0.03899707]\n",
            "3 day output [[0.04160474]]\n",
            "4 day input [0.03073242 0.02638657 0.02613789 0.02771205 0.02444784 0.02768308\n",
            " 0.03555048 0.03731896 0.03899707 0.04160474]\n",
            "4 day output [[0.04509586]]\n",
            "5 day input [0.02638657 0.02613789 0.02771205 0.02444784 0.02768308 0.03555048\n",
            " 0.03731896 0.03899707 0.04160474 0.04509586]\n",
            "5 day output [[0.04920647]]\n",
            "6 day input [0.02613789 0.02771205 0.02444784 0.02768308 0.03555048 0.03731896\n",
            " 0.03899707 0.04160474 0.04509586 0.04920647]\n",
            "6 day output [[0.0532243]]\n",
            "7 day input [0.02771205 0.02444784 0.02768308 0.03555048 0.03731896 0.03899707\n",
            " 0.04160474 0.04509586 0.04920647 0.0532243 ]\n",
            "7 day output [[0.05731846]]\n",
            "8 day input [0.02444784 0.02768308 0.03555048 0.03731896 0.03899707 0.04160474\n",
            " 0.04509586 0.04920647 0.0532243  0.05731846]\n",
            "8 day output [[0.06163206]]\n",
            "9 day input [0.02768308 0.03555048 0.03731896 0.03899707 0.04160474 0.04509586\n",
            " 0.04920647 0.0532243  0.05731846 0.06163206]\n",
            "9 day output [[0.0654323]]\n",
            "10 day input [0.03555048 0.03731896 0.03899707 0.04160474 0.04509586 0.04920647\n",
            " 0.0532243  0.05731846 0.06163206 0.0654323 ]\n",
            "10 day output [[0.06920239]]\n",
            "11 day input [0.03731896 0.03899707 0.04160474 0.04509586 0.04920647 0.0532243\n",
            " 0.05731846 0.06163206 0.0654323  0.06920239]\n",
            "11 day output [[0.07373679]]\n",
            "12 day input [0.03899707 0.04160474 0.04509586 0.04920647 0.0532243  0.05731846\n",
            " 0.06163206 0.0654323  0.06920239 0.07373679]\n",
            "12 day output [[0.07834986]]\n",
            "13 day input [0.04160474 0.04509586 0.04920647 0.0532243  0.05731846 0.06163206\n",
            " 0.0654323  0.06920239 0.07373679 0.07834986]\n",
            "13 day output [[0.08290634]]\n",
            "14 day input [0.04509586 0.04920647 0.0532243  0.05731846 0.06163206 0.0654323\n",
            " 0.06920239 0.07373679 0.07834986 0.08290634]\n",
            "14 day output [[0.08741149]]\n",
            "15 day input [0.04920647 0.0532243  0.05731846 0.06163206 0.0654323  0.06920239\n",
            " 0.07373679 0.07834986 0.08290634 0.08741149]\n",
            "15 day output [[0.09191951]]\n",
            "16 day input [0.0532243  0.05731846 0.06163206 0.0654323  0.06920239 0.07373679\n",
            " 0.07834986 0.08290634 0.08741149 0.09191951]\n",
            "16 day output [[0.09658316]]\n",
            "17 day input [0.05731846 0.06163206 0.0654323  0.06920239 0.07373679 0.07834986\n",
            " 0.08290634 0.08741149 0.09191951 0.09658316]\n",
            "17 day output [[0.10135387]]\n",
            "18 day input [0.06163206 0.0654323  0.06920239 0.07373679 0.07834986 0.08290634\n",
            " 0.08741149 0.09191951 0.09658316 0.10135387]\n",
            "18 day output [[0.10623495]]\n",
            "19 day input [0.0654323  0.06920239 0.07373679 0.07834986 0.08290634 0.08741149\n",
            " 0.09191951 0.09658316 0.10135387 0.10623495]\n",
            "19 day output [[0.11124061]]\n",
            "20 day input [0.06920239 0.07373679 0.07834986 0.08290634 0.08741149 0.09191951\n",
            " 0.09658316 0.10135387 0.10623495 0.11124061]\n",
            "20 day output [[0.11629297]]\n",
            "21 day input [0.07373679 0.07834986 0.08290634 0.08741149 0.09191951 0.09658316\n",
            " 0.10135387 0.10623495 0.11124061 0.11629297]\n",
            "21 day output [[0.1213522]]\n",
            "22 day input [0.07834986 0.08290634 0.08741149 0.09191951 0.09658316 0.10135387\n",
            " 0.10623495 0.11124061 0.11629297 0.1213522 ]\n",
            "22 day output [[0.12652482]]\n",
            "23 day input [0.08290634 0.08741149 0.09191951 0.09658316 0.10135387 0.10623495\n",
            " 0.11124061 0.11629297 0.1213522  0.12652482]\n",
            "23 day output [[0.13183361]]\n",
            "24 day input [0.08741149 0.09191951 0.09658316 0.10135387 0.10623495 0.11124061\n",
            " 0.11629297 0.1213522  0.12652482 0.13183361]\n",
            "24 day output [[0.13730492]]\n",
            "25 day input [0.09191951 0.09658316 0.10135387 0.10623495 0.11124061 0.11629297\n",
            " 0.1213522  0.12652482 0.13183361 0.13730492]\n",
            "25 day output [[0.14289811]]\n",
            "26 day input [0.09658316 0.10135387 0.10623495 0.11124061 0.11629297 0.1213522\n",
            " 0.12652482 0.13183361 0.13730492 0.14289811]\n",
            "26 day output [[0.14861624]]\n",
            "27 day input [0.10135387 0.10623495 0.11124061 0.11629297 0.1213522  0.12652482\n",
            " 0.13183361 0.13730492 0.14289811 0.14861624]\n",
            "27 day output [[0.15443657]]\n",
            "28 day input [0.10623495 0.11124061 0.11629297 0.1213522  0.12652482 0.13183361\n",
            " 0.13730492 0.14289811 0.14861624 0.15443657]\n",
            "28 day output [[0.16043106]]\n",
            "29 day input [0.11124061 0.11629297 0.1213522  0.12652482 0.13183361 0.13730492\n",
            " 0.14289811 0.14861624 0.15443657 0.16043106]\n",
            "29 day output [[0.16674022]]\n",
            "[[0.035550475120544434], [0.03731895983219147], [0.038997069001197815], [0.04160473868250847], [0.045095860958099365], [0.04920647293329239], [0.05322430282831192], [0.05731845647096634], [0.06163206323981285], [0.06543229520320892], [0.06920239329338074], [0.07373678684234619], [0.07834985852241516], [0.0829063355922699], [0.08741149306297302], [0.09191951155662537], [0.09658315777778625], [0.10135386884212494], [0.10623495280742645], [0.11124061048030853], [0.11629296839237213], [0.1213521957397461], [0.12652482092380524], [0.13183361291885376], [0.13730491697788239], [0.14289811253547668], [0.1486162394285202], [0.15443657338619232], [0.16043105721473694], [0.16674022376537323]]\n"
          ]
        }
      ]
    },
    {
      "cell_type": "code",
      "metadata": {
        "id": "WDKNYR_HZlMg"
      },
      "source": [
        "day_new=np.arange(1,101)\n",
        "day_pred=np.arange(101,131)   "
      ],
      "execution_count": null,
      "outputs": []
    },
    {
      "cell_type": "code",
      "metadata": {
        "id": "TJdnmujbZlIP",
        "colab": {
          "base_uri": "https://localhost:8080/",
          "height": 296
        },
        "outputId": "92ce0605-26de-4b61-8970-9812f3ebe933"
      },
      "source": [
        "plt.plot(day_new,scaler.inverse_transform(df1[310:]))\n",
        "plt.plot(day_pred,scaler.inverse_transform(lst_output))\n",
        "plt.xlabel('Days')\n",
        "plt.ylabel('Confirmed Cases')"
      ],
      "execution_count": null,
      "outputs": [
        {
          "output_type": "execute_result",
          "data": {
            "text/plain": [
              "Text(0, 0.5, 'Confirmed Cases')"
            ]
          },
          "metadata": {},
          "execution_count": 82
        },
        {
          "output_type": "display_data",
          "data": {
            "image/png": "[encoded data removed]",
            "text/plain": [
              "<Figure size 432x288 with 1 Axes>"
            ]
          },
          "metadata": {
            "needs_background": "light"
          }
        }
      ]
    },
    {
      "cell_type": "code",
      "metadata": {
        "id": "uq5ZynCaZlDu",
        "colab": {
          "base_uri": "https://localhost:8080/",
          "height": 296
        },
        "outputId": "29c10725-ea47-45ce-c3ad-15f6a23518ef"
      },
      "source": [
        "df3=df1.tolist()\n",
        "df3.extend(lst_output)\n",
        "plt.plot(df3[300:])\n",
        "plt.xlabel('Days')\n",
        "plt.ylabel('Confirmed Cases')"
      ],
      "execution_count": null,
      "outputs": [
        {
          "output_type": "execute_result",
          "data": {
            "text/plain": [
              "Text(0, 0.5, 'Confirmed Cases')"
            ]
          },
          "metadata": {},
          "execution_count": 83
        },
        {
          "output_type": "display_data",
          "data": {
            "image/png": "[encoded data removed]",
            "text/plain": [
              "<Figure size 432x288 with 1 Axes>"
            ]
          },
          "metadata": {
            "needs_background": "light"
          }
        }
      ]
    },
    {
      "cell_type": "code",
      "metadata": {
        "id": "v5eSUsMaaLp_",
        "colab": {
          "base_uri": "https://localhost:8080/",
          "height": 296
        },
        "outputId": "1264662a-26a1-4f6d-9688-cc44e442b439"
      },
      "source": [
        "df3=scaler.inverse_transform(df3).tolist()\n",
        "plt.plot(df3)\n",
        "plt.xlabel('Days')\n",
        "plt.ylabel('Confirmed Cases')"
      ],
      "execution_count": null,
      "outputs": [
        {
          "output_type": "execute_result",
          "data": {
            "text/plain": [
              "Text(0, 0.5, 'Confirmed Cases')"
            ]
          },
          "metadata": {},
          "execution_count": 84
        },
        {
          "output_type": "display_data",
          "data": {
            "image/png": "[encoded data removed]",
            "text/plain": [
              "<Figure size 432x288 with 1 Axes>"
            ]
          },
          "metadata": {
            "needs_background": "light"
          }
        }
      ]
    },
    {
      "cell_type": "markdown",
      "metadata": {
        "id": "fki4gj64TYyC"
      },
      "source": [
        "# **ConvLSTM1D**"
      ]
    },
    {
      "cell_type": "code",
      "metadata": {
        "id": "OM9c-vAxcV3Q"
      },
      "source": [
        "X_train = X_train.reshape((255, 1, 10, 1))\n",
        "X_test = X_test.reshape((133, 1, 10, 1))"
      ],
      "execution_count": null,
      "outputs": []
    },
    {
      "cell_type": "code",
      "metadata": {
        "id": "GCGGq7UETYea",
        "colab": {
          "base_uri": "https://localhost:8080/"
        },
        "outputId": "8fc854ae-7658-464f-c411-3ab4be788bff"
      },
      "source": [
        "from keras.layers import Flatten\n",
        "from keras.layers import TimeDistributed\n",
        "from keras.layers.convolutional import Conv1D\n",
        "from keras.layers.convolutional import MaxPooling1D\n",
        "model4 = Sequential()\n",
        "model4.add(TimeDistributed(Conv1D(filters=64, kernel_size=1, activation='relu'), input_shape=(None,10,1)))\n",
        "model4.add(TimeDistributed(MaxPooling1D(pool_size=2)))\n",
        "model4.add(TimeDistributed(Flatten()))\n",
        "model4.add(LSTM(50, activation='relu'))\n",
        "model4.add(Dense(1))\n",
        "model4.compile(loss='mean_squared_error',optimizer='adam')"
      ],
      "execution_count": null,
      "outputs": [
        {
          "output_type": "stream",
          "name": "stdout",
          "text": [
            "WARNING:tensorflow:Layer lstm_6 will not use cuDNN kernels since it doesn't meet the criteria. It will use a generic GPU kernel as fallback when running on GPU.\n"
          ]
        }
      ]
    },
    {
      "cell_type": "code",
      "metadata": {
        "id": "FfNxtKa8b19L",
        "colab": {
          "base_uri": "https://localhost:8080/"
        },
        "outputId": "f70ca6be-44ff-4454-c855-32a42f68324c"
      },
      "source": [
        "model4.summary()"
      ],
      "execution_count": null,
      "outputs": [
        {
          "output_type": "stream",
          "name": "stdout",
          "text": [
            "Model: \"sequential_3\"\n",
            "_________________________________________________________________\n",
            " Layer (type)                Output Shape              Param #   \n",
            "=================================================================\n",
            " time_distributed (TimeDistr  (None, None, 10, 64)     128       \n",
            " ibuted)                                                         \n",
            "                                                                 \n",
            " time_distributed_1 (TimeDis  (None, None, 5, 64)      0         \n",
            " tributed)                                                       \n",
            "                                                                 \n",
            " time_distributed_2 (TimeDis  (None, None, 320)        0         \n",
            " tributed)                                                       \n",
            "                                                                 \n",
            " lstm_6 (LSTM)               (None, 50)                74200     \n",
            "                                                                 \n",
            " dense_3 (Dense)             (None, 1)                 51        \n",
            "                                                                 \n",
            "=================================================================\n",
            "Total params: 74,379\n",
            "Trainable params: 74,379\n",
            "Non-trainable params: 0\n",
            "_________________________________________________________________\n"
          ]
        }
      ]
    },
    {
      "cell_type": "code",
      "metadata": {
        "id": "ZChlqcZxbzz3",
        "colab": {
          "base_uri": "https://localhost:8080/"
        },
        "outputId": "96e6920e-193f-4610-ab5c-5da63209a197"
      },
      "source": [
        "model4.fit(X_train,y_train,validation_data=(X_test,ytest),epochs=100,batch_size=32,verbose=1)"
      ],
      "execution_count": null,
      "outputs": [
        {
          "output_type": "stream",
          "name": "stdout",
          "text": [
            "Epoch 1/100\n",
            "8/8 [==============================] - 8s 62ms/step - loss: 0.1036 - val_loss: 0.0027\n",
            "Epoch 2/100\n",
            "8/8 [==============================] - 0s 18ms/step - loss: 0.0614 - val_loss: 5.7355e-04\n",
            "Epoch 3/100\n",
            "8/8 [==============================] - 0s 13ms/step - loss: 0.0268 - val_loss: 0.0043\n",
            "Epoch 4/100\n",
            "8/8 [==============================] - 0s 14ms/step - loss: 0.0124 - val_loss: 0.0105\n",
            "Epoch 5/100\n",
            "8/8 [==============================] - 0s 14ms/step - loss: 0.0104 - val_loss: 0.0036\n",
            "Epoch 6/100\n",
            "8/8 [==============================] - 0s 14ms/step - loss: 0.0072 - val_loss: 0.0015\n",
            "Epoch 7/100\n",
            "8/8 [==============================] - 0s 14ms/step - loss: 0.0065 - val_loss: 0.0015\n",
            "Epoch 8/100\n",
            "8/8 [==============================] - 0s 13ms/step - loss: 0.0056 - val_loss: 0.0012\n",
            "Epoch 9/100\n",
            "8/8 [==============================] - 0s 14ms/step - loss: 0.0055 - val_loss: 6.8030e-04\n",
            "Epoch 10/100\n",
            "8/8 [==============================] - 0s 17ms/step - loss: 0.0053 - val_loss: 5.7137e-04\n",
            "Epoch 11/100\n",
            "8/8 [==============================] - 0s 14ms/step - loss: 0.0051 - val_loss: 6.1337e-04\n",
            "Epoch 12/100\n",
            "8/8 [==============================] - 0s 14ms/step - loss: 0.0049 - val_loss: 5.5086e-04\n",
            "Epoch 13/100\n",
            "8/8 [==============================] - 0s 14ms/step - loss: 0.0047 - val_loss: 6.0155e-04\n",
            "Epoch 14/100\n",
            "8/8 [==============================] - 0s 13ms/step - loss: 0.0046 - val_loss: 6.2426e-04\n",
            "Epoch 15/100\n",
            "8/8 [==============================] - 0s 16ms/step - loss: 0.0044 - val_loss: 5.5739e-04\n",
            "Epoch 16/100\n",
            "8/8 [==============================] - 0s 14ms/step - loss: 0.0044 - val_loss: 6.3282e-04\n",
            "Epoch 17/100\n",
            "8/8 [==============================] - 0s 15ms/step - loss: 0.0040 - val_loss: 5.2089e-04\n",
            "Epoch 18/100\n",
            "8/8 [==============================] - 0s 15ms/step - loss: 0.0039 - val_loss: 5.3694e-04\n",
            "Epoch 19/100\n",
            "8/8 [==============================] - 0s 14ms/step - loss: 0.0037 - val_loss: 5.7161e-04\n",
            "Epoch 20/100\n",
            "8/8 [==============================] - 0s 14ms/step - loss: 0.0035 - val_loss: 5.3680e-04\n",
            "Epoch 21/100\n",
            "8/8 [==============================] - 0s 18ms/step - loss: 0.0033 - val_loss: 5.3921e-04\n",
            "Epoch 22/100\n",
            "8/8 [==============================] - 0s 19ms/step - loss: 0.0032 - val_loss: 5.8004e-04\n",
            "Epoch 23/100\n",
            "8/8 [==============================] - 0s 12ms/step - loss: 0.0029 - val_loss: 4.6374e-04\n",
            "Epoch 24/100\n",
            "8/8 [==============================] - 0s 14ms/step - loss: 0.0027 - val_loss: 5.5963e-04\n",
            "Epoch 25/100\n",
            "8/8 [==============================] - 0s 15ms/step - loss: 0.0026 - val_loss: 5.1160e-04\n",
            "Epoch 26/100\n",
            "8/8 [==============================] - 0s 14ms/step - loss: 0.0024 - val_loss: 5.6811e-04\n",
            "Epoch 27/100\n",
            "8/8 [==============================] - 0s 14ms/step - loss: 0.0022 - val_loss: 4.6985e-04\n",
            "Epoch 28/100\n",
            "8/8 [==============================] - 0s 13ms/step - loss: 0.0021 - val_loss: 5.0144e-04\n",
            "Epoch 29/100\n",
            "8/8 [==============================] - 0s 14ms/step - loss: 0.0018 - val_loss: 4.8646e-04\n",
            "Epoch 30/100\n",
            "8/8 [==============================] - 0s 14ms/step - loss: 0.0017 - val_loss: 5.2108e-04\n",
            "Epoch 31/100\n",
            "8/8 [==============================] - 0s 14ms/step - loss: 0.0017 - val_loss: 4.7578e-04\n",
            "Epoch 32/100\n",
            "8/8 [==============================] - 0s 14ms/step - loss: 0.0016 - val_loss: 4.8658e-04\n",
            "Epoch 33/100\n",
            "8/8 [==============================] - 0s 15ms/step - loss: 0.0016 - val_loss: 4.9539e-04\n",
            "Epoch 34/100\n",
            "8/8 [==============================] - 0s 14ms/step - loss: 0.0015 - val_loss: 4.6912e-04\n",
            "Epoch 35/100\n",
            "8/8 [==============================] - 0s 13ms/step - loss: 0.0017 - val_loss: 5.2029e-04\n",
            "Epoch 36/100\n",
            "8/8 [==============================] - 0s 14ms/step - loss: 0.0014 - val_loss: 4.6885e-04\n",
            "Epoch 37/100\n",
            "8/8 [==============================] - 0s 15ms/step - loss: 0.0013 - val_loss: 4.5346e-04\n",
            "Epoch 38/100\n",
            "8/8 [==============================] - 0s 14ms/step - loss: 0.0013 - val_loss: 3.8007e-04\n",
            "Epoch 39/100\n",
            "8/8 [==============================] - 0s 14ms/step - loss: 0.0014 - val_loss: 5.0936e-04\n",
            "Epoch 40/100\n",
            "8/8 [==============================] - 0s 14ms/step - loss: 0.0013 - val_loss: 4.2098e-04\n",
            "Epoch 41/100\n",
            "8/8 [==============================] - 0s 14ms/step - loss: 0.0011 - val_loss: 3.9590e-04\n",
            "Epoch 42/100\n",
            "8/8 [==============================] - 0s 15ms/step - loss: 0.0011 - val_loss: 4.3637e-04\n",
            "Epoch 43/100\n",
            "8/8 [==============================] - 0s 15ms/step - loss: 0.0010 - val_loss: 3.8962e-04\n",
            "Epoch 44/100\n",
            "8/8 [==============================] - 0s 14ms/step - loss: 0.0010 - val_loss: 3.7438e-04\n",
            "Epoch 45/100\n",
            "8/8 [==============================] - 0s 14ms/step - loss: 9.9055e-04 - val_loss: 4.0343e-04\n",
            "Epoch 46/100\n",
            "8/8 [==============================] - 0s 14ms/step - loss: 9.3532e-04 - val_loss: 4.1269e-04\n",
            "Epoch 47/100\n",
            "8/8 [==============================] - 0s 14ms/step - loss: 9.4599e-04 - val_loss: 3.6031e-04\n",
            "Epoch 48/100\n",
            "8/8 [==============================] - 0s 14ms/step - loss: 0.0011 - val_loss: 4.1225e-04\n",
            "Epoch 49/100\n",
            "8/8 [==============================] - 0s 14ms/step - loss: 0.0011 - val_loss: 3.2176e-04\n",
            "Epoch 50/100\n",
            "8/8 [==============================] - 0s 13ms/step - loss: 0.0011 - val_loss: 4.3871e-04\n",
            "Epoch 51/100\n",
            "8/8 [==============================] - 0s 15ms/step - loss: 8.8529e-04 - val_loss: 3.2294e-04\n",
            "Epoch 52/100\n",
            "8/8 [==============================] - 0s 15ms/step - loss: 8.3001e-04 - val_loss: 3.5938e-04\n",
            "Epoch 53/100\n",
            "8/8 [==============================] - 0s 16ms/step - loss: 7.9937e-04 - val_loss: 3.6424e-04\n",
            "Epoch 54/100\n",
            "8/8 [==============================] - 0s 16ms/step - loss: 8.2239e-04 - val_loss: 3.8062e-04\n",
            "Epoch 55/100\n",
            "8/8 [==============================] - 0s 18ms/step - loss: 8.1325e-04 - val_loss: 3.3425e-04\n",
            "Epoch 56/100\n",
            "8/8 [==============================] - 0s 13ms/step - loss: 7.6332e-04 - val_loss: 3.6011e-04\n",
            "Epoch 57/100\n",
            "8/8 [==============================] - 0s 13ms/step - loss: 8.1341e-04 - val_loss: 3.1378e-04\n",
            "Epoch 58/100\n",
            "8/8 [==============================] - 0s 13ms/step - loss: 7.8427e-04 - val_loss: 3.6158e-04\n",
            "Epoch 59/100\n",
            "8/8 [==============================] - 0s 14ms/step - loss: 7.3063e-04 - val_loss: 3.2476e-04\n",
            "Epoch 60/100\n",
            "8/8 [==============================] - 0s 14ms/step - loss: 7.5464e-04 - val_loss: 3.3657e-04\n",
            "Epoch 61/100\n",
            "8/8 [==============================] - 0s 13ms/step - loss: 7.3195e-04 - val_loss: 3.2966e-04\n",
            "Epoch 62/100\n",
            "8/8 [==============================] - 0s 15ms/step - loss: 7.5683e-04 - val_loss: 3.3564e-04\n",
            "Epoch 63/100\n",
            "8/8 [==============================] - 0s 16ms/step - loss: 6.9185e-04 - val_loss: 3.3708e-04\n",
            "Epoch 64/100\n",
            "8/8 [==============================] - 0s 14ms/step - loss: 7.4725e-04 - val_loss: 3.5248e-04\n",
            "Epoch 65/100\n",
            "8/8 [==============================] - 0s 13ms/step - loss: 6.7669e-04 - val_loss: 3.1933e-04\n",
            "Epoch 66/100\n",
            "8/8 [==============================] - 0s 15ms/step - loss: 6.9358e-04 - val_loss: 3.4389e-04\n",
            "Epoch 67/100\n",
            "8/8 [==============================] - 0s 14ms/step - loss: 6.5448e-04 - val_loss: 3.1820e-04\n",
            "Epoch 68/100\n",
            "8/8 [==============================] - 0s 14ms/step - loss: 6.5823e-04 - val_loss: 3.3205e-04\n",
            "Epoch 69/100\n",
            "8/8 [==============================] - 0s 13ms/step - loss: 6.4566e-04 - val_loss: 3.0921e-04\n",
            "Epoch 70/100\n",
            "8/8 [==============================] - 0s 14ms/step - loss: 6.8266e-04 - val_loss: 3.5047e-04\n",
            "Epoch 71/100\n",
            "8/8 [==============================] - 0s 15ms/step - loss: 6.5156e-04 - val_loss: 3.3255e-04\n",
            "Epoch 72/100\n",
            "8/8 [==============================] - 0s 15ms/step - loss: 6.4283e-04 - val_loss: 3.1343e-04\n",
            "Epoch 73/100\n",
            "8/8 [==============================] - 0s 13ms/step - loss: 6.2824e-04 - val_loss: 3.4590e-04\n",
            "Epoch 74/100\n",
            "8/8 [==============================] - 0s 16ms/step - loss: 7.0507e-04 - val_loss: 3.2505e-04\n",
            "Epoch 75/100\n",
            "8/8 [==============================] - 0s 14ms/step - loss: 6.8748e-04 - val_loss: 3.0908e-04\n",
            "Epoch 76/100\n",
            "8/8 [==============================] - 0s 14ms/step - loss: 7.4543e-04 - val_loss: 3.6182e-04\n",
            "Epoch 77/100\n",
            "8/8 [==============================] - 0s 14ms/step - loss: 8.4322e-04 - val_loss: 3.0039e-04\n",
            "Epoch 78/100\n",
            "8/8 [==============================] - 0s 14ms/step - loss: 8.3352e-04 - val_loss: 3.8094e-04\n",
            "Epoch 79/100\n",
            "8/8 [==============================] - 0s 13ms/step - loss: 7.0020e-04 - val_loss: 3.0486e-04\n",
            "Epoch 80/100\n",
            "8/8 [==============================] - 0s 14ms/step - loss: 6.2097e-04 - val_loss: 3.3133e-04\n",
            "Epoch 81/100\n",
            "8/8 [==============================] - 0s 14ms/step - loss: 6.5139e-04 - val_loss: 3.4271e-04\n",
            "Epoch 82/100\n",
            "8/8 [==============================] - 0s 14ms/step - loss: 7.0255e-04 - val_loss: 3.1588e-04\n",
            "Epoch 83/100\n",
            "8/8 [==============================] - 0s 13ms/step - loss: 7.4509e-04 - val_loss: 3.2803e-04\n",
            "Epoch 84/100\n",
            "8/8 [==============================] - 0s 13ms/step - loss: 7.4266e-04 - val_loss: 3.0533e-04\n",
            "Epoch 85/100\n",
            "8/8 [==============================] - 0s 12ms/step - loss: 6.7824e-04 - val_loss: 3.8163e-04\n",
            "Epoch 86/100\n",
            "8/8 [==============================] - 0s 14ms/step - loss: 8.5173e-04 - val_loss: 3.0463e-04\n",
            "Epoch 87/100\n",
            "8/8 [==============================] - 0s 14ms/step - loss: 5.8213e-04 - val_loss: 3.4900e-04\n",
            "Epoch 88/100\n",
            "8/8 [==============================] - 0s 13ms/step - loss: 6.4765e-04 - val_loss: 3.0296e-04\n",
            "Epoch 89/100\n",
            "8/8 [==============================] - 0s 14ms/step - loss: 6.7260e-04 - val_loss: 3.5452e-04\n",
            "Epoch 90/100\n",
            "8/8 [==============================] - 0s 14ms/step - loss: 6.1569e-04 - val_loss: 3.0696e-04\n",
            "Epoch 91/100\n",
            "8/8 [==============================] - 0s 13ms/step - loss: 6.4788e-04 - val_loss: 3.2921e-04\n",
            "Epoch 92/100\n",
            "8/8 [==============================] - 0s 14ms/step - loss: 6.3445e-04 - val_loss: 3.1763e-04\n",
            "Epoch 93/100\n",
            "8/8 [==============================] - 0s 16ms/step - loss: 6.1763e-04 - val_loss: 3.1867e-04\n",
            "Epoch 94/100\n",
            "8/8 [==============================] - 0s 13ms/step - loss: 6.1255e-04 - val_loss: 3.1568e-04\n",
            "Epoch 95/100\n",
            "8/8 [==============================] - 0s 14ms/step - loss: 5.8107e-04 - val_loss: 3.3055e-04\n",
            "Epoch 96/100\n",
            "8/8 [==============================] - 0s 15ms/step - loss: 5.8456e-04 - val_loss: 3.0815e-04\n",
            "Epoch 97/100\n",
            "8/8 [==============================] - 0s 16ms/step - loss: 6.1755e-04 - val_loss: 3.4604e-04\n",
            "Epoch 98/100\n",
            "8/8 [==============================] - 0s 18ms/step - loss: 6.0483e-04 - val_loss: 3.1507e-04\n",
            "Epoch 99/100\n",
            "8/8 [==============================] - 0s 14ms/step - loss: 6.0821e-04 - val_loss: 3.2670e-04\n",
            "Epoch 100/100\n",
            "8/8 [==============================] - 0s 12ms/step - loss: 5.9097e-04 - val_loss: 3.2126e-04\n"
          ]
        },
        {
          "output_type": "execute_result",
          "data": {
            "text/plain": [
              "<keras.callbacks.History at 0x7f4d74902890>"
            ]
          },
          "metadata": {},
          "execution_count": 88
        }
      ]
    },
    {
      "cell_type": "markdown",
      "metadata": {
        "id": "xl6048H3G302"
      },
      "source": [
        "# **Predection**"
      ]
    },
    {
      "cell_type": "code",
      "metadata": {
        "id": "2lvbuN3fdLw6"
      },
      "source": [
        "train_predict=model4.predict(X_train)\n",
        "test_predict=model4.predict(X_test)\n",
        "##Transformback to original form\n",
        "train_predict=scaler.inverse_transform(train_predict)\n",
        "test_predict=scaler.inverse_transform(test_predict)"
      ],
      "execution_count": null,
      "outputs": []
    },
    {
      "cell_type": "markdown",
      "metadata": {
        "id": "Kj3512Gz4YUM"
      },
      "source": [
        "# **Performence Matrix**"
      ]
    },
    {
      "cell_type": "markdown",
      "metadata": {
        "id": "SCEpXkPq4byM"
      },
      "source": [
        "## **MSE**"
      ]
    },
    {
      "cell_type": "code",
      "metadata": {
        "id": "IzyLtBO638GF",
        "colab": {
          "base_uri": "https://localhost:8080/"
        },
        "outputId": "47011808-8698-44c8-8eea-385bed2252a2"
      },
      "source": [
        "mean_squared_error(y_train,train_predict)"
      ],
      "execution_count": null,
      "outputs": [
        {
          "output_type": "execute_result",
          "data": {
            "text/plain": [
              "20069335266.38121"
            ]
          },
          "metadata": {},
          "execution_count": 90
        }
      ]
    },
    {
      "cell_type": "code",
      "metadata": {
        "id": "0ebm59eF378Q",
        "colab": {
          "base_uri": "https://localhost:8080/"
        },
        "outputId": "283d5c19-01d3-40c5-d746-cd4a7cae5f69"
      },
      "source": [
        "### Test Data RMSE\n",
        "mean_squared_error(ytest,test_predict)"
      ],
      "execution_count": null,
      "outputs": [
        {
          "output_type": "execute_result",
          "data": {
            "text/plain": [
              "1170352886.3164485"
            ]
          },
          "metadata": {},
          "execution_count": 91
        }
      ]
    },
    {
      "cell_type": "markdown",
      "metadata": {
        "id": "2Xjqs7Za4fBD"
      },
      "source": [
        "## **RMSE**"
      ]
    },
    {
      "cell_type": "code",
      "metadata": {
        "id": "rGBK0vu5fqXi",
        "colab": {
          "base_uri": "https://localhost:8080/"
        },
        "outputId": "02791c6e-cbd8-40e3-9927-463bd48eb7d8"
      },
      "source": [
        "### Calculate RMSE performance metrics\n",
        "math.sqrt(mean_squared_error(y_train,train_predict))"
      ],
      "execution_count": null,
      "outputs": [
        {
          "output_type": "execute_result",
          "data": {
            "text/plain": [
              "141666.2813318018"
            ]
          },
          "metadata": {},
          "execution_count": 92
        }
      ]
    },
    {
      "cell_type": "code",
      "metadata": {
        "id": "ipbZYmxcfqU5",
        "colab": {
          "base_uri": "https://localhost:8080/"
        },
        "outputId": "a55f7875-563d-467e-c989-0cf47abf7fe1"
      },
      "source": [
        "### Test Data RMSE\n",
        "math.sqrt(mean_squared_error(ytest,test_predict))"
      ],
      "execution_count": null,
      "outputs": [
        {
          "output_type": "execute_result",
          "data": {
            "text/plain": [
              "34210.42072697219"
            ]
          },
          "metadata": {},
          "execution_count": 93
        }
      ]
    },
    {
      "cell_type": "markdown",
      "metadata": {
        "id": "YYWcWZyh4kD0"
      },
      "source": [
        "## **MAE**"
      ]
    },
    {
      "cell_type": "code",
      "metadata": {
        "id": "jl4JZ2zj4oBr",
        "colab": {
          "base_uri": "https://localhost:8080/"
        },
        "outputId": "c33d7be4-426f-4203-99dc-5193f85d9ce1"
      },
      "source": [
        "mean_absolute_error(y_train,train_predict)"
      ],
      "execution_count": null,
      "outputs": [
        {
          "output_type": "execute_result",
          "data": {
            "text/plain": [
              "90425.01519151163"
            ]
          },
          "metadata": {},
          "execution_count": 94
        }
      ]
    },
    {
      "cell_type": "code",
      "metadata": {
        "id": "_9QNIYhI4ocG",
        "colab": {
          "base_uri": "https://localhost:8080/"
        },
        "outputId": "b9732794-5cfb-48f3-cbc1-1fe571c8cd82"
      },
      "source": [
        "### Test Data MAE\n",
        "mean_absolute_error(ytest,test_predict)"
      ],
      "execution_count": null,
      "outputs": [
        {
          "output_type": "execute_result",
          "data": {
            "text/plain": [
              "31993.512503660277"
            ]
          },
          "metadata": {},
          "execution_count": 95
        }
      ]
    },
    {
      "cell_type": "code",
      "metadata": {
        "id": "Y9iNr1dkfqCx",
        "colab": {
          "base_uri": "https://localhost:8080/"
        },
        "outputId": "4084ac74-b6d9-4a0f-a09d-6a3c2293af99"
      },
      "source": [
        "### Plotting \n",
        "# shift train predictions for plotting\n",
        "look_back=10\n",
        "trainPredictPlot = numpy.empty_like(df1)\n",
        "trainPredictPlot[:, :] = np.nan\n",
        "trainPredictPlot[look_back:len(train_predict)+look_back, :] = train_predict\n",
        "# shift test predictions for plotting\n",
        "testPredictPlot = numpy.empty_like(df1)\n",
        "testPredictPlot[:, :] = numpy.nan\n",
        "testPredictPlot[len(train_predict)+(look_back*2)+1:len(df1)-1, :] = test_predict\n",
        "# plot baseline and predictions\n",
        "plt.plot(scaler.inverse_transform(df1))\n",
        "\n",
        "plt.plot(trainPredictPlot)\n",
        "plt.plot(testPredictPlot)\n",
        "plt.xlabel('Days')\n",
        "plt.ylabel('Confirmed Cases')\n",
        "plt.show()"
      ],
      "execution_count": null,
      "outputs": [
        {
          "output_type": "display_data",
          "data": {
            "image/png": "[encoded data removed]",
            "text/plain": [
              "<Figure size 432x288 with 1 Axes>"
            ]
          },
          "metadata": {
            "needs_background": "light"
          }
        }
      ]
    },
    {
      "cell_type": "code",
      "metadata": {
        "id": "r1zmGD6Afp_V",
        "colab": {
          "base_uri": "https://localhost:8080/"
        },
        "outputId": "a4a046b6-13f0-4e4e-cb72-252001d21e08"
      },
      "source": [
        "x_input=test_data[134:].reshape(1,-1)\n",
        "x_input.shape"
      ],
      "execution_count": null,
      "outputs": [
        {
          "output_type": "execute_result",
          "data": {
            "text/plain": [
              "(1, 10)"
            ]
          },
          "metadata": {},
          "execution_count": 97
        }
      ]
    },
    {
      "cell_type": "code",
      "metadata": {
        "id": "Gi0vCQq4fp7Y"
      },
      "source": [
        "temp_input=list(x_input)\n",
        "temp_input=temp_input[0].tolist()"
      ],
      "execution_count": null,
      "outputs": []
    },
    {
      "cell_type": "code",
      "metadata": {
        "id": "Nom3OeowZErg",
        "colab": {
          "base_uri": "https://localhost:8080/"
        },
        "outputId": "99070b23-43dc-496d-b14b-7d8ad75950b6"
      },
      "source": [
        "temp_input"
      ],
      "execution_count": null,
      "outputs": [
        {
          "output_type": "execute_result",
          "data": {
            "text/plain": [
              "[0.030213333075801325,\n",
              " 0.025164900962847788,\n",
              " 0.028738157551643214,\n",
              " 0.031109061585560177,\n",
              " 0.03073242102620066,\n",
              " 0.026386568418206222,\n",
              " 0.026137889074526542,\n",
              " 0.027712053463644526,\n",
              " 0.024447835282528706,\n",
              " 0.027683081112924564]"
            ]
          },
          "metadata": {},
          "execution_count": 99
        }
      ]
    },
    {
      "cell_type": "code",
      "metadata": {
        "id": "Ia9z--hkfp3o",
        "colab": {
          "base_uri": "https://localhost:8080/"
        },
        "outputId": "b5b6116f-1e26-4298-b5b5-ca8eca212573"
      },
      "source": [
        "# demonstrate prediction for next 10 days\n",
        "from numpy import array\n",
        "\n",
        "lst_output=[]\n",
        "n_steps=10\n",
        "i=0\n",
        "while(i<30):\n",
        "    \n",
        "    if(len(temp_input)>10):\n",
        "        #print(temp_input)\n",
        "        x_input=np.array(temp_input[1:])\n",
        "        print(\"{} day input {}\".format(i,x_input))\n",
        "        x_input=x_input.reshape(1,-1)\n",
        "        x_input = x_input.reshape((1,1, n_steps, 1))\n",
        "        #print(x_input)\n",
        "        yhat = model4.predict(x_input, verbose=0)\n",
        "        print(\"{} day output {}\".format(i,yhat))\n",
        "        temp_input.extend(yhat[0].tolist())\n",
        "        temp_input=temp_input[1:]\n",
        "        #print(temp_input)\n",
        "        lst_output.extend(yhat.tolist())\n",
        "        i=i+1\n",
        "    else:\n",
        "        x_input = x_input.reshape((1,1, n_steps,1))\n",
        "        yhat = model4.predict(x_input, verbose=0)\n",
        "        print(yhat[0])\n",
        "        temp_input.extend(yhat[0].tolist())\n",
        "        print(len(temp_input))\n",
        "        lst_output.extend(yhat.tolist())\n",
        "        i=i+1\n",
        "    \n",
        "\n",
        "print(lst_output)"
      ],
      "execution_count": null,
      "outputs": [
        {
          "output_type": "stream",
          "name": "stdout",
          "text": [
            "[0.02769605]\n",
            "11\n",
            "1 day input [0.0251649  0.02873816 0.03110906 0.03073242 0.02638657 0.02613789\n",
            " 0.02771205 0.02444784 0.02768308 0.02769605]\n",
            "1 day output [[0.02720116]]\n",
            "2 day input [0.02873816 0.03110906 0.03073242 0.02638657 0.02613789 0.02771205\n",
            " 0.02444784 0.02768308 0.02769605 0.02720116]\n",
            "2 day output [[0.02718507]]\n",
            "3 day input [0.03110906 0.03073242 0.02638657 0.02613789 0.02771205 0.02444784\n",
            " 0.02768308 0.02769605 0.02720116 0.02718507]\n",
            "3 day output [[0.02671475]]\n",
            "4 day input [0.03073242 0.02638657 0.02613789 0.02771205 0.02444784 0.02768308\n",
            " 0.02769605 0.02720116 0.02718507 0.02671475]\n",
            "4 day output [[0.02683136]]\n",
            "5 day input [0.02638657 0.02613789 0.02771205 0.02444784 0.02768308 0.02769605\n",
            " 0.02720116 0.02718507 0.02671475 0.02683136]\n",
            "5 day output [[0.02690063]]\n",
            "6 day input [0.02613789 0.02771205 0.02444784 0.02768308 0.02769605 0.02720116\n",
            " 0.02718507 0.02671475 0.02683136 0.02690063]\n",
            "6 day output [[0.02683441]]\n",
            "7 day input [0.02771205 0.02444784 0.02768308 0.02769605 0.02720116 0.02718507\n",
            " 0.02671475 0.02683136 0.02690063 0.02683441]\n",
            "7 day output [[0.02669819]]\n",
            "8 day input [0.02444784 0.02768308 0.02769605 0.02720116 0.02718507 0.02671475\n",
            " 0.02683136 0.02690063 0.02683441 0.02669819]\n",
            "8 day output [[0.02669188]]\n",
            "9 day input [0.02768308 0.02769605 0.02720116 0.02718507 0.02671475 0.02683136\n",
            " 0.02690063 0.02683441 0.02669819 0.02669188]\n",
            "9 day output [[0.0265664]]\n",
            "10 day input [0.02769605 0.02720116 0.02718507 0.02671475 0.02683136 0.02690063\n",
            " 0.02683441 0.02669819 0.02669188 0.0265664 ]\n",
            "10 day output [[0.02655932]]\n",
            "11 day input [0.02720116 0.02718507 0.02671475 0.02683136 0.02690063 0.02683441\n",
            " 0.02669819 0.02669188 0.0265664  0.02655932]\n",
            "11 day output [[0.02649874]]\n",
            "12 day input [0.02718507 0.02671475 0.02683136 0.02690063 0.02683441 0.02669819\n",
            " 0.02669188 0.0265664  0.02655932 0.02649874]\n",
            "12 day output [[0.02649259]]\n",
            "13 day input [0.02671475 0.02683136 0.02690063 0.02683441 0.02669819 0.02669188\n",
            " 0.0265664  0.02655932 0.02649874 0.02649259]\n",
            "13 day output [[0.0264528]]\n",
            "14 day input [0.02683136 0.02690063 0.02683441 0.02669819 0.02669188 0.0265664\n",
            " 0.02655932 0.02649874 0.02649259 0.0264528 ]\n",
            "14 day output [[0.02643954]]\n",
            "15 day input [0.02690063 0.02683441 0.02669819 0.02669188 0.0265664  0.02655932\n",
            " 0.02649874 0.02649259 0.0264528  0.02643954]\n",
            "15 day output [[0.02638862]]\n",
            "16 day input [0.02683441 0.02669819 0.02669188 0.0265664  0.02655932 0.02649874\n",
            " 0.02649259 0.0264528  0.02643954 0.02638862]\n",
            "16 day output [[0.02638607]]\n",
            "17 day input [0.02669819 0.02669188 0.0265664  0.02655932 0.02649874 0.02649259\n",
            " 0.0264528  0.02643954 0.02638862 0.02638607]\n",
            "17 day output [[0.02635383]]\n",
            "18 day input [0.02669188 0.0265664  0.02655932 0.02649874 0.02649259 0.0264528\n",
            " 0.02643954 0.02638862 0.02638607 0.02635383]\n",
            "18 day output [[0.02634945]]\n",
            "19 day input [0.0265664  0.02655932 0.02649874 0.02649259 0.0264528  0.02643954\n",
            " 0.02638862 0.02638607 0.02635383 0.02634945]\n",
            "19 day output [[0.02632749]]\n",
            "20 day input [0.02655932 0.02649874 0.02649259 0.0264528  0.02643954 0.02638862\n",
            " 0.02638607 0.02635383 0.02634945 0.02632749]\n",
            "20 day output [[0.02632387]]\n",
            "21 day input [0.02649874 0.02649259 0.0264528  0.02643954 0.02638862 0.02638607\n",
            " 0.02635383 0.02634945 0.02632749 0.02632387]\n",
            "21 day output [[0.02630479]]\n",
            "22 day input [0.02649259 0.0264528  0.02643954 0.02638862 0.02638607 0.02635383\n",
            " 0.02634945 0.02632749 0.02632387 0.02630479]\n",
            "22 day output [[0.02630188]]\n",
            "23 day input [0.0264528  0.02643954 0.02638862 0.02638607 0.02635383 0.02634945\n",
            " 0.02632749 0.02632387 0.02630479 0.02630188]\n",
            "23 day output [[0.02628613]]\n",
            "24 day input [0.02643954 0.02638862 0.02638607 0.02635383 0.02634945 0.02632749\n",
            " 0.02632387 0.02630479 0.02630188 0.02628613]\n",
            "24 day output [[0.02628457]]\n",
            "25 day input [0.02638862 0.02638607 0.02635383 0.02634945 0.02632749 0.02632387\n",
            " 0.02630479 0.02630188 0.02628613 0.02628457]\n",
            "25 day output [[0.02627383]]\n",
            "26 day input [0.02638607 0.02635383 0.02634945 0.02632749 0.02632387 0.02630479\n",
            " 0.02630188 0.02628613 0.02628457 0.02627383]\n",
            "26 day output [[0.02627213]]\n",
            "27 day input [0.02635383 0.02634945 0.02632749 0.02632387 0.02630479 0.02630188\n",
            " 0.02628613 0.02628457 0.02627383 0.02627213]\n",
            "27 day output [[0.02626356]]\n",
            "28 day input [0.02634945 0.02632749 0.02632387 0.02630479 0.02630188 0.02628613\n",
            " 0.02628457 0.02627383 0.02627213 0.02626356]\n",
            "28 day output [[0.02626235]]\n",
            "29 day input [0.02632749 0.02632387 0.02630479 0.02630188 0.02628613 0.02628457\n",
            " 0.02627383 0.02627213 0.02626356 0.02626235]\n",
            "29 day output [[0.02625546]]\n",
            "[[0.027696048840880394], [0.02720116451382637], [0.027185065671801567], [0.02671474777162075], [0.026831360533833504], [0.026900632306933403], [0.026834409683942795], [0.026698186993598938], [0.026691880077123642], [0.026566404849290848], [0.026559315621852875], [0.026498738676309586], [0.026492588222026825], [0.026452800258994102], [0.026439541950821877], [0.026388615369796753], [0.026386070996522903], [0.026353826746344566], [0.026349447667598724], [0.026327485218644142], [0.026323866099119186], [0.026304785162210464], [0.026301879435777664], [0.026286128908395767], [0.02628456987440586], [0.026273831725120544], [0.02627212554216385], [0.026263557374477386], [0.026262346655130386], [0.02625545859336853]]\n"
          ]
        }
      ]
    },
    {
      "cell_type": "code",
      "metadata": {
        "id": "gLoLsjxhJURD"
      },
      "source": [
        "day_new=np.arange(1,101)\n",
        "day_pred=np.arange(101,131) "
      ],
      "execution_count": null,
      "outputs": []
    },
    {
      "cell_type": "code",
      "metadata": {
        "colab": {
          "base_uri": "https://localhost:8080/"
        },
        "id": "7005cdn_JX3a",
        "outputId": "0b832d1c-64c9-4f0d-f10b-2f2947f5d11d"
      },
      "source": [
        "plt.plot(day_new,scaler.inverse_transform(df1[310:]))\n",
        "plt.plot(day_pred,scaler.inverse_transform(lst_output))\n",
        "plt.xlabel('Days')\n",
        "plt.ylabel('Confirmed Cases')"
      ],
      "execution_count": null,
      "outputs": [
        {
          "output_type": "execute_result",
          "data": {
            "text/plain": [
              "Text(0, 0.5, 'Confirmed Cases')"
            ]
          },
          "metadata": {},
          "execution_count": 102
        },
        {
          "output_type": "display_data",
          "data": {
            "image/png": "[encoded data removed]",
            "text/plain": [
              "<Figure size 432x288 with 1 Axes>"
            ]
          },
          "metadata": {
            "needs_background": "light"
          }
        }
      ]
    },
    {
      "cell_type": "code",
      "metadata": {
        "colab": {
          "base_uri": "https://localhost:8080/"
        },
        "id": "ZbhZMG9SJdhS",
        "outputId": "de879c4d-465f-4a2a-afb3-dbee84bba590"
      },
      "source": [
        "df3=df1.tolist()\n",
        "df3.extend(lst_output)\n",
        "plt.plot(df3[300:])\n",
        "plt.xlabel('Days')\n",
        "plt.ylabel('Confirmed Cases')"
      ],
      "execution_count": null,
      "outputs": [
        {
          "output_type": "execute_result",
          "data": {
            "text/plain": [
              "Text(0, 0.5, 'Confirmed Cases')"
            ]
          },
          "metadata": {},
          "execution_count": 103
        },
        {
          "output_type": "display_data",
          "data": {
            "image/png": "[encoded data removed]",
            "text/plain": [
              "<Figure size 432x288 with 1 Axes>"
            ]
          },
          "metadata": {
            "needs_background": "light"
          }
        }
      ]
    },
    {
      "cell_type": "code",
      "metadata": {
        "colab": {
          "base_uri": "https://localhost:8080/",
          "height": 296
        },
        "id": "1W9wXOTpJh6i",
        "outputId": "a57179d4-32dc-444c-e157-9c0830295dae"
      },
      "source": [
        "df3=scaler.inverse_transform(df3).tolist()\n",
        "plt.plot(df3)\n",
        "plt.xlabel('Days')\n",
        "plt.ylabel('Confirmed Cases')"
      ],
      "execution_count": null,
      "outputs": [
        {
          "output_type": "execute_result",
          "data": {
            "text/plain": [
              "Text(0, 0.5, 'Confirmed Cases')"
            ]
          },
          "metadata": {},
          "execution_count": 104
        },
        {
          "output_type": "display_data",
          "data": {
            "image/png": "[encoded data removed]",
            "text/plain": [
              "<Figure size 432x288 with 1 Axes>"
            ]
          },
          "metadata": {
            "needs_background": "light"
          }
        }
      ]
    },
    {
      "cell_type": "code",
      "metadata": {
        "id": "zaxdi2BoM7zM"
      },
      "source": [
        " "
      ],
      "execution_count": null,
      "outputs": []
    }
  ]
}