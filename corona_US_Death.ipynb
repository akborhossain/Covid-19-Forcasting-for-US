{
  "nbformat": 4,
  "nbformat_minor": 0,
  "metadata": {
    "kernelspec": {
      "display_name": "Python 3",
      "language": "python",
      "name": "python3"
    },
    "language_info": {
      "codemirror_mode": {
        "name": "ipython",
        "version": 3
      },
      "file_extension": ".py",
      "mimetype": "text/x-python",
      "name": "python",
      "nbconvert_exporter": "python",
      "pygments_lexer": "ipython3",
      "version": "3.6.9"
    },
    "colab": {
      "provenance": []
    },
    "accelerator": "GPU"
  },
  "cells": [
    {
      "cell_type": "code",
      "metadata": {
        "colab": {
          "base_uri": "https://localhost:8080/"
        },
        "id": "auOKAzR_Veu7",
        "outputId": "a0d96a7b-e726-44b2-e734-a2f4d355ce0e"
      },
      "source": [
        "from google.colab import drive\n",
        "drive.mount('/content/drive')"
      ],
      "execution_count": null,
      "outputs": [
        {
          "output_type": "stream",
          "name": "stdout",
          "text": [
            "Drive already mounted at /content/drive; to attempt to forcibly remount, call drive.mount(\"/content/drive\", force_remount=True).\n"
          ]
        }
      ]
    },
    {
      "cell_type": "markdown",
      "metadata": {
        "id": "U4W9v4K25prG"
      },
      "source": [
        "# **Dataset Load**"
      ]
    },
    {
      "cell_type": "code",
      "metadata": {
        "id": "-MiA_A9hU-nA"
      },
      "source": [
        "import pandas as pd"
      ],
      "execution_count": null,
      "outputs": []
    },
    {
      "cell_type": "code",
      "metadata": {
        "id": "5B4Y8StdU-nB"
      },
      "source": [
        "df=pd.read_csv('/content/drive/MyDrive/corona project/america.csv')"
      ],
      "execution_count": null,
      "outputs": []
    },
    {
      "cell_type": "code",
      "metadata": {
        "colab": {
          "base_uri": "https://localhost:8080/",
          "height": 206
        },
        "id": "JM6jPwPLU-nD",
        "outputId": "b52eb808-5077-4319-8e86-1b19f2712790"
      },
      "source": [
        "df.head()"
      ],
      "execution_count": null,
      "outputs": [
        {
          "output_type": "execute_result",
          "data": {
            "text/html": [
              "<div>\n",
              "<style scoped>\n",
              "    .dataframe tbody tr th:only-of-type {\n",
              "        vertical-align: middle;\n",
              "    }\n",
              "\n",
              "    .dataframe tbody tr th {\n",
              "        vertical-align: top;\n",
              "    }\n",
              "\n",
              "    .dataframe thead th {\n",
              "        text-align: right;\n",
              "    }\n",
              "</style>\n",
              "<table border=\"1\" class=\"dataframe\">\n",
              "  <thead>\n",
              "    <tr style=\"text-align: right;\">\n",
              "      <th></th>\n",
              "      <th>date</th>\n",
              "      <th>new case</th>\n",
              "      <th>death</th>\n",
              "    </tr>\n",
              "  </thead>\n",
              "  <tbody>\n",
              "    <tr>\n",
              "      <th>0</th>\n",
              "      <td>9/27/2020</td>\n",
              "      <td>49548</td>\n",
              "      <td>763</td>\n",
              "    </tr>\n",
              "    <tr>\n",
              "      <th>1</th>\n",
              "      <td>9/28/2020</td>\n",
              "      <td>41403</td>\n",
              "      <td>672</td>\n",
              "    </tr>\n",
              "    <tr>\n",
              "      <th>2</th>\n",
              "      <td>9/29/2020</td>\n",
              "      <td>34943</td>\n",
              "      <td>498</td>\n",
              "    </tr>\n",
              "    <tr>\n",
              "      <th>3</th>\n",
              "      <td>9/30/2020</td>\n",
              "      <td>38686</td>\n",
              "      <td>401</td>\n",
              "    </tr>\n",
              "    <tr>\n",
              "      <th>4</th>\n",
              "      <td>10/1/2020</td>\n",
              "      <td>39753</td>\n",
              "      <td>794</td>\n",
              "    </tr>\n",
              "  </tbody>\n",
              "</table>\n",
              "</div>"
            ],
            "text/plain": [
              "        date  new case  death\n",
              "0  9/27/2020     49548    763\n",
              "1  9/28/2020     41403    672\n",
              "2  9/29/2020     34943    498\n",
              "3  9/30/2020     38686    401\n",
              "4  10/1/2020     39753    794"
            ]
          },
          "metadata": {},
          "execution_count": 34
        }
      ]
    },
    {
      "cell_type": "code",
      "metadata": {
        "colab": {
          "base_uri": "https://localhost:8080/",
          "height": 206
        },
        "id": "GpgOCTfcU-nI",
        "outputId": "625aca62-85e9-4a10-e2c6-9d2e047b8b8f"
      },
      "source": [
        "df.tail()"
      ],
      "execution_count": null,
      "outputs": [
        {
          "output_type": "execute_result",
          "data": {
            "text/html": [
              "<div>\n",
              "<style scoped>\n",
              "    .dataframe tbody tr th:only-of-type {\n",
              "        vertical-align: middle;\n",
              "    }\n",
              "\n",
              "    .dataframe tbody tr th {\n",
              "        vertical-align: top;\n",
              "    }\n",
              "\n",
              "    .dataframe thead th {\n",
              "        text-align: right;\n",
              "    }\n",
              "</style>\n",
              "<table border=\"1\" class=\"dataframe\">\n",
              "  <thead>\n",
              "    <tr style=\"text-align: right;\">\n",
              "      <th></th>\n",
              "      <th>date</th>\n",
              "      <th>new case</th>\n",
              "      <th>death</th>\n",
              "    </tr>\n",
              "  </thead>\n",
              "  <tbody>\n",
              "    <tr>\n",
              "      <th>414</th>\n",
              "      <td>11/15/2021</td>\n",
              "      <td>58690</td>\n",
              "      <td>443</td>\n",
              "    </tr>\n",
              "    <tr>\n",
              "      <th>415</th>\n",
              "      <td>11/16/2021</td>\n",
              "      <td>23093</td>\n",
              "      <td>117</td>\n",
              "    </tr>\n",
              "    <tr>\n",
              "      <th>416</th>\n",
              "      <td>11/17/2021</td>\n",
              "      <td>151953</td>\n",
              "      <td>1157</td>\n",
              "    </tr>\n",
              "    <tr>\n",
              "      <th>417</th>\n",
              "      <td>11/18/2021</td>\n",
              "      <td>98324</td>\n",
              "      <td>1567</td>\n",
              "    </tr>\n",
              "    <tr>\n",
              "      <th>418</th>\n",
              "      <td>11/19/2021</td>\n",
              "      <td>105962</td>\n",
              "      <td>1711</td>\n",
              "    </tr>\n",
              "  </tbody>\n",
              "</table>\n",
              "</div>"
            ],
            "text/plain": [
              "           date  new case  death\n",
              "414  11/15/2021     58690    443\n",
              "415  11/16/2021     23093    117\n",
              "416  11/17/2021    151953   1157\n",
              "417  11/18/2021     98324   1567\n",
              "418  11/19/2021    105962   1711"
            ]
          },
          "metadata": {},
          "execution_count": 35
        }
      ]
    },
    {
      "cell_type": "code",
      "metadata": {
        "id": "ijmwpW1gU-nJ"
      },
      "source": [
        "df1=df.reset_index()['death']"
      ],
      "execution_count": null,
      "outputs": []
    },
    {
      "cell_type": "code",
      "metadata": {
        "colab": {
          "base_uri": "https://localhost:8080/"
        },
        "id": "aKoLe-HhU-nL",
        "outputId": "0c8b46e5-095f-4c85-ada4-adc9a34dd959"
      },
      "source": [
        "df1"
      ],
      "execution_count": null,
      "outputs": [
        {
          "output_type": "execute_result",
          "data": {
            "text/plain": [
              "0       763\n",
              "1       672\n",
              "2       498\n",
              "3       401\n",
              "4       794\n",
              "       ... \n",
              "414     443\n",
              "415     117\n",
              "416    1157\n",
              "417    1567\n",
              "418    1711\n",
              "Name: death, Length: 419, dtype: int64"
            ]
          },
          "metadata": {},
          "execution_count": 37
        }
      ]
    },
    {
      "cell_type": "code",
      "metadata": {
        "colab": {
          "base_uri": "https://localhost:8080/",
          "height": 282
        },
        "id": "pSwnk45GU-nN",
        "outputId": "69a27b91-4ed8-437b-a5c0-2a2aa68efa4b"
      },
      "source": [
        "import matplotlib.pyplot as plt\n",
        "plt.plot(df1)"
      ],
      "execution_count": null,
      "outputs": [
        {
          "output_type": "execute_result",
          "data": {
            "text/plain": [
              "[<matplotlib.lines.Line2D at 0x7fd36e7a70d0>]"
            ]
          },
          "metadata": {},
          "execution_count": 38
        },
        {
          "output_type": "display_data",
          "data": {
            "image/png": "[encoded data removed]",
            "text/plain": [
              "<Figure size 432x288 with 1 Axes>"
            ]
          },
          "metadata": {
            "needs_background": "light"
          }
        }
      ]
    },
    {
      "cell_type": "markdown",
      "metadata": {
        "id": "zbJn0GUS5evX"
      },
      "source": [
        "# **Data Preprocessing**"
      ]
    },
    {
      "cell_type": "code",
      "metadata": {
        "id": "wMEO68luU-nQ"
      },
      "source": [
        "import numpy as np"
      ],
      "execution_count": null,
      "outputs": []
    },
    {
      "cell_type": "code",
      "metadata": {
        "id": "VWgWE33lU-nS"
      },
      "source": [
        "from sklearn.preprocessing import MinMaxScaler\n",
        "scaler=MinMaxScaler(feature_range=(0,1))\n",
        "df1=scaler.fit_transform(np.array(df1).reshape(-1,1))"
      ],
      "execution_count": null,
      "outputs": []
    },
    {
      "cell_type": "code",
      "metadata": {
        "colab": {
          "base_uri": "https://localhost:8080/"
        },
        "id": "eLO4CR7YU-nS",
        "outputId": "ed26c133-7bb2-4488-eedf-a5f00599604a"
      },
      "source": [
        "print(df1)"
      ],
      "execution_count": null,
      "outputs": [
        {
          "output_type": "stream",
          "name": "stdout",
          "text": [
            "[[1.31759483e-01]\n",
            " [1.13397902e-01]\n",
            " [7.82889427e-02]\n",
            " [5.87167070e-02]\n",
            " [1.38014528e-01]\n",
            " [1.15617433e-01]\n",
            " [1.28732849e-01]\n",
            " [1.61420500e-01]\n",
            " [8.69652946e-02]\n",
            " [9.78611784e-02]\n",
            " [8.31315577e-02]\n",
            " [1.05125101e-01]\n",
            " [1.39225182e-01]\n",
            " [1.23284907e-01]\n",
            " [1.36400323e-01]\n",
            " [1.15012107e-01]\n",
            " [9.40274415e-02]\n",
            " [7.92978208e-02]\n",
            " [1.10371267e-01]\n",
            " [1.40839387e-01]\n",
            " [1.20863600e-01]\n",
            " [1.54560129e-01]\n",
            " [1.15213882e-01]\n",
            " [1.30750605e-01]\n",
            " [1.00887813e-01]\n",
            " [1.37610977e-01]\n",
            " [1.87046005e-01]\n",
            " [1.64447135e-01]\n",
            " [1.66464891e-01]\n",
            " [1.37610977e-01]\n",
            " [9.92736077e-02]\n",
            " [1.17635190e-01]\n",
            " [1.58192090e-01]\n",
            " [1.95318805e-01]\n",
            " [1.99757869e-01]\n",
            " [1.62832930e-01]\n",
            " [1.66061340e-01]\n",
            " [1.19451170e-01]\n",
            " [1.27723971e-01]\n",
            " [1.88054883e-01]\n",
            " [2.39709443e-01]\n",
            " [2.21146086e-01]\n",
            " [2.36682809e-01]\n",
            " [1.93704600e-01]\n",
            " [1.54560129e-01]\n",
            " [1.69087974e-01]\n",
            " [3.16787732e-01]\n",
            " [2.82082324e-01]\n",
            " [2.53833737e-01]\n",
            " [2.32243745e-01]\n",
            " [2.69774011e-01]\n",
            " [1.86844229e-01]\n",
            " [1.87449556e-01]\n",
            " [2.98022599e-01]\n",
            " [3.50282486e-01]\n",
            " [3.60371267e-01]\n",
            " [3.76109766e-01]\n",
            " [3.22639225e-01]\n",
            " [2.38498789e-01]\n",
            " [2.73809524e-01]\n",
            " [3.53510896e-01]\n",
            " [4.39063761e-01]\n",
            " [3.13761098e-01]\n",
            " [3.13155771e-01]\n",
            " [2.79257466e-01]\n",
            " [2.33656174e-01]\n",
            " [2.97417272e-01]\n",
            " [4.55811138e-01]\n",
            " [5.36521388e-01]\n",
            " [5.24011299e-01]\n",
            " [5.05649718e-01]\n",
            " [4.51170299e-01]\n",
            " [3.02461663e-01]\n",
            " [3.84584342e-01]\n",
            " [4.88700565e-01]\n",
            " [6.54963680e-01]\n",
            " [5.20177563e-01]\n",
            " [6.25100888e-01]\n",
            " [4.62066182e-01]\n",
            " [3.87409201e-01]\n",
            " [3.84786118e-01]\n",
            " [5.31678773e-01]\n",
            " [6.62025827e-01]\n",
            " [6.48910412e-01]\n",
            " [5.73849879e-01]\n",
            " [5.16142050e-01]\n",
            " [3.93058918e-01]\n",
            " [4.19289750e-01]\n",
            " [5.61339790e-01]\n",
            " [6.20056497e-01]\n",
            " [5.87368846e-01]\n",
            " [4.24939467e-01]\n",
            " [3.14164649e-01]\n",
            " [3.56739306e-01]\n",
            " [4.28167877e-01]\n",
            " [6.49717514e-01]\n",
            " [7.35472155e-01]\n",
            " [7.35875706e-01]\n",
            " [5.88579500e-01]\n",
            " [4.50564972e-01]\n",
            " [3.85189669e-01]\n",
            " [3.95278450e-01]\n",
            " [6.80992736e-01]\n",
            " [7.54035513e-01]\n",
            " [7.73607748e-01]\n",
            " [7.38902341e-01]\n",
            " [6.50322841e-01]\n",
            " [4.90314770e-01]\n",
            " [7.10451977e-01]\n",
            " [7.00968523e-01]\n",
            " [7.90556901e-01]\n",
            " [7.28208232e-01]\n",
            " [6.61420500e-01]\n",
            " [6.89467312e-01]\n",
            " [4.98385795e-01]\n",
            " [4.40677966e-01]\n",
            " [5.26836158e-01]\n",
            " [7.50605327e-01]\n",
            " [7.48789346e-01]\n",
            " [7.18926554e-01]\n",
            " [5.70823245e-01]\n",
            " [4.79620662e-01]\n",
            " [4.04156578e-01]\n",
            " [6.89870864e-01]\n",
            " [7.81275222e-01]\n",
            " [7.53631961e-01]\n",
            " [6.33777240e-01]\n",
            " [5.36521388e-01]\n",
            " [4.38660210e-01]\n",
            " [4.35230024e-01]\n",
            " [5.72033898e-01]\n",
            " [6.49313963e-01]\n",
            " [6.04116223e-01]\n",
            " [6.66263115e-01]\n",
            " [5.32485876e-01]\n",
            " [3.43623890e-01]\n",
            " [3.19612591e-01]\n",
            " [4.65092817e-01]\n",
            " [5.44995964e-01]\n",
            " [6.29136400e-01]\n",
            " [1.00000000e+00]\n",
            " [6.37812752e-01]\n",
            " [2.92171106e-01]\n",
            " [2.56456820e-01]\n",
            " [2.64326069e-01]\n",
            " [4.26553672e-01]\n",
            " [4.26553672e-01]\n",
            " [4.64891041e-01]\n",
            " [3.43422115e-01]\n",
            " [2.88740920e-01]\n",
            " [2.80468119e-01]\n",
            " [3.14568200e-01]\n",
            " [3.81759483e-01]\n",
            " [5.67191283e-01]\n",
            " [3.60774818e-01]\n",
            " [3.01856336e-01]\n",
            " [1.95117030e-01]\n",
            " [2.28006457e-01]\n",
            " [2.48789346e-01]\n",
            " [2.91162228e-01]\n",
            " [2.88942696e-01]\n",
            " [3.72276029e-01]\n",
            " [2.33050847e-01]\n",
            " [1.59604520e-01]\n",
            " [1.43058918e-01]\n",
            " [2.07627119e-01]\n",
            " [2.95601291e-01]\n",
            " [2.42736077e-01]\n",
            " [2.69168684e-01]\n",
            " [1.73123487e-01]\n",
            " [1.08757062e-01]\n",
            " [1.18038741e-01]\n",
            " [1.51129944e-01]\n",
            " [1.87247780e-01]\n",
            " [1.45076675e-01]\n",
            " [2.18321227e-01]\n",
            " [1.21872478e-01]\n",
            " [8.71670702e-02]\n",
            " [1.64648910e-01]\n",
            " [1.27118644e-01]\n",
            " [2.03188055e-01]\n",
            " [1.76755448e-01]\n",
            " [1.91283293e-01]\n",
            " [1.48506860e-01]\n",
            " [1.03712672e-01]\n",
            " [8.79741727e-02]\n",
            " [1.24092010e-01]\n",
            " [1.70096852e-01]\n",
            " [1.40839387e-01]\n",
            " [1.45278450e-01]\n",
            " [1.26311542e-01]\n",
            " [8.19209040e-02]\n",
            " [5.10492333e-02]\n",
            " [1.23083132e-01]\n",
            " [1.42453592e-01]\n",
            " [1.51129944e-01]\n",
            " [1.50928168e-01]\n",
            " [1.28127522e-01]\n",
            " [7.28410008e-02]\n",
            " [8.21226796e-02]\n",
            " [1.26916868e-01]\n",
            " [1.38216303e-01]\n",
            " [1.34987893e-01]\n",
            " [1.39628733e-01]\n",
            " [1.05528652e-01]\n",
            " [7.86924939e-02]\n",
            " [7.42534302e-02]\n",
            " [1.24697337e-01]\n",
            " [1.30952381e-01]\n",
            " [1.32970137e-01]\n",
            " [1.47296207e-01]\n",
            " [1.10976594e-01]\n",
            " [6.43664245e-02]\n",
            " [7.38498789e-02]\n",
            " [8.27280065e-02]\n",
            " [1.47094431e-01]\n",
            " [1.31759483e-01]\n",
            " [1.35996772e-01]\n",
            " [1.02905569e-01]\n",
            " [8.03066990e-02]\n",
            " [6.90072639e-02]\n",
            " [1.14205004e-01]\n",
            " [1.20661824e-01]\n",
            " [1.11581921e-01]\n",
            " [1.38418079e-01]\n",
            " [1.02300242e-01]\n",
            " [5.91202583e-02]\n",
            " [5.85149314e-02]\n",
            " [9.82647296e-02]\n",
            " [1.18038741e-01]\n",
            " [9.52380952e-02]\n",
            " [1.14810331e-01]\n",
            " [6.25504439e-02]\n",
            " [6.77966102e-02]\n",
            " [5.18563358e-02]\n",
            " [9.82647296e-02]\n",
            " [9.88700565e-02]\n",
            " [8.37368846e-02]\n",
            " [1.09362389e-01]\n",
            " [5.85149314e-02]\n",
            " [3.38983051e-02]\n",
            " [9.28167877e-02]\n",
            " [7.70782889e-02]\n",
            " [8.13155771e-02]\n",
            " [8.71670702e-02]\n",
            " [1.18644068e-01]\n",
            " [3.75302663e-02]\n",
            " [2.94592413e-02]\n",
            " [2.21953188e-02]\n",
            " [4.49959645e-02]\n",
            " [7.70782889e-02]\n",
            " [7.38498789e-02]\n",
            " [9.80629540e-02]\n",
            " [5.71025020e-02]\n",
            " [6.35593220e-02]\n",
            " [4.21711057e-02]\n",
            " [4.07586764e-02]\n",
            " [5.54882970e-02]\n",
            " [5.73042776e-02]\n",
            " [5.79096045e-02]\n",
            " [2.03793382e-02]\n",
            " [7.46569814e-03]\n",
            " [1.73527038e-02]\n",
            " [3.93462470e-02]\n",
            " [4.58030670e-02]\n",
            " [3.45036320e-02]\n",
            " [3.26876513e-02]\n",
            " [2.86521388e-02]\n",
            " [2.09846651e-02]\n",
            " [3.16787732e-02]\n",
            " [4.05569007e-02]\n",
            " [4.62066182e-02]\n",
            " [4.05569007e-02]\n",
            " [5.89184826e-02]\n",
            " [2.60290557e-02]\n",
            " [1.23083132e-02]\n",
            " [1.67473769e-02]\n",
            " [3.34947538e-02]\n",
            " [2.76432607e-02]\n",
            " [3.51089588e-02]\n",
            " [3.77320420e-02]\n",
            " [8.07102502e-03]\n",
            " [2.01775626e-03]\n",
            " [0.00000000e+00]\n",
            " [3.81355932e-02]\n",
            " [2.92574657e-02]\n",
            " [3.04681195e-02]\n",
            " [4.05569007e-02]\n",
            " [6.65859564e-03]\n",
            " [4.03551251e-04]\n",
            " [3.91444713e-02]\n",
            " [4.60048426e-02]\n",
            " [4.47941889e-02]\n",
            " [4.29782082e-02]\n",
            " [4.17675545e-02]\n",
            " [1.25100888e-02]\n",
            " [7.86924939e-03]\n",
            " [3.57142857e-02]\n",
            " [4.19693301e-02]\n",
            " [5.64971751e-02]\n",
            " [4.66101695e-02]\n",
            " [6.07344633e-02]\n",
            " [2.76432607e-02]\n",
            " [2.68361582e-02]\n",
            " [6.21468927e-02]\n",
            " [7.86924939e-02]\n",
            " [7.62711864e-02]\n",
            " [7.72800646e-02]\n",
            " [1.08151735e-01]\n",
            " [5.64971751e-02]\n",
            " [4.86279257e-02]\n",
            " [1.08757062e-01]\n",
            " [1.19451170e-01]\n",
            " [1.24495561e-01]\n",
            " [1.27925747e-01]\n",
            " [1.43260694e-01]\n",
            " [1.05730428e-01]\n",
            " [8.19209040e-02]\n",
            " [1.19854722e-01]\n",
            " [1.68886199e-01]\n",
            " [9.38256659e-02]\n",
            " [1.71105730e-01]\n",
            " [2.16101695e-01]\n",
            " [1.50928168e-01]\n",
            " [1.08958838e-01]\n",
            " [1.42655367e-01]\n",
            " [2.13882163e-01]\n",
            " [2.72800646e-01]\n",
            " [2.51412429e-01]\n",
            " [2.89548023e-01]\n",
            " [2.06012914e-01]\n",
            " [1.53753027e-01]\n",
            " [2.11662631e-01]\n",
            " [3.03066990e-01]\n",
            " [3.07909605e-01]\n",
            " [3.31517353e-01]\n",
            " [3.42816788e-01]\n",
            " [2.65940274e-01]\n",
            " [2.10451977e-01]\n",
            " [2.17917676e-01]\n",
            " [3.32929782e-01]\n",
            " [3.75706215e-01]\n",
            " [3.76513317e-01]\n",
            " [3.63599677e-01]\n",
            " [2.71186441e-01]\n",
            " [2.33252623e-01]\n",
            " [1.89870864e-01]\n",
            " [2.82082324e-01]\n",
            " [3.93866021e-01]\n",
            " [4.20096852e-01]\n",
            " [4.30589185e-01]\n",
            " [3.19814366e-01]\n",
            " [2.01573850e-01]\n",
            " [2.35270379e-01]\n",
            " [4.55609362e-01]\n",
            " [4.69128329e-01]\n",
            " [3.92050040e-01]\n",
            " [4.33212268e-01]\n",
            " [2.84907183e-01]\n",
            " [2.08030670e-01]\n",
            " [3.16787732e-01]\n",
            " [3.53309120e-01]\n",
            " [4.34624697e-01]\n",
            " [3.91444713e-01]\n",
            " [4.70742534e-01]\n",
            " [2.58676352e-01]\n",
            " [1.73930589e-01]\n",
            " [3.54923325e-01]\n",
            " [4.05972559e-01]\n",
            " [4.44309927e-01]\n",
            " [3.70863600e-01]\n",
            " [4.18684423e-01]\n",
            " [2.34665052e-01]\n",
            " [1.58192090e-01]\n",
            " [2.35673931e-01]\n",
            " [3.90435835e-01]\n",
            " [3.98708636e-01]\n",
            " [3.28692494e-01]\n",
            " [4.34422922e-01]\n",
            " [1.77360775e-01]\n",
            " [1.79580307e-01]\n",
            " [1.65052462e-01]\n",
            " [3.59160613e-01]\n",
            " [3.49071832e-01]\n",
            " [2.91364003e-01]\n",
            " [3.87005650e-01]\n",
            " [1.52340597e-01]\n",
            " [1.09564165e-01]\n",
            " [4.26957224e-01]\n",
            " [3.42816788e-01]\n",
            " [3.40799031e-01]\n",
            " [2.83091203e-01]\n",
            " [3.71670702e-01]\n",
            " [9.44309927e-02]\n",
            " [3.43018563e-02]\n",
            " [2.02179177e-01]\n",
            " [3.79943503e-01]\n",
            " [3.42413236e-01]\n",
            " [2.38297014e-01]\n",
            " [3.54519774e-01]\n",
            " [5.08474576e-02]\n",
            " [2.42130751e-02]\n",
            " [2.30024213e-01]\n",
            " [2.69774011e-01]\n",
            " [2.31033091e-01]\n",
            " [2.21146086e-01]\n",
            " [3.06698951e-01]\n",
            " [5.50847458e-02]\n",
            " [1.35189669e-02]\n",
            " [2.26392252e-01]\n",
            " [2.93583535e-01]\n",
            " [2.51210654e-01]\n",
            " [1.44874899e-01]\n",
            " [3.60371267e-01]\n",
            " [6.71912833e-02]\n",
            " [1.41242938e-03]\n",
            " [2.11259080e-01]\n",
            " [2.93987086e-01]\n",
            " [3.23042776e-01]]\n"
          ]
        }
      ]
    },
    {
      "cell_type": "code",
      "metadata": {
        "colab": {
          "base_uri": "https://localhost:8080/",
          "height": 282
        },
        "id": "CqS6SfPMeaWa",
        "outputId": "ac2b48ec-46d3-464c-bff3-c4f72c3c26ca"
      },
      "source": [
        "import matplotlib.pyplot as plt\n",
        "plt.plot(df1)"
      ],
      "execution_count": null,
      "outputs": [
        {
          "output_type": "execute_result",
          "data": {
            "text/plain": [
              "[<matplotlib.lines.Line2D at 0x7fd36e7c3210>]"
            ]
          },
          "metadata": {},
          "execution_count": 42
        },
        {
          "output_type": "display_data",
          "data": {
            "image/png": "[encoded data removed]",
            "text/plain": [
              "<Figure size 432x288 with 1 Axes>"
            ]
          },
          "metadata": {
            "needs_background": "light"
          }
        }
      ]
    },
    {
      "cell_type": "code",
      "metadata": {
        "id": "-SNmx9gDU-nT"
      },
      "source": [
        "##splitting dataset into train and test split\n",
        "training_size=int(len(df1)*0.65)\n",
        "test_size=len(df1)-training_size\n",
        "train_data,test_data=df1[0:training_size,:],df1[training_size:len(df1),:1]"
      ],
      "execution_count": null,
      "outputs": []
    },
    {
      "cell_type": "code",
      "metadata": {
        "colab": {
          "base_uri": "https://localhost:8080/"
        },
        "id": "NPlqp4q1U-nV",
        "outputId": "065a9d8e-c8b9-40ba-9124-d0c07c83fa4f"
      },
      "source": [
        "training_size,test_size"
      ],
      "execution_count": null,
      "outputs": [
        {
          "output_type": "execute_result",
          "data": {
            "text/plain": [
              "(272, 147)"
            ]
          },
          "metadata": {},
          "execution_count": 44
        }
      ]
    },
    {
      "cell_type": "code",
      "metadata": {
        "colab": {
          "base_uri": "https://localhost:8080/"
        },
        "id": "nkBYTyeJU-nW",
        "outputId": "7b4ff879-8293-4f6b-9886-8b7a4d2b1819"
      },
      "source": [
        "train_data"
      ],
      "execution_count": null,
      "outputs": [
        {
          "output_type": "execute_result",
          "data": {
            "text/plain": [
              "array([[0.13175948],\n",
              "       [0.1133979 ],\n",
              "       [0.07828894],\n",
              "       [0.05871671],\n",
              "       [0.13801453],\n",
              "       [0.11561743],\n",
              "       [0.12873285],\n",
              "       [0.1614205 ],\n",
              "       [0.08696529],\n",
              "       [0.09786118],\n",
              "       [0.08313156],\n",
              "       [0.1051251 ],\n",
              "       [0.13922518],\n",
              "       [0.12328491],\n",
              "       [0.13640032],\n",
              "       [0.11501211],\n",
              "       [0.09402744],\n",
              "       [0.07929782],\n",
              "       [0.11037127],\n",
              "       [0.14083939],\n",
              "       [0.1208636 ],\n",
              "       [0.15456013],\n",
              "       [0.11521388],\n",
              "       [0.13075061],\n",
              "       [0.10088781],\n",
              "       [0.13761098],\n",
              "       [0.187046  ],\n",
              "       [0.16444713],\n",
              "       [0.16646489],\n",
              "       [0.13761098],\n",
              "       [0.09927361],\n",
              "       [0.11763519],\n",
              "       [0.15819209],\n",
              "       [0.19531881],\n",
              "       [0.19975787],\n",
              "       [0.16283293],\n",
              "       [0.16606134],\n",
              "       [0.11945117],\n",
              "       [0.12772397],\n",
              "       [0.18805488],\n",
              "       [0.23970944],\n",
              "       [0.22114609],\n",
              "       [0.23668281],\n",
              "       [0.1937046 ],\n",
              "       [0.15456013],\n",
              "       [0.16908797],\n",
              "       [0.31678773],\n",
              "       [0.28208232],\n",
              "       [0.25383374],\n",
              "       [0.23224374],\n",
              "       [0.26977401],\n",
              "       [0.18684423],\n",
              "       [0.18744956],\n",
              "       [0.2980226 ],\n",
              "       [0.35028249],\n",
              "       [0.36037127],\n",
              "       [0.37610977],\n",
              "       [0.32263923],\n",
              "       [0.23849879],\n",
              "       [0.27380952],\n",
              "       [0.3535109 ],\n",
              "       [0.43906376],\n",
              "       [0.3137611 ],\n",
              "       [0.31315577],\n",
              "       [0.27925747],\n",
              "       [0.23365617],\n",
              "       [0.29741727],\n",
              "       [0.45581114],\n",
              "       [0.53652139],\n",
              "       [0.5240113 ],\n",
              "       [0.50564972],\n",
              "       [0.4511703 ],\n",
              "       [0.30246166],\n",
              "       [0.38458434],\n",
              "       [0.48870056],\n",
              "       [0.65496368],\n",
              "       [0.52017756],\n",
              "       [0.62510089],\n",
              "       [0.46206618],\n",
              "       [0.3874092 ],\n",
              "       [0.38478612],\n",
              "       [0.53167877],\n",
              "       [0.66202583],\n",
              "       [0.64891041],\n",
              "       [0.57384988],\n",
              "       [0.51614205],\n",
              "       [0.39305892],\n",
              "       [0.41928975],\n",
              "       [0.56133979],\n",
              "       [0.6200565 ],\n",
              "       [0.58736885],\n",
              "       [0.42493947],\n",
              "       [0.31416465],\n",
              "       [0.35673931],\n",
              "       [0.42816788],\n",
              "       [0.64971751],\n",
              "       [0.73547215],\n",
              "       [0.73587571],\n",
              "       [0.5885795 ],\n",
              "       [0.45056497],\n",
              "       [0.38518967],\n",
              "       [0.39527845],\n",
              "       [0.68099274],\n",
              "       [0.75403551],\n",
              "       [0.77360775],\n",
              "       [0.73890234],\n",
              "       [0.65032284],\n",
              "       [0.49031477],\n",
              "       [0.71045198],\n",
              "       [0.70096852],\n",
              "       [0.7905569 ],\n",
              "       [0.72820823],\n",
              "       [0.6614205 ],\n",
              "       [0.68946731],\n",
              "       [0.49838579],\n",
              "       [0.44067797],\n",
              "       [0.52683616],\n",
              "       [0.75060533],\n",
              "       [0.74878935],\n",
              "       [0.71892655],\n",
              "       [0.57082324],\n",
              "       [0.47962066],\n",
              "       [0.40415658],\n",
              "       [0.68987086],\n",
              "       [0.78127522],\n",
              "       [0.75363196],\n",
              "       [0.63377724],\n",
              "       [0.53652139],\n",
              "       [0.43866021],\n",
              "       [0.43523002],\n",
              "       [0.5720339 ],\n",
              "       [0.64931396],\n",
              "       [0.60411622],\n",
              "       [0.66626312],\n",
              "       [0.53248588],\n",
              "       [0.34362389],\n",
              "       [0.31961259],\n",
              "       [0.46509282],\n",
              "       [0.54499596],\n",
              "       [0.6291364 ],\n",
              "       [1.        ],\n",
              "       [0.63781275],\n",
              "       [0.29217111],\n",
              "       [0.25645682],\n",
              "       [0.26432607],\n",
              "       [0.42655367],\n",
              "       [0.42655367],\n",
              "       [0.46489104],\n",
              "       [0.34342211],\n",
              "       [0.28874092],\n",
              "       [0.28046812],\n",
              "       [0.3145682 ],\n",
              "       [0.38175948],\n",
              "       [0.56719128],\n",
              "       [0.36077482],\n",
              "       [0.30185634],\n",
              "       [0.19511703],\n",
              "       [0.22800646],\n",
              "       [0.24878935],\n",
              "       [0.29116223],\n",
              "       [0.2889427 ],\n",
              "       [0.37227603],\n",
              "       [0.23305085],\n",
              "       [0.15960452],\n",
              "       [0.14305892],\n",
              "       [0.20762712],\n",
              "       [0.29560129],\n",
              "       [0.24273608],\n",
              "       [0.26916868],\n",
              "       [0.17312349],\n",
              "       [0.10875706],\n",
              "       [0.11803874],\n",
              "       [0.15112994],\n",
              "       [0.18724778],\n",
              "       [0.14507667],\n",
              "       [0.21832123],\n",
              "       [0.12187248],\n",
              "       [0.08716707],\n",
              "       [0.16464891],\n",
              "       [0.12711864],\n",
              "       [0.20318805],\n",
              "       [0.17675545],\n",
              "       [0.19128329],\n",
              "       [0.14850686],\n",
              "       [0.10371267],\n",
              "       [0.08797417],\n",
              "       [0.12409201],\n",
              "       [0.17009685],\n",
              "       [0.14083939],\n",
              "       [0.14527845],\n",
              "       [0.12631154],\n",
              "       [0.0819209 ],\n",
              "       [0.05104923],\n",
              "       [0.12308313],\n",
              "       [0.14245359],\n",
              "       [0.15112994],\n",
              "       [0.15092817],\n",
              "       [0.12812752],\n",
              "       [0.072841  ],\n",
              "       [0.08212268],\n",
              "       [0.12691687],\n",
              "       [0.1382163 ],\n",
              "       [0.13498789],\n",
              "       [0.13962873],\n",
              "       [0.10552865],\n",
              "       [0.07869249],\n",
              "       [0.07425343],\n",
              "       [0.12469734],\n",
              "       [0.13095238],\n",
              "       [0.13297014],\n",
              "       [0.14729621],\n",
              "       [0.11097659],\n",
              "       [0.06436642],\n",
              "       [0.07384988],\n",
              "       [0.08272801],\n",
              "       [0.14709443],\n",
              "       [0.13175948],\n",
              "       [0.13599677],\n",
              "       [0.10290557],\n",
              "       [0.0803067 ],\n",
              "       [0.06900726],\n",
              "       [0.114205  ],\n",
              "       [0.12066182],\n",
              "       [0.11158192],\n",
              "       [0.13841808],\n",
              "       [0.10230024],\n",
              "       [0.05912026],\n",
              "       [0.05851493],\n",
              "       [0.09826473],\n",
              "       [0.11803874],\n",
              "       [0.0952381 ],\n",
              "       [0.11481033],\n",
              "       [0.06255044],\n",
              "       [0.06779661],\n",
              "       [0.05185634],\n",
              "       [0.09826473],\n",
              "       [0.09887006],\n",
              "       [0.08373688],\n",
              "       [0.10936239],\n",
              "       [0.05851493],\n",
              "       [0.03389831],\n",
              "       [0.09281679],\n",
              "       [0.07707829],\n",
              "       [0.08131558],\n",
              "       [0.08716707],\n",
              "       [0.11864407],\n",
              "       [0.03753027],\n",
              "       [0.02945924],\n",
              "       [0.02219532],\n",
              "       [0.04499596],\n",
              "       [0.07707829],\n",
              "       [0.07384988],\n",
              "       [0.09806295],\n",
              "       [0.0571025 ],\n",
              "       [0.06355932],\n",
              "       [0.04217111],\n",
              "       [0.04075868],\n",
              "       [0.0554883 ],\n",
              "       [0.05730428],\n",
              "       [0.0579096 ],\n",
              "       [0.02037934],\n",
              "       [0.0074657 ],\n",
              "       [0.0173527 ],\n",
              "       [0.03934625],\n",
              "       [0.04580307],\n",
              "       [0.03450363],\n",
              "       [0.03268765],\n",
              "       [0.02865214],\n",
              "       [0.02098467],\n",
              "       [0.03167877],\n",
              "       [0.0405569 ],\n",
              "       [0.04620662]])"
            ]
          },
          "metadata": {},
          "execution_count": 45
        }
      ]
    },
    {
      "cell_type": "code",
      "metadata": {
        "id": "Bx15Zi4kU-nX"
      },
      "source": [
        "import numpy\n",
        "# convert an array of values into a dataset matrix\n",
        "def create_dataset(dataset, time_step=1):\n",
        "\tdataX, dataY = [], []\n",
        "\tfor i in range(len(dataset)-time_step-1):\n",
        "\t\ta = dataset[i:(i+time_step), 0]   ###i=0, 0,1,2,3-----99   100 \n",
        "\t\tdataX.append(a)\n",
        "\t\tdataY.append(dataset[i + time_step, 0])\n",
        "\treturn numpy.array(dataX), numpy.array(dataY)"
      ],
      "execution_count": null,
      "outputs": []
    },
    {
      "cell_type": "code",
      "metadata": {
        "id": "K7yDgAeAU-nY"
      },
      "source": [
        "# reshape into X=t,t+1,t+2,t+3 and Y=t+4\n",
        "time_step = 10\n",
        "X_train, y_train = create_dataset(train_data, time_step)\n",
        "X_test, ytest = create_dataset(test_data, time_step)"
      ],
      "execution_count": null,
      "outputs": []
    },
    {
      "cell_type": "code",
      "metadata": {
        "colab": {
          "base_uri": "https://localhost:8080/"
        },
        "id": "ldKjB4UOU-nZ",
        "outputId": "8e17e99a-9e98-4218-f459-2236e466b1f6"
      },
      "source": [
        "print(X_train.shape), print(y_train.shape)"
      ],
      "execution_count": null,
      "outputs": [
        {
          "output_type": "stream",
          "name": "stdout",
          "text": [
            "(261, 10)\n",
            "(261,)\n"
          ]
        },
        {
          "output_type": "execute_result",
          "data": {
            "text/plain": [
              "(None, None)"
            ]
          },
          "metadata": {},
          "execution_count": 48
        }
      ]
    },
    {
      "cell_type": "code",
      "metadata": {
        "colab": {
          "base_uri": "https://localhost:8080/"
        },
        "id": "WIQbLpyFU-na",
        "outputId": "2cc48fbd-7919-48e7-a3b2-9eda76b84422"
      },
      "source": [
        "print(X_test.shape), print(ytest.shape)"
      ],
      "execution_count": null,
      "outputs": [
        {
          "output_type": "stream",
          "name": "stdout",
          "text": [
            "(136, 10)\n",
            "(136,)\n"
          ]
        },
        {
          "output_type": "execute_result",
          "data": {
            "text/plain": [
              "(None, None)"
            ]
          },
          "metadata": {},
          "execution_count": 49
        }
      ]
    },
    {
      "cell_type": "code",
      "metadata": {
        "id": "DxWQ-NPGU-nb"
      },
      "source": [
        "# reshape input to be [samples, time steps, features] which is required for LSTM\n",
        "X_train =X_train.reshape(X_train.shape[0],X_train.shape[1] , 1)\n",
        "X_test = X_test.reshape(X_test.shape[0],X_test.shape[1] , 1)"
      ],
      "execution_count": null,
      "outputs": []
    },
    {
      "cell_type": "markdown",
      "metadata": {
        "id": "33N9iMXC_RVp"
      },
      "source": [
        "# **Stacked LSTM**"
      ]
    },
    {
      "cell_type": "code",
      "metadata": {
        "id": "oYVS8e0kU-nb"
      },
      "source": [
        "### Create the Stacked LSTM model\n",
        "from tensorflow.keras.models import Sequential\n",
        "from tensorflow.keras.layers import Dense\n",
        "from tensorflow.keras.layers import LSTM"
      ],
      "execution_count": null,
      "outputs": []
    },
    {
      "cell_type": "code",
      "metadata": {
        "id": "0m1L1x_nU-nc"
      },
      "source": [
        "model=Sequential()\n",
        "model.add(LSTM(50,return_sequences=True,input_shape=(10,1)))\n",
        "model.add(LSTM(50,return_sequences=True))\n",
        "model.add(LSTM(50,return_sequences=True))\n",
        "model.add(LSTM(50))\n",
        "model.add(Dense(1))\n",
        "model.compile(loss='mean_squared_error',optimizer='adam')\n"
      ],
      "execution_count": null,
      "outputs": []
    },
    {
      "cell_type": "code",
      "metadata": {
        "colab": {
          "base_uri": "https://localhost:8080/"
        },
        "id": "t6_soEUbU-nc",
        "outputId": "e103d1ed-07e7-4186-e471-20fa1663cf1a"
      },
      "source": [
        "model.summary()"
      ],
      "execution_count": null,
      "outputs": [
        {
          "output_type": "stream",
          "name": "stdout",
          "text": [
            "Model: \"sequential_1\"\n",
            "_________________________________________________________________\n",
            " Layer (type)                Output Shape              Param #   \n",
            "=================================================================\n",
            " lstm_4 (LSTM)               (None, 10, 50)            10400     \n",
            "                                                                 \n",
            " lstm_5 (LSTM)               (None, 10, 50)            20200     \n",
            "                                                                 \n",
            " lstm_6 (LSTM)               (None, 10, 50)            20200     \n",
            "                                                                 \n",
            " lstm_7 (LSTM)               (None, 50)                20200     \n",
            "                                                                 \n",
            " dense_1 (Dense)             (None, 1)                 51        \n",
            "                                                                 \n",
            "=================================================================\n",
            "Total params: 71,051\n",
            "Trainable params: 71,051\n",
            "Non-trainable params: 0\n",
            "_________________________________________________________________\n"
          ]
        }
      ]
    },
    {
      "cell_type": "code",
      "metadata": {
        "colab": {
          "base_uri": "https://localhost:8080/"
        },
        "id": "eo1RBgrLU-ne",
        "outputId": "26d8f632-01b5-4ceb-d4d2-956b1075ca83"
      },
      "source": [
        "model.fit(X_train,y_train,validation_data=(X_test,ytest),epochs=100,batch_size=32,verbose=1)"
      ],
      "execution_count": null,
      "outputs": [
        {
          "output_type": "stream",
          "name": "stdout",
          "text": [
            "Epoch 1/100\n",
            "9/9 [==============================] - 9s 232ms/step - loss: 0.0776 - val_loss: 0.0237\n",
            "Epoch 2/100\n",
            "9/9 [==============================] - 0s 25ms/step - loss: 0.0329 - val_loss: 0.0117\n",
            "Epoch 3/100\n",
            "9/9 [==============================] - 0s 25ms/step - loss: 0.0231 - val_loss: 0.0103\n",
            "Epoch 4/100\n",
            "9/9 [==============================] - 0s 24ms/step - loss: 0.0157 - val_loss: 0.0101\n",
            "Epoch 5/100\n",
            "9/9 [==============================] - 0s 25ms/step - loss: 0.0141 - val_loss: 0.0082\n",
            "Epoch 6/100\n",
            "9/9 [==============================] - 0s 25ms/step - loss: 0.0111 - val_loss: 0.0088\n",
            "Epoch 7/100\n",
            "9/9 [==============================] - 0s 25ms/step - loss: 0.0097 - val_loss: 0.0082\n",
            "Epoch 8/100\n",
            "9/9 [==============================] - 0s 25ms/step - loss: 0.0105 - val_loss: 0.0098\n",
            "Epoch 9/100\n",
            "9/9 [==============================] - 0s 29ms/step - loss: 0.0113 - val_loss: 0.0082\n",
            "Epoch 10/100\n",
            "9/9 [==============================] - 0s 25ms/step - loss: 0.0098 - val_loss: 0.0085\n",
            "Epoch 11/100\n",
            "9/9 [==============================] - 0s 24ms/step - loss: 0.0100 - val_loss: 0.0082\n",
            "Epoch 12/100\n",
            "9/9 [==============================] - 0s 25ms/step - loss: 0.0097 - val_loss: 0.0091\n",
            "Epoch 13/100\n",
            "9/9 [==============================] - 0s 25ms/step - loss: 0.0104 - val_loss: 0.0089\n",
            "Epoch 14/100\n",
            "9/9 [==============================] - 0s 25ms/step - loss: 0.0116 - val_loss: 0.0101\n",
            "Epoch 15/100\n",
            "9/9 [==============================] - 0s 25ms/step - loss: 0.0118 - val_loss: 0.0085\n",
            "Epoch 16/100\n",
            "9/9 [==============================] - 0s 25ms/step - loss: 0.0100 - val_loss: 0.0082\n",
            "Epoch 17/100\n",
            "9/9 [==============================] - 0s 24ms/step - loss: 0.0100 - val_loss: 0.0082\n",
            "Epoch 18/100\n",
            "9/9 [==============================] - 0s 25ms/step - loss: 0.0094 - val_loss: 0.0082\n",
            "Epoch 19/100\n",
            "9/9 [==============================] - 0s 25ms/step - loss: 0.0094 - val_loss: 0.0080\n",
            "Epoch 20/100\n",
            "9/9 [==============================] - 0s 24ms/step - loss: 0.0095 - val_loss: 0.0079\n",
            "Epoch 21/100\n",
            "9/9 [==============================] - 0s 25ms/step - loss: 0.0096 - val_loss: 0.0085\n",
            "Epoch 22/100\n",
            "9/9 [==============================] - 0s 25ms/step - loss: 0.0105 - val_loss: 0.0080\n",
            "Epoch 23/100\n",
            "9/9 [==============================] - 0s 25ms/step - loss: 0.0093 - val_loss: 0.0083\n",
            "Epoch 24/100\n",
            "9/9 [==============================] - 0s 24ms/step - loss: 0.0100 - val_loss: 0.0083\n",
            "Epoch 25/100\n",
            "9/9 [==============================] - 0s 24ms/step - loss: 0.0098 - val_loss: 0.0091\n",
            "Epoch 26/100\n",
            "9/9 [==============================] - 0s 25ms/step - loss: 0.0111 - val_loss: 0.0081\n",
            "Epoch 27/100\n",
            "9/9 [==============================] - 0s 25ms/step - loss: 0.0099 - val_loss: 0.0086\n",
            "Epoch 28/100\n",
            "9/9 [==============================] - 0s 24ms/step - loss: 0.0102 - val_loss: 0.0081\n",
            "Epoch 29/100\n",
            "9/9 [==============================] - 0s 29ms/step - loss: 0.0095 - val_loss: 0.0079\n",
            "Epoch 30/100\n",
            "9/9 [==============================] - 0s 24ms/step - loss: 0.0091 - val_loss: 0.0080\n",
            "Epoch 31/100\n",
            "9/9 [==============================] - 0s 25ms/step - loss: 0.0093 - val_loss: 0.0080\n",
            "Epoch 32/100\n",
            "9/9 [==============================] - 0s 29ms/step - loss: 0.0091 - val_loss: 0.0079\n",
            "Epoch 33/100\n",
            "9/9 [==============================] - 0s 25ms/step - loss: 0.0091 - val_loss: 0.0078\n",
            "Epoch 34/100\n",
            "9/9 [==============================] - 0s 25ms/step - loss: 0.0092 - val_loss: 0.0079\n",
            "Epoch 35/100\n",
            "9/9 [==============================] - 0s 26ms/step - loss: 0.0093 - val_loss: 0.0079\n",
            "Epoch 36/100\n",
            "9/9 [==============================] - 0s 25ms/step - loss: 0.0092 - val_loss: 0.0083\n",
            "Epoch 37/100\n",
            "9/9 [==============================] - 0s 26ms/step - loss: 0.0094 - val_loss: 0.0100\n",
            "Epoch 38/100\n",
            "9/9 [==============================] - 0s 25ms/step - loss: 0.0114 - val_loss: 0.0095\n",
            "Epoch 39/100\n",
            "9/9 [==============================] - 0s 25ms/step - loss: 0.0104 - val_loss: 0.0089\n",
            "Epoch 40/100\n",
            "9/9 [==============================] - 0s 25ms/step - loss: 0.0091 - val_loss: 0.0091\n",
            "Epoch 41/100\n",
            "9/9 [==============================] - 0s 25ms/step - loss: 0.0094 - val_loss: 0.0084\n",
            "Epoch 42/100\n",
            "9/9 [==============================] - 0s 24ms/step - loss: 0.0092 - val_loss: 0.0077\n",
            "Epoch 43/100\n",
            "9/9 [==============================] - 0s 25ms/step - loss: 0.0091 - val_loss: 0.0080\n",
            "Epoch 44/100\n",
            "9/9 [==============================] - 0s 26ms/step - loss: 0.0090 - val_loss: 0.0077\n",
            "Epoch 45/100\n",
            "9/9 [==============================] - 0s 24ms/step - loss: 0.0089 - val_loss: 0.0076\n",
            "Epoch 46/100\n",
            "9/9 [==============================] - 0s 25ms/step - loss: 0.0089 - val_loss: 0.0082\n",
            "Epoch 47/100\n",
            "9/9 [==============================] - 0s 25ms/step - loss: 0.0090 - val_loss: 0.0082\n",
            "Epoch 48/100\n",
            "9/9 [==============================] - 0s 25ms/step - loss: 0.0090 - val_loss: 0.0075\n",
            "Epoch 49/100\n",
            "9/9 [==============================] - 0s 25ms/step - loss: 0.0099 - val_loss: 0.0087\n",
            "Epoch 50/100\n",
            "9/9 [==============================] - 0s 29ms/step - loss: 0.0104 - val_loss: 0.0083\n",
            "Epoch 51/100\n",
            "9/9 [==============================] - 0s 26ms/step - loss: 0.0095 - val_loss: 0.0086\n",
            "Epoch 52/100\n",
            "9/9 [==============================] - 0s 25ms/step - loss: 0.0097 - val_loss: 0.0078\n",
            "Epoch 53/100\n",
            "9/9 [==============================] - 0s 25ms/step - loss: 0.0084 - val_loss: 0.0078\n",
            "Epoch 54/100\n",
            "9/9 [==============================] - 0s 25ms/step - loss: 0.0090 - val_loss: 0.0076\n",
            "Epoch 55/100\n",
            "9/9 [==============================] - 0s 25ms/step - loss: 0.0085 - val_loss: 0.0073\n",
            "Epoch 56/100\n",
            "9/9 [==============================] - 0s 25ms/step - loss: 0.0084 - val_loss: 0.0071\n",
            "Epoch 57/100\n",
            "9/9 [==============================] - 0s 26ms/step - loss: 0.0082 - val_loss: 0.0075\n",
            "Epoch 58/100\n",
            "9/9 [==============================] - 0s 25ms/step - loss: 0.0085 - val_loss: 0.0074\n",
            "Epoch 59/100\n",
            "9/9 [==============================] - 0s 25ms/step - loss: 0.0092 - val_loss: 0.0085\n",
            "Epoch 60/100\n",
            "9/9 [==============================] - 0s 26ms/step - loss: 0.0103 - val_loss: 0.0071\n",
            "Epoch 61/100\n",
            "9/9 [==============================] - 0s 25ms/step - loss: 0.0096 - val_loss: 0.0074\n",
            "Epoch 62/100\n",
            "9/9 [==============================] - 0s 25ms/step - loss: 0.0087 - val_loss: 0.0075\n",
            "Epoch 63/100\n",
            "9/9 [==============================] - 0s 25ms/step - loss: 0.0082 - val_loss: 0.0070\n",
            "Epoch 64/100\n",
            "9/9 [==============================] - 0s 25ms/step - loss: 0.0078 - val_loss: 0.0068\n",
            "Epoch 65/100\n",
            "9/9 [==============================] - 0s 24ms/step - loss: 0.0079 - val_loss: 0.0069\n",
            "Epoch 66/100\n",
            "9/9 [==============================] - 0s 25ms/step - loss: 0.0077 - val_loss: 0.0062\n",
            "Epoch 67/100\n",
            "9/9 [==============================] - 0s 25ms/step - loss: 0.0081 - val_loss: 0.0068\n",
            "Epoch 68/100\n",
            "9/9 [==============================] - 0s 26ms/step - loss: 0.0077 - val_loss: 0.0060\n",
            "Epoch 69/100\n",
            "9/9 [==============================] - 0s 25ms/step - loss: 0.0073 - val_loss: 0.0059\n",
            "Epoch 70/100\n",
            "9/9 [==============================] - 0s 24ms/step - loss: 0.0086 - val_loss: 0.0065\n",
            "Epoch 71/100\n",
            "9/9 [==============================] - 0s 24ms/step - loss: 0.0078 - val_loss: 0.0059\n",
            "Epoch 72/100\n",
            "9/9 [==============================] - 0s 25ms/step - loss: 0.0073 - val_loss: 0.0061\n",
            "Epoch 73/100\n",
            "9/9 [==============================] - 0s 25ms/step - loss: 0.0070 - val_loss: 0.0055\n",
            "Epoch 74/100\n",
            "9/9 [==============================] - 0s 25ms/step - loss: 0.0075 - val_loss: 0.0062\n",
            "Epoch 75/100\n",
            "9/9 [==============================] - 0s 25ms/step - loss: 0.0078 - val_loss: 0.0061\n",
            "Epoch 76/100\n",
            "9/9 [==============================] - 0s 25ms/step - loss: 0.0071 - val_loss: 0.0055\n",
            "Epoch 77/100\n",
            "9/9 [==============================] - 0s 25ms/step - loss: 0.0075 - val_loss: 0.0060\n",
            "Epoch 78/100\n",
            "9/9 [==============================] - 0s 25ms/step - loss: 0.0070 - val_loss: 0.0056\n",
            "Epoch 79/100\n",
            "9/9 [==============================] - 0s 30ms/step - loss: 0.0068 - val_loss: 0.0052\n",
            "Epoch 80/100\n",
            "9/9 [==============================] - 0s 25ms/step - loss: 0.0075 - val_loss: 0.0056\n",
            "Epoch 81/100\n",
            "9/9 [==============================] - 0s 30ms/step - loss: 0.0086 - val_loss: 0.0054\n",
            "Epoch 82/100\n",
            "9/9 [==============================] - 0s 26ms/step - loss: 0.0088 - val_loss: 0.0058\n",
            "Epoch 83/100\n",
            "9/9 [==============================] - 0s 25ms/step - loss: 0.0076 - val_loss: 0.0059\n",
            "Epoch 84/100\n",
            "9/9 [==============================] - 0s 25ms/step - loss: 0.0071 - val_loss: 0.0053\n",
            "Epoch 85/100\n",
            "9/9 [==============================] - 0s 24ms/step - loss: 0.0072 - val_loss: 0.0056\n",
            "Epoch 86/100\n",
            "9/9 [==============================] - 0s 27ms/step - loss: 0.0070 - val_loss: 0.0053\n",
            "Epoch 87/100\n",
            "9/9 [==============================] - 0s 25ms/step - loss: 0.0079 - val_loss: 0.0059\n",
            "Epoch 88/100\n",
            "9/9 [==============================] - 0s 24ms/step - loss: 0.0080 - val_loss: 0.0070\n",
            "Epoch 89/100\n",
            "9/9 [==============================] - 0s 24ms/step - loss: 0.0075 - val_loss: 0.0053\n",
            "Epoch 90/100\n",
            "9/9 [==============================] - 0s 26ms/step - loss: 0.0077 - val_loss: 0.0060\n",
            "Epoch 91/100\n",
            "9/9 [==============================] - 0s 30ms/step - loss: 0.0069 - val_loss: 0.0052\n",
            "Epoch 92/100\n",
            "9/9 [==============================] - 0s 27ms/step - loss: 0.0069 - val_loss: 0.0055\n",
            "Epoch 93/100\n",
            "9/9 [==============================] - 0s 25ms/step - loss: 0.0067 - val_loss: 0.0052\n",
            "Epoch 94/100\n",
            "9/9 [==============================] - 0s 25ms/step - loss: 0.0067 - val_loss: 0.0060\n",
            "Epoch 95/100\n",
            "9/9 [==============================] - 0s 25ms/step - loss: 0.0080 - val_loss: 0.0052\n",
            "Epoch 96/100\n",
            "9/9 [==============================] - 0s 25ms/step - loss: 0.0072 - val_loss: 0.0053\n",
            "Epoch 97/100\n",
            "9/9 [==============================] - 0s 26ms/step - loss: 0.0070 - val_loss: 0.0063\n",
            "Epoch 98/100\n",
            "9/9 [==============================] - 0s 25ms/step - loss: 0.0072 - val_loss: 0.0051\n",
            "Epoch 99/100\n",
            "9/9 [==============================] - 0s 26ms/step - loss: 0.0066 - val_loss: 0.0054\n",
            "Epoch 100/100\n",
            "9/9 [==============================] - 0s 30ms/step - loss: 0.0071 - val_loss: 0.0053\n"
          ]
        },
        {
          "output_type": "execute_result",
          "data": {
            "text/plain": [
              "<keras.callbacks.History at 0x7fd36e4d3050>"
            ]
          },
          "metadata": {},
          "execution_count": 54
        }
      ]
    },
    {
      "cell_type": "markdown",
      "metadata": {
        "id": "vrlWZ37sAA9y"
      },
      "source": [
        "# **Prediction**"
      ]
    },
    {
      "cell_type": "code",
      "metadata": {
        "id": "3SW6HRZTA7f5"
      },
      "source": [
        "import tensorflow as tf"
      ],
      "execution_count": null,
      "outputs": []
    },
    {
      "cell_type": "code",
      "metadata": {
        "id": "9oaBwaxLA_jP"
      },
      "source": [
        "### Lets Do the prediction and check performance metrics\n",
        "train_predict=model.predict(X_train)\n",
        "test_predict=model.predict(X_test)"
      ],
      "execution_count": null,
      "outputs": []
    },
    {
      "cell_type": "code",
      "metadata": {
        "id": "b297BP2XBAXV"
      },
      "source": [
        "##Transformback to original form\n",
        "train_predict=scaler.inverse_transform(train_predict)\n",
        "test_predict=scaler.inverse_transform(test_predict)"
      ],
      "execution_count": null,
      "outputs": []
    },
    {
      "cell_type": "markdown",
      "metadata": {
        "id": "9Ug1OAhw1x_H"
      },
      "source": [
        "# **Performence Matrix**"
      ]
    },
    {
      "cell_type": "markdown",
      "metadata": {
        "id": "LNbwAOK22F0l"
      },
      "source": [
        "## **MSE**"
      ]
    },
    {
      "cell_type": "code",
      "metadata": {
        "id": "KQhW6goE2Jwk"
      },
      "source": [
        "import math\n",
        "from sklearn.metrics import mean_squared_error\n"
      ],
      "execution_count": null,
      "outputs": []
    },
    {
      "cell_type": "code",
      "metadata": {
        "colab": {
          "base_uri": "https://localhost:8080/"
        },
        "id": "i3Zzg46z-c6f",
        "outputId": "264b4309-f046-4287-9e51-07a86500306d"
      },
      "source": [
        "### Train Data MSE\n",
        "mean_squared_error(y_train,train_predict)"
      ],
      "execution_count": null,
      "outputs": [
        {
          "output_type": "execute_result",
          "data": {
            "text/plain": [
              "2878729.6711062994"
            ]
          },
          "metadata": {},
          "execution_count": 59
        }
      ]
    },
    {
      "cell_type": "code",
      "metadata": {
        "colab": {
          "base_uri": "https://localhost:8080/"
        },
        "id": "3VWD1twi2Jh_",
        "outputId": "532179de-a21e-4263-ee41-d5015df42275"
      },
      "source": [
        "### Test Data RMSE\n",
        "mean_squared_error(ytest,test_predict)"
      ],
      "execution_count": null,
      "outputs": [
        {
          "output_type": "execute_result",
          "data": {
            "text/plain": [
              "1553457.6184621577"
            ]
          },
          "metadata": {},
          "execution_count": 60
        }
      ]
    },
    {
      "cell_type": "markdown",
      "metadata": {
        "id": "6fY6qQVm1_U-"
      },
      "source": [
        "## **RMSE**"
      ]
    },
    {
      "cell_type": "code",
      "metadata": {
        "colab": {
          "base_uri": "https://localhost:8080/"
        },
        "id": "h2i2Tn1oU-ng",
        "outputId": "77c86a79-2dea-4e59-9109-ed13ceabd68e"
      },
      "source": [
        "### Calculate RMSE performance metrics\n",
        "from sklearn.metrics import mean_squared_error\n",
        "math.sqrt(mean_squared_error(y_train,train_predict))"
      ],
      "execution_count": null,
      "outputs": [
        {
          "output_type": "execute_result",
          "data": {
            "text/plain": [
              "1696.6819593271744"
            ]
          },
          "metadata": {},
          "execution_count": 61
        }
      ]
    },
    {
      "cell_type": "code",
      "metadata": {
        "colab": {
          "base_uri": "https://localhost:8080/"
        },
        "id": "9OxVnb8LU-ni",
        "outputId": "026a67f9-ec21-4d0b-ba85-5b3e62e26488"
      },
      "source": [
        "### Test Data RMSE\n",
        "math.sqrt(mean_squared_error(ytest,test_predict))"
      ],
      "execution_count": null,
      "outputs": [
        {
          "output_type": "execute_result",
          "data": {
            "text/plain": [
              "1246.3777992495525"
            ]
          },
          "metadata": {},
          "execution_count": 62
        }
      ]
    },
    {
      "cell_type": "markdown",
      "metadata": {
        "id": "Th0nU35i2Xtj"
      },
      "source": [
        "## **MAE**"
      ]
    },
    {
      "cell_type": "code",
      "metadata": {
        "colab": {
          "base_uri": "https://localhost:8080/"
        },
        "id": "oxPKN2aR2bmq",
        "outputId": "b9ffcd34-0750-44e6-a4ba-211e52b371d0"
      },
      "source": [
        "from sklearn.metrics import mean_absolute_error\n",
        "mean_absolute_error(y_train,train_predict)"
      ],
      "execution_count": null,
      "outputs": [
        {
          "output_type": "execute_result",
          "data": {
            "text/plain": [
              "1397.725596723083"
            ]
          },
          "metadata": {},
          "execution_count": 63
        }
      ]
    },
    {
      "cell_type": "code",
      "metadata": {
        "colab": {
          "base_uri": "https://localhost:8080/"
        },
        "id": "5X-HVodF2bTN",
        "outputId": "b62b3d14-81bd-414c-c098-3ec2a15afb14"
      },
      "source": [
        "### Test Data MAE\n",
        "mean_absolute_error(ytest,test_predict)"
      ],
      "execution_count": null,
      "outputs": [
        {
          "output_type": "execute_result",
          "data": {
            "text/plain": [
              "1081.0148575644273"
            ]
          },
          "metadata": {},
          "execution_count": 64
        }
      ]
    },
    {
      "cell_type": "code",
      "metadata": {
        "colab": {
          "base_uri": "https://localhost:8080/",
          "height": 265
        },
        "id": "yesyT_OzU-nj",
        "outputId": "9af761b7-8144-4b4f-8f2b-3a0a2b6e8dd6"
      },
      "source": [
        "### Plotting \n",
        "# shift train predictions for plotting\n",
        "look_back=10\n",
        "trainPredictPlot = numpy.empty_like(df1)\n",
        "trainPredictPlot[:, :] = np.nan\n",
        "trainPredictPlot[look_back:len(train_predict)+look_back, :] = train_predict\n",
        "# shift test predictions for plotting\n",
        "testPredictPlot = numpy.empty_like(df1)\n",
        "testPredictPlot[:, :] = numpy.nan\n",
        "testPredictPlot[len(train_predict)+(look_back*2)+1:len(df1)-1, :] = test_predict\n",
        "# plot baseline and predictions\n",
        "plt.plot(scaler.inverse_transform(df1))\n",
        "plt.plot(trainPredictPlot)\n",
        "plt.plot(testPredictPlot)\n",
        "plt.show()"
      ],
      "execution_count": null,
      "outputs": [
        {
          "output_type": "display_data",
          "data": {
            "image/png": "[encoded data removed]",
            "text/plain": [
              "<Figure size 432x288 with 1 Axes>"
            ]
          },
          "metadata": {
            "needs_background": "light"
          }
        }
      ]
    },
    {
      "cell_type": "code",
      "metadata": {
        "colab": {
          "base_uri": "https://localhost:8080/"
        },
        "id": "9GkMLkiUU-nk",
        "outputId": "7f6f58a6-4084-4f18-b9e2-bc9344274633"
      },
      "source": [
        "len(test_data)"
      ],
      "execution_count": null,
      "outputs": [
        {
          "output_type": "execute_result",
          "data": {
            "text/plain": [
              "147"
            ]
          },
          "metadata": {},
          "execution_count": 66
        }
      ]
    },
    {
      "cell_type": "code",
      "metadata": {
        "colab": {
          "base_uri": "https://localhost:8080/"
        },
        "id": "p9hqyf35U-nl",
        "outputId": "6edf61b6-96cc-4e74-cde1-f70ddc6f630f"
      },
      "source": [
        "x_input=test_data[137:].reshape(1,-1)\n",
        "x_input.shape\n"
      ],
      "execution_count": null,
      "outputs": [
        {
          "output_type": "execute_result",
          "data": {
            "text/plain": [
              "(1, 10)"
            ]
          },
          "metadata": {},
          "execution_count": 81
        }
      ]
    },
    {
      "cell_type": "code",
      "metadata": {
        "id": "KFN-DYjkU-nn"
      },
      "source": [
        "temp_input=list(x_input)\n",
        "temp_input=temp_input[0].tolist()"
      ],
      "execution_count": null,
      "outputs": []
    },
    {
      "cell_type": "code",
      "metadata": {
        "colab": {
          "base_uri": "https://localhost:8080/"
        },
        "id": "CuUtPlH6RHVO",
        "outputId": "f6b56a7f-50c7-40ba-f1eb-afe32ace5ea9"
      },
      "source": [
        "len(temp_input)"
      ],
      "execution_count": null,
      "outputs": [
        {
          "output_type": "execute_result",
          "data": {
            "text/plain": [
              "10"
            ]
          },
          "metadata": {},
          "execution_count": 84
        }
      ]
    },
    {
      "cell_type": "code",
      "metadata": {
        "colab": {
          "base_uri": "https://localhost:8080/"
        },
        "id": "HQqAaefdU-no",
        "outputId": "0415d717-dc9b-4b43-8cc0-0952b7a0b408"
      },
      "source": [
        "temp_input"
      ],
      "execution_count": null,
      "outputs": [
        {
          "output_type": "execute_result",
          "data": {
            "text/plain": [
              "[0.2263922518159806,\n",
              " 0.2935835351089588,\n",
              " 0.2512106537530266,\n",
              " 0.14487489911218723,\n",
              " 0.36037126715092815,\n",
              " 0.06719128329297822,\n",
              " 0.0014124293785310743,\n",
              " 0.21125907990314768,\n",
              " 0.2939870863599677,\n",
              " 0.3230427764326069]"
            ]
          },
          "metadata": {},
          "execution_count": 85
        }
      ]
    },
    {
      "cell_type": "code",
      "metadata": {
        "colab": {
          "base_uri": "https://localhost:8080/"
        },
        "id": "EL4ab3SJU-no",
        "outputId": "ace16237-031b-46b4-97de-7eccf077eeec"
      },
      "source": [
        "# demonstrate prediction for next 10 days\n",
        "from numpy import array\n",
        "\n",
        "lst_output=[]\n",
        "n_steps=10\n",
        "i=0\n",
        "while(i<30):\n",
        "    \n",
        "    if(len(temp_input)>10):\n",
        "        #print(temp_input)\n",
        "        x_input=np.array(temp_input[1:])\n",
        "        print(\"{} day input {}\".format(i,x_input))\n",
        "        x_input=x_input.reshape(1,-1)\n",
        "        x_input = x_input.reshape((1, n_steps, 1))\n",
        "        #print(x_input)\n",
        "        yhat = model.predict(x_input, verbose=0)\n",
        "        print(\"{} day output {}\".format(i,yhat))\n",
        "        temp_input.extend(yhat[0].tolist())\n",
        "        temp_input=temp_input[1:]\n",
        "        #print(temp_input)\n",
        "        lst_output.extend(yhat.tolist())\n",
        "        i=i+1\n",
        "    else:\n",
        "        x_input = x_input.reshape((1, n_steps,1))\n",
        "        yhat = model.predict(x_input, verbose=0)\n",
        "        print(yhat[0])\n",
        "        temp_input.extend(yhat[0].tolist())\n",
        "        print(len(temp_input))\n",
        "        lst_output.extend(yhat.tolist())\n",
        "        i=i+1\n",
        "    \n",
        "\n",
        "print(lst_output)\n",
        "\n"
      ],
      "execution_count": null,
      "outputs": [
        {
          "output_type": "stream",
          "name": "stdout",
          "text": [
            "[0.17153394]\n",
            "11\n",
            "1 day input [0.29358354 0.25121065 0.1448749  0.36037127 0.06719128 0.00141243\n",
            " 0.21125908 0.29398709 0.32304278 0.17153394]\n",
            "1 day output [[0.13499358]]\n",
            "2 day input [0.25121065 0.1448749  0.36037127 0.06719128 0.00141243 0.21125908\n",
            " 0.29398709 0.32304278 0.17153394 0.13499358]\n",
            "2 day output [[0.14152698]]\n",
            "3 day input [0.1448749  0.36037127 0.06719128 0.00141243 0.21125908 0.29398709\n",
            " 0.32304278 0.17153394 0.13499358 0.14152698]\n",
            "3 day output [[0.16550368]]\n",
            "4 day input [0.36037127 0.06719128 0.00141243 0.21125908 0.29398709 0.32304278\n",
            " 0.17153394 0.13499358 0.14152698 0.16550368]\n",
            "4 day output [[0.15621798]]\n",
            "5 day input [0.06719128 0.00141243 0.21125908 0.29398709 0.32304278 0.17153394\n",
            " 0.13499358 0.14152698 0.16550368 0.15621798]\n",
            "5 day output [[0.2578478]]\n",
            "6 day input [0.00141243 0.21125908 0.29398709 0.32304278 0.17153394 0.13499358\n",
            " 0.14152698 0.16550368 0.15621798 0.25784779]\n",
            "6 day output [[0.25124207]]\n",
            "7 day input [0.21125908 0.29398709 0.32304278 0.17153394 0.13499358 0.14152698\n",
            " 0.16550368 0.15621798 0.25784779 0.25124207]\n",
            "7 day output [[0.16875164]]\n",
            "8 day input [0.29398709 0.32304278 0.17153394 0.13499358 0.14152698 0.16550368\n",
            " 0.15621798 0.25784779 0.25124207 0.16875164]\n",
            "8 day output [[0.12308962]]\n",
            "9 day input [0.32304278 0.17153394 0.13499358 0.14152698 0.16550368 0.15621798\n",
            " 0.25784779 0.25124207 0.16875164 0.12308962]\n",
            "9 day output [[0.12366857]]\n",
            "10 day input [0.17153394 0.13499358 0.14152698 0.16550368 0.15621798 0.25784779\n",
            " 0.25124207 0.16875164 0.12308962 0.12366857]\n",
            "10 day output [[0.18077332]]\n",
            "11 day input [0.13499358 0.14152698 0.16550368 0.15621798 0.25784779 0.25124207\n",
            " 0.16875164 0.12308962 0.12366857 0.18077332]\n",
            "11 day output [[0.20160072]]\n",
            "12 day input [0.14152698 0.16550368 0.15621798 0.25784779 0.25124207 0.16875164\n",
            " 0.12308962 0.12366857 0.18077332 0.20160072]\n",
            "12 day output [[0.19942954]]\n",
            "13 day input [0.16550368 0.15621798 0.25784779 0.25124207 0.16875164 0.12308962\n",
            " 0.12366857 0.18077332 0.20160072 0.19942954]\n",
            "13 day output [[0.18259148]]\n",
            "14 day input [0.15621798 0.25784779 0.25124207 0.16875164 0.12308962 0.12366857\n",
            " 0.18077332 0.20160072 0.19942954 0.18259148]\n",
            "14 day output [[0.16051446]]\n",
            "15 day input [0.25784779 0.25124207 0.16875164 0.12308962 0.12366857 0.18077332\n",
            " 0.20160072 0.19942954 0.18259148 0.16051446]\n",
            "15 day output [[0.12393944]]\n",
            "16 day input [0.25124207 0.16875164 0.12308962 0.12366857 0.18077332 0.20160072\n",
            " 0.19942954 0.18259148 0.16051446 0.12393944]\n",
            "16 day output [[0.13397944]]\n",
            "17 day input [0.16875164 0.12308962 0.12366857 0.18077332 0.20160072 0.19942954\n",
            " 0.18259148 0.16051446 0.12393944 0.13397944]\n",
            "17 day output [[0.16933063]]\n",
            "18 day input [0.12308962 0.12366857 0.18077332 0.20160072 0.19942954 0.18259148\n",
            " 0.16051446 0.12393944 0.13397944 0.16933063]\n",
            "18 day output [[0.18544316]]\n",
            "19 day input [0.12366857 0.18077332 0.20160072 0.19942954 0.18259148 0.16051446\n",
            " 0.12393944 0.13397944 0.16933063 0.18544316]\n",
            "19 day output [[0.17548788]]\n",
            "20 day input [0.18077332 0.20160072 0.19942954 0.18259148 0.16051446 0.12393944\n",
            " 0.13397944 0.16933063 0.18544316 0.17548788]\n",
            "20 day output [[0.14781561]]\n",
            "21 day input [0.20160072 0.19942954 0.18259148 0.16051446 0.12393944 0.13397944\n",
            " 0.16933063 0.18544316 0.17548788 0.14781561]\n",
            "21 day output [[0.132243]]\n",
            "22 day input [0.19942954 0.18259148 0.16051446 0.12393944 0.13397944 0.16933063\n",
            " 0.18544316 0.17548788 0.14781561 0.13224301]\n",
            "22 day output [[0.1302611]]\n",
            "23 day input [0.18259148 0.16051446 0.12393944 0.13397944 0.16933063 0.18544316\n",
            " 0.17548788 0.14781561 0.13224301 0.13026109]\n",
            "23 day output [[0.13933118]]\n",
            "24 day input [0.16051446 0.12393944 0.13397944 0.16933063 0.18544316 0.17548788\n",
            " 0.14781561 0.13224301 0.13026109 0.13933118]\n",
            "24 day output [[0.15199293]]\n",
            "25 day input [0.12393944 0.13397944 0.16933063 0.18544316 0.17548788 0.14781561\n",
            " 0.13224301 0.13026109 0.13933118 0.15199293]\n",
            "25 day output [[0.15987267]]\n",
            "26 day input [0.13397944 0.16933063 0.18544316 0.17548788 0.14781561 0.13224301\n",
            " 0.13026109 0.13933118 0.15199293 0.15987267]\n",
            "26 day output [[0.14767194]]\n",
            "27 day input [0.16933063 0.18544316 0.17548788 0.14781561 0.13224301 0.13026109\n",
            " 0.13933118 0.15199293 0.15987267 0.14767194]\n",
            "27 day output [[0.12821946]]\n",
            "28 day input [0.18544316 0.17548788 0.14781561 0.13224301 0.13026109 0.13933118\n",
            " 0.15199293 0.15987267 0.14767194 0.12821946]\n",
            "28 day output [[0.118779]]\n",
            "29 day input [0.17548788 0.14781561 0.13224301 0.13026109 0.13933118 0.15199293\n",
            " 0.15987267 0.14767194 0.12821946 0.118779  ]\n",
            "29 day output [[0.12256438]]\n",
            "[[0.17153394222259521], [0.13499358296394348], [0.1415269821882248], [0.16550368070602417], [0.15621797740459442], [0.25784778594970703], [0.251242071390152], [0.16875164210796356], [0.12308961898088455], [0.12366856634616852], [0.1807733178138733], [0.20160071551799774], [0.19942954182624817], [0.1825914829969406], [0.1605144590139389], [0.12393943965435028], [0.1339794397354126], [0.1693306267261505], [0.18544316291809082], [0.17548787593841553], [0.14781561493873596], [0.13224300742149353], [0.13026109337806702], [0.1393311768770218], [0.15199293196201324], [0.15987266600131989], [0.14767193794250488], [0.12821945548057556], [0.1187790036201477], [0.12256437540054321]]\n"
          ]
        }
      ]
    },
    {
      "cell_type": "code",
      "metadata": {
        "id": "itL7ug7xU-np"
      },
      "source": [
        "day_new=np.arange(1,101)\n",
        "day_pred=np.arange(101,131)"
      ],
      "execution_count": null,
      "outputs": []
    },
    {
      "cell_type": "code",
      "metadata": {
        "id": "4LFs9dLgU-nq"
      },
      "source": [
        "import matplotlib.pyplot as plt"
      ],
      "execution_count": null,
      "outputs": []
    },
    {
      "cell_type": "code",
      "metadata": {
        "colab": {
          "base_uri": "https://localhost:8080/"
        },
        "id": "9Hyxt_gQU-nq",
        "outputId": "26b2a6a7-6a72-42b8-aef7-e4355b6fd6e7"
      },
      "source": [
        "len(df1)"
      ],
      "execution_count": null,
      "outputs": [
        {
          "output_type": "execute_result",
          "data": {
            "text/plain": [
              "419"
            ]
          },
          "metadata": {},
          "execution_count": 90
        }
      ]
    },
    {
      "cell_type": "code",
      "metadata": {
        "colab": {
          "base_uri": "https://localhost:8080/"
        },
        "id": "9fl8-tsXr41b",
        "outputId": "7dc98835-604e-4b09-c3e5-6bab1d7e7cdb"
      },
      "source": [
        "len(lst_output)"
      ],
      "execution_count": null,
      "outputs": [
        {
          "output_type": "execute_result",
          "data": {
            "text/plain": [
              "30"
            ]
          },
          "metadata": {},
          "execution_count": 91
        }
      ]
    },
    {
      "cell_type": "code",
      "metadata": {
        "colab": {
          "base_uri": "https://localhost:8080/",
          "height": 282
        },
        "id": "QFCMU5meU-nr",
        "outputId": "d7e1d92a-7ee4-4386-96e0-a0ad394179ce"
      },
      "source": [
        "plt.plot(day_new,scaler.inverse_transform(df1[319:]))\n",
        "plt.plot(day_pred,scaler.inverse_transform(lst_output))"
      ],
      "execution_count": null,
      "outputs": [
        {
          "output_type": "execute_result",
          "data": {
            "text/plain": [
              "[<matplotlib.lines.Line2D at 0x7fd342f4b350>]"
            ]
          },
          "metadata": {},
          "execution_count": 93
        },
        {
          "output_type": "display_data",
          "data": {
            "image/png": "[encoded data removed]",
            "text/plain": [
              "<Figure size 432x288 with 1 Axes>"
            ]
          },
          "metadata": {
            "needs_background": "light"
          }
        }
      ]
    },
    {
      "cell_type": "code",
      "metadata": {
        "colab": {
          "base_uri": "https://localhost:8080/",
          "height": 282
        },
        "id": "b-2A0_qfU-nr",
        "outputId": "d238c09c-c148-4b8c-c5de-baf0477f5436"
      },
      "source": [
        "df3=df1.tolist()\n",
        "df3.extend(lst_output)\n",
        "plt.plot(df3[310:])"
      ],
      "execution_count": null,
      "outputs": [
        {
          "output_type": "execute_result",
          "data": {
            "text/plain": [
              "[<matplotlib.lines.Line2D at 0x7fd342bc0490>]"
            ]
          },
          "metadata": {},
          "execution_count": 100
        },
        {
          "output_type": "display_data",
          "data": {
            "image/png": "[encoded data removed]",
            "text/plain": [
              "<Figure size 432x288 with 1 Axes>"
            ]
          },
          "metadata": {
            "needs_background": "light"
          }
        }
      ]
    },
    {
      "cell_type": "code",
      "metadata": {
        "id": "YOhppl7gU-ns"
      },
      "source": [
        "df3=scaler.inverse_transform(df3).tolist()"
      ],
      "execution_count": null,
      "outputs": []
    },
    {
      "cell_type": "code",
      "metadata": {
        "colab": {
          "base_uri": "https://localhost:8080/",
          "height": 282
        },
        "id": "Casmv77fU-ns",
        "outputId": "934e4126-c18c-4e4a-cfdb-a268576921e6"
      },
      "source": [
        "plt.plot(df3)"
      ],
      "execution_count": null,
      "outputs": [
        {
          "output_type": "execute_result",
          "data": {
            "text/plain": [
              "[<matplotlib.lines.Line2D at 0x7fd342ba0750>]"
            ]
          },
          "metadata": {},
          "execution_count": 102
        },
        {
          "output_type": "display_data",
          "data": {
            "image/png": "[encoded data removed]",
            "text/plain": [
              "<Figure size 432x288 with 1 Axes>"
            ]
          },
          "metadata": {
            "needs_background": "light"
          }
        }
      ]
    },
    {
      "cell_type": "markdown",
      "metadata": {
        "id": "uviEE9j9Pbgo"
      },
      "source": [
        "# **Bidirectional LSTM**"
      ]
    },
    {
      "cell_type": "code",
      "metadata": {
        "colab": {
          "base_uri": "https://localhost:8080/"
        },
        "id": "ZfCaowxLPadw",
        "outputId": "c3eac5a4-0ddd-4163-bd88-32edef5e9d91"
      },
      "source": [
        "from keras.layers import Bidirectional\n",
        "model2 = Sequential()\n",
        "model2.add(Bidirectional(LSTM(50, activation='relu'), input_shape=(10,1)))\n",
        "model2.add(Dense(1))\n",
        "model2.compile(loss='mean_squared_error',optimizer='adam')"
      ],
      "execution_count": null,
      "outputs": [
        {
          "output_type": "stream",
          "name": "stdout",
          "text": [
            "WARNING:tensorflow:Layer lstm_8 will not use cuDNN kernels since it doesn't meet the criteria. It will use a generic GPU kernel as fallback when running on GPU.\n",
            "WARNING:tensorflow:Layer lstm_8 will not use cuDNN kernels since it doesn't meet the criteria. It will use a generic GPU kernel as fallback when running on GPU.\n",
            "WARNING:tensorflow:Layer lstm_8 will not use cuDNN kernels since it doesn't meet the criteria. It will use a generic GPU kernel as fallback when running on GPU.\n"
          ]
        }
      ]
    },
    {
      "cell_type": "code",
      "metadata": {
        "colab": {
          "base_uri": "https://localhost:8080/"
        },
        "id": "5DpXde_4Qho-",
        "outputId": "70dc61f5-e935-41b0-c94d-ca2acec76ade"
      },
      "source": [
        "model2.summary()"
      ],
      "execution_count": null,
      "outputs": [
        {
          "output_type": "stream",
          "name": "stdout",
          "text": [
            "Model: \"sequential_2\"\n",
            "_________________________________________________________________\n",
            " Layer (type)                Output Shape              Param #   \n",
            "=================================================================\n",
            " bidirectional (Bidirectiona  (None, 100)              20800     \n",
            " l)                                                              \n",
            "                                                                 \n",
            " dense_2 (Dense)             (None, 1)                 101       \n",
            "                                                                 \n",
            "=================================================================\n",
            "Total params: 20,901\n",
            "Trainable params: 20,901\n",
            "Non-trainable params: 0\n",
            "_________________________________________________________________\n"
          ]
        }
      ]
    },
    {
      "cell_type": "code",
      "metadata": {
        "colab": {
          "base_uri": "https://localhost:8080/"
        },
        "id": "yBgW4PGgQwKs",
        "outputId": "1eb22fae-53ee-4e90-99fb-9976f0456386"
      },
      "source": [
        "model2.fit(X_train,y_train,validation_data=(X_test,ytest),epochs=100,batch_size=32,verbose=1)"
      ],
      "execution_count": null,
      "outputs": [
        {
          "output_type": "stream",
          "name": "stdout",
          "text": [
            "Epoch 1/100\n",
            "9/9 [==============================] - 3s 111ms/step - loss: 0.1181 - val_loss: 0.0354\n",
            "Epoch 2/100\n",
            "9/9 [==============================] - 1s 60ms/step - loss: 0.0606 - val_loss: 0.0142\n",
            "Epoch 3/100\n",
            "9/9 [==============================] - 1s 57ms/step - loss: 0.0247 - val_loss: 0.0121\n",
            "Epoch 4/100\n",
            "9/9 [==============================] - 1s 63ms/step - loss: 0.0168 - val_loss: 0.0137\n",
            "Epoch 5/100\n",
            "9/9 [==============================] - 1s 60ms/step - loss: 0.0131 - val_loss: 0.0085\n",
            "Epoch 6/100\n",
            "9/9 [==============================] - 1s 57ms/step - loss: 0.0107 - val_loss: 0.0081\n",
            "Epoch 7/100\n",
            "9/9 [==============================] - 1s 57ms/step - loss: 0.0090 - val_loss: 0.0080\n",
            "Epoch 8/100\n",
            "9/9 [==============================] - 1s 60ms/step - loss: 0.0089 - val_loss: 0.0083\n",
            "Epoch 9/100\n",
            "9/9 [==============================] - 1s 58ms/step - loss: 0.0091 - val_loss: 0.0081\n",
            "Epoch 10/100\n",
            "9/9 [==============================] - 1s 66ms/step - loss: 0.0090 - val_loss: 0.0080\n",
            "Epoch 11/100\n",
            "9/9 [==============================] - 1s 56ms/step - loss: 0.0089 - val_loss: 0.0084\n",
            "Epoch 12/100\n",
            "9/9 [==============================] - 1s 60ms/step - loss: 0.0088 - val_loss: 0.0079\n",
            "Epoch 13/100\n",
            "9/9 [==============================] - 1s 61ms/step - loss: 0.0085 - val_loss: 0.0080\n",
            "Epoch 14/100\n",
            "9/9 [==============================] - 0s 54ms/step - loss: 0.0085 - val_loss: 0.0080\n",
            "Epoch 15/100\n",
            "9/9 [==============================] - 1s 57ms/step - loss: 0.0085 - val_loss: 0.0080\n",
            "Epoch 16/100\n",
            "9/9 [==============================] - 1s 57ms/step - loss: 0.0084 - val_loss: 0.0079\n",
            "Epoch 17/100\n",
            "9/9 [==============================] - 1s 58ms/step - loss: 0.0084 - val_loss: 0.0079\n",
            "Epoch 18/100\n",
            "9/9 [==============================] - 1s 63ms/step - loss: 0.0083 - val_loss: 0.0079\n",
            "Epoch 19/100\n",
            "9/9 [==============================] - 0s 56ms/step - loss: 0.0084 - val_loss: 0.0082\n",
            "Epoch 20/100\n",
            "9/9 [==============================] - 1s 56ms/step - loss: 0.0086 - val_loss: 0.0079\n",
            "Epoch 21/100\n",
            "9/9 [==============================] - 1s 63ms/step - loss: 0.0082 - val_loss: 0.0079\n",
            "Epoch 22/100\n",
            "9/9 [==============================] - 0s 55ms/step - loss: 0.0087 - val_loss: 0.0083\n",
            "Epoch 23/100\n",
            "9/9 [==============================] - 1s 63ms/step - loss: 0.0086 - val_loss: 0.0078\n",
            "Epoch 24/100\n",
            "9/9 [==============================] - 1s 58ms/step - loss: 0.0081 - val_loss: 0.0077\n",
            "Epoch 25/100\n",
            "9/9 [==============================] - 1s 56ms/step - loss: 0.0081 - val_loss: 0.0078\n",
            "Epoch 26/100\n",
            "9/9 [==============================] - 1s 57ms/step - loss: 0.0081 - val_loss: 0.0078\n",
            "Epoch 27/100\n",
            "9/9 [==============================] - 1s 62ms/step - loss: 0.0080 - val_loss: 0.0079\n",
            "Epoch 28/100\n",
            "9/9 [==============================] - 1s 56ms/step - loss: 0.0079 - val_loss: 0.0076\n",
            "Epoch 29/100\n",
            "9/9 [==============================] - 1s 58ms/step - loss: 0.0077 - val_loss: 0.0077\n",
            "Epoch 30/100\n",
            "9/9 [==============================] - 1s 59ms/step - loss: 0.0078 - val_loss: 0.0076\n",
            "Epoch 31/100\n",
            "9/9 [==============================] - 1s 63ms/step - loss: 0.0075 - val_loss: 0.0075\n",
            "Epoch 32/100\n",
            "9/9 [==============================] - 0s 54ms/step - loss: 0.0075 - val_loss: 0.0075\n",
            "Epoch 33/100\n",
            "9/9 [==============================] - 1s 57ms/step - loss: 0.0074 - val_loss: 0.0075\n",
            "Epoch 34/100\n",
            "9/9 [==============================] - 1s 59ms/step - loss: 0.0073 - val_loss: 0.0074\n",
            "Epoch 35/100\n",
            "9/9 [==============================] - 0s 56ms/step - loss: 0.0073 - val_loss: 0.0075\n",
            "Epoch 36/100\n",
            "9/9 [==============================] - 0s 54ms/step - loss: 0.0075 - val_loss: 0.0072\n",
            "Epoch 37/100\n",
            "9/9 [==============================] - 0s 56ms/step - loss: 0.0071 - val_loss: 0.0071\n",
            "Epoch 38/100\n",
            "9/9 [==============================] - 1s 61ms/step - loss: 0.0071 - val_loss: 0.0071\n",
            "Epoch 39/100\n",
            "9/9 [==============================] - 1s 57ms/step - loss: 0.0073 - val_loss: 0.0073\n",
            "Epoch 40/100\n",
            "9/9 [==============================] - 1s 62ms/step - loss: 0.0076 - val_loss: 0.0070\n",
            "Epoch 41/100\n",
            "9/9 [==============================] - 1s 65ms/step - loss: 0.0075 - val_loss: 0.0070\n",
            "Epoch 42/100\n",
            "9/9 [==============================] - 1s 61ms/step - loss: 0.0066 - val_loss: 0.0071\n",
            "Epoch 43/100\n",
            "9/9 [==============================] - 1s 57ms/step - loss: 0.0065 - val_loss: 0.0069\n",
            "Epoch 44/100\n",
            "9/9 [==============================] - 1s 59ms/step - loss: 0.0063 - val_loss: 0.0067\n",
            "Epoch 45/100\n",
            "9/9 [==============================] - 1s 55ms/step - loss: 0.0064 - val_loss: 0.0067\n",
            "Epoch 46/100\n",
            "9/9 [==============================] - 1s 59ms/step - loss: 0.0062 - val_loss: 0.0067\n",
            "Epoch 47/100\n",
            "9/9 [==============================] - 1s 64ms/step - loss: 0.0061 - val_loss: 0.0065\n",
            "Epoch 48/100\n",
            "9/9 [==============================] - 1s 58ms/step - loss: 0.0063 - val_loss: 0.0065\n",
            "Epoch 49/100\n",
            "9/9 [==============================] - 1s 59ms/step - loss: 0.0062 - val_loss: 0.0064\n",
            "Epoch 50/100\n",
            "9/9 [==============================] - 0s 54ms/step - loss: 0.0059 - val_loss: 0.0065\n",
            "Epoch 51/100\n",
            "9/9 [==============================] - 1s 60ms/step - loss: 0.0060 - val_loss: 0.0064\n",
            "Epoch 52/100\n",
            "9/9 [==============================] - 1s 58ms/step - loss: 0.0056 - val_loss: 0.0063\n",
            "Epoch 53/100\n",
            "9/9 [==============================] - 1s 56ms/step - loss: 0.0055 - val_loss: 0.0063\n",
            "Epoch 54/100\n",
            "9/9 [==============================] - 1s 59ms/step - loss: 0.0056 - val_loss: 0.0063\n",
            "Epoch 55/100\n",
            "9/9 [==============================] - 1s 57ms/step - loss: 0.0055 - val_loss: 0.0062\n",
            "Epoch 56/100\n",
            "9/9 [==============================] - 1s 62ms/step - loss: 0.0054 - val_loss: 0.0061\n",
            "Epoch 57/100\n",
            "9/9 [==============================] - 1s 57ms/step - loss: 0.0055 - val_loss: 0.0064\n",
            "Epoch 58/100\n",
            "9/9 [==============================] - 1s 61ms/step - loss: 0.0056 - val_loss: 0.0062\n",
            "Epoch 59/100\n",
            "9/9 [==============================] - 1s 60ms/step - loss: 0.0054 - val_loss: 0.0060\n",
            "Epoch 60/100\n",
            "9/9 [==============================] - 1s 60ms/step - loss: 0.0053 - val_loss: 0.0059\n",
            "Epoch 61/100\n",
            "9/9 [==============================] - 0s 54ms/step - loss: 0.0052 - val_loss: 0.0060\n",
            "Epoch 62/100\n",
            "9/9 [==============================] - 1s 61ms/step - loss: 0.0050 - val_loss: 0.0059\n",
            "Epoch 63/100\n",
            "9/9 [==============================] - 1s 61ms/step - loss: 0.0048 - val_loss: 0.0060\n",
            "Epoch 64/100\n",
            "9/9 [==============================] - 1s 62ms/step - loss: 0.0051 - val_loss: 0.0060\n",
            "Epoch 65/100\n",
            "9/9 [==============================] - 0s 53ms/step - loss: 0.0048 - val_loss: 0.0058\n",
            "Epoch 66/100\n",
            "9/9 [==============================] - 1s 64ms/step - loss: 0.0048 - val_loss: 0.0063\n",
            "Epoch 67/100\n",
            "9/9 [==============================] - 1s 59ms/step - loss: 0.0051 - val_loss: 0.0061\n",
            "Epoch 68/100\n",
            "9/9 [==============================] - 1s 58ms/step - loss: 0.0049 - val_loss: 0.0057\n",
            "Epoch 69/100\n",
            "9/9 [==============================] - 0s 54ms/step - loss: 0.0045 - val_loss: 0.0057\n",
            "Epoch 70/100\n",
            "9/9 [==============================] - 1s 61ms/step - loss: 0.0046 - val_loss: 0.0060\n",
            "Epoch 71/100\n",
            "9/9 [==============================] - 1s 62ms/step - loss: 0.0046 - val_loss: 0.0059\n",
            "Epoch 72/100\n",
            "9/9 [==============================] - 0s 54ms/step - loss: 0.0047 - val_loss: 0.0059\n",
            "Epoch 73/100\n",
            "9/9 [==============================] - 1s 55ms/step - loss: 0.0042 - val_loss: 0.0057\n",
            "Epoch 74/100\n",
            "9/9 [==============================] - 1s 61ms/step - loss: 0.0041 - val_loss: 0.0057\n",
            "Epoch 75/100\n",
            "9/9 [==============================] - 1s 60ms/step - loss: 0.0044 - val_loss: 0.0056\n",
            "Epoch 76/100\n",
            "9/9 [==============================] - 0s 55ms/step - loss: 0.0042 - val_loss: 0.0057\n",
            "Epoch 77/100\n",
            "9/9 [==============================] - 1s 61ms/step - loss: 0.0043 - val_loss: 0.0058\n",
            "Epoch 78/100\n",
            "9/9 [==============================] - 1s 60ms/step - loss: 0.0040 - val_loss: 0.0055\n",
            "Epoch 79/100\n",
            "9/9 [==============================] - 1s 57ms/step - loss: 0.0045 - val_loss: 0.0056\n",
            "Epoch 80/100\n",
            "9/9 [==============================] - 1s 60ms/step - loss: 0.0042 - val_loss: 0.0057\n",
            "Epoch 81/100\n",
            "9/9 [==============================] - 1s 67ms/step - loss: 0.0044 - val_loss: 0.0058\n",
            "Epoch 82/100\n",
            "9/9 [==============================] - 1s 61ms/step - loss: 0.0041 - val_loss: 0.0056\n",
            "Epoch 83/100\n",
            "9/9 [==============================] - 1s 57ms/step - loss: 0.0039 - val_loss: 0.0056\n",
            "Epoch 84/100\n",
            "9/9 [==============================] - 0s 55ms/step - loss: 0.0038 - val_loss: 0.0060\n",
            "Epoch 85/100\n",
            "9/9 [==============================] - 1s 62ms/step - loss: 0.0039 - val_loss: 0.0057\n",
            "Epoch 86/100\n",
            "9/9 [==============================] - 0s 55ms/step - loss: 0.0037 - val_loss: 0.0056\n",
            "Epoch 87/100\n",
            "9/9 [==============================] - 1s 61ms/step - loss: 0.0039 - val_loss: 0.0057\n",
            "Epoch 88/100\n",
            "9/9 [==============================] - 1s 56ms/step - loss: 0.0039 - val_loss: 0.0057\n",
            "Epoch 89/100\n",
            "9/9 [==============================] - 1s 59ms/step - loss: 0.0040 - val_loss: 0.0058\n",
            "Epoch 90/100\n",
            "9/9 [==============================] - 1s 56ms/step - loss: 0.0038 - val_loss: 0.0061\n",
            "Epoch 91/100\n",
            "9/9 [==============================] - 1s 61ms/step - loss: 0.0042 - val_loss: 0.0056\n",
            "Epoch 92/100\n",
            "9/9 [==============================] - 1s 61ms/step - loss: 0.0039 - val_loss: 0.0055\n",
            "Epoch 93/100\n",
            "9/9 [==============================] - 1s 63ms/step - loss: 0.0039 - val_loss: 0.0059\n",
            "Epoch 94/100\n",
            "9/9 [==============================] - 1s 58ms/step - loss: 0.0039 - val_loss: 0.0056\n",
            "Epoch 95/100\n",
            "9/9 [==============================] - 1s 63ms/step - loss: 0.0036 - val_loss: 0.0056\n",
            "Epoch 96/100\n",
            "9/9 [==============================] - 1s 56ms/step - loss: 0.0040 - val_loss: 0.0062\n",
            "Epoch 97/100\n",
            "9/9 [==============================] - 1s 57ms/step - loss: 0.0041 - val_loss: 0.0056\n",
            "Epoch 98/100\n",
            "9/9 [==============================] - 1s 59ms/step - loss: 0.0036 - val_loss: 0.0056\n",
            "Epoch 99/100\n",
            "9/9 [==============================] - 1s 60ms/step - loss: 0.0036 - val_loss: 0.0057\n",
            "Epoch 100/100\n",
            "9/9 [==============================] - 1s 60ms/step - loss: 0.0036 - val_loss: 0.0056\n"
          ]
        },
        {
          "output_type": "execute_result",
          "data": {
            "text/plain": [
              "<keras.callbacks.History at 0x7fd342a9e090>"
            ]
          },
          "metadata": {},
          "execution_count": 105
        }
      ]
    },
    {
      "cell_type": "code",
      "metadata": {
        "id": "DKTU4Cx-RAoz"
      },
      "source": [
        "train_predict=model2.predict(X_train)\n",
        "test_predict=model2.predict(X_test)"
      ],
      "execution_count": null,
      "outputs": []
    },
    {
      "cell_type": "code",
      "metadata": {
        "id": "c80-pT6_RGDF"
      },
      "source": [
        "train_predict=scaler.inverse_transform(train_predict)\n",
        "test_predict=scaler.inverse_transform(test_predict)"
      ],
      "execution_count": null,
      "outputs": []
    },
    {
      "cell_type": "markdown",
      "metadata": {
        "id": "jwiMRYEv25V_"
      },
      "source": [
        "# **Performence Matrix**"
      ]
    },
    {
      "cell_type": "markdown",
      "metadata": {
        "id": "OUW7jKjR3lBn"
      },
      "source": [
        "## **MSE**"
      ]
    },
    {
      "cell_type": "code",
      "metadata": {
        "colab": {
          "base_uri": "https://localhost:8080/"
        },
        "id": "X6euaefY3oYO",
        "outputId": "2f15af31-1b65-4ddb-f1e1-e81133c7bbda"
      },
      "source": [
        "mean_squared_error(y_train,train_predict)"
      ],
      "execution_count": null,
      "outputs": [
        {
          "output_type": "execute_result",
          "data": {
            "text/plain": [
              "3037015.743481486"
            ]
          },
          "metadata": {},
          "execution_count": 108
        }
      ]
    },
    {
      "cell_type": "code",
      "metadata": {
        "colab": {
          "base_uri": "https://localhost:8080/"
        },
        "id": "Jzvy3zsE3oHT",
        "outputId": "911b6f1a-b571-482c-c5a8-cff2cd921c5f"
      },
      "source": [
        "### Test Data RMSE\n",
        "mean_squared_error(ytest,test_predict)"
      ],
      "execution_count": null,
      "outputs": [
        {
          "output_type": "execute_result",
          "data": {
            "text/plain": [
              "1673664.4084953687"
            ]
          },
          "metadata": {},
          "execution_count": 109
        }
      ]
    },
    {
      "cell_type": "markdown",
      "metadata": {
        "id": "_zYu0ouP3f54"
      },
      "source": [
        "## **RMSE**"
      ]
    },
    {
      "cell_type": "code",
      "metadata": {
        "colab": {
          "base_uri": "https://localhost:8080/"
        },
        "id": "qAI2cBvoRR9q",
        "outputId": "886b5c52-4e79-493f-f19c-6174fed0dcc5"
      },
      "source": [
        "### Calculate RMSE performance metrics\n",
        "math.sqrt(mean_squared_error(y_train,train_predict))"
      ],
      "execution_count": null,
      "outputs": [
        {
          "output_type": "execute_result",
          "data": {
            "text/plain": [
              "1742.703573038595"
            ]
          },
          "metadata": {},
          "execution_count": 110
        }
      ]
    },
    {
      "cell_type": "code",
      "metadata": {
        "colab": {
          "base_uri": "https://localhost:8080/"
        },
        "id": "nd0z2PoxRWgG",
        "outputId": "a4536f14-a861-427c-deb2-220a946ef031"
      },
      "source": [
        "### Test Data RMSE\n",
        "math.sqrt(mean_squared_error(ytest,test_predict))"
      ],
      "execution_count": null,
      "outputs": [
        {
          "output_type": "execute_result",
          "data": {
            "text/plain": [
              "1293.701823642283"
            ]
          },
          "metadata": {},
          "execution_count": 111
        }
      ]
    },
    {
      "cell_type": "markdown",
      "metadata": {
        "id": "NuVlHO-S419f"
      },
      "source": [
        "## **MAE**"
      ]
    },
    {
      "cell_type": "code",
      "metadata": {
        "colab": {
          "base_uri": "https://localhost:8080/"
        },
        "id": "oeoC-fMA44ts",
        "outputId": "04073fe2-cf5a-4ad1-be7b-5c5dfbe8aaed"
      },
      "source": [
        "mean_absolute_error(y_train,train_predict)"
      ],
      "execution_count": null,
      "outputs": [
        {
          "output_type": "execute_result",
          "data": {
            "text/plain": [
              "1423.145705825179"
            ]
          },
          "metadata": {},
          "execution_count": 112
        }
      ]
    },
    {
      "cell_type": "code",
      "metadata": {
        "colab": {
          "base_uri": "https://localhost:8080/"
        },
        "id": "NLjEu_Xv45f-",
        "outputId": "bc7a7f19-9663-4974-efa9-c89cc356b58b"
      },
      "source": [
        "### Test Data MAE\n",
        "mean_absolute_error(ytest,test_predict)"
      ],
      "execution_count": null,
      "outputs": [
        {
          "output_type": "execute_result",
          "data": {
            "text/plain": [
              "1123.0446196641983"
            ]
          },
          "metadata": {},
          "execution_count": 113
        }
      ]
    },
    {
      "cell_type": "code",
      "metadata": {
        "colab": {
          "base_uri": "https://localhost:8080/",
          "height": 265
        },
        "id": "hYawp5LRRbpu",
        "outputId": "c523fe15-0690-45da-94b2-2ba625672a82"
      },
      "source": [
        "### Plotting \n",
        "# shift train predictions for plotting\n",
        "look_back=10\n",
        "trainPredictPlot = numpy.empty_like(df1)\n",
        "trainPredictPlot[:, :] = np.nan\n",
        "trainPredictPlot[look_back:len(train_predict)+look_back, :] = train_predict\n",
        "# shift test predictions for plotting\n",
        "testPredictPlot = numpy.empty_like(df1)\n",
        "testPredictPlot[:, :] = numpy.nan\n",
        "testPredictPlot[len(train_predict)+(look_back*2)+1:len(df1)-1, :] = test_predict\n",
        "# plot baseline and predictions\n",
        "plt.plot(scaler.inverse_transform(df1))\n",
        "plt.plot(trainPredictPlot)\n",
        "plt.plot(testPredictPlot)\n",
        "plt.show()"
      ],
      "execution_count": null,
      "outputs": [
        {
          "output_type": "display_data",
          "data": {
            "image/png": "[encoded data removed]",
            "text/plain": [
              "<Figure size 432x288 with 1 Axes>"
            ]
          },
          "metadata": {
            "needs_background": "light"
          }
        }
      ]
    },
    {
      "cell_type": "code",
      "metadata": {
        "colab": {
          "base_uri": "https://localhost:8080/"
        },
        "id": "qYp7Gl0mSXVH",
        "outputId": "ab1999f5-ff83-4d1f-8376-4ecf1d22c6c7"
      },
      "source": [
        "x_input=test_data[137:].reshape(1,-1)\n",
        "x_input.shape"
      ],
      "execution_count": null,
      "outputs": [
        {
          "output_type": "execute_result",
          "data": {
            "text/plain": [
              "(1, 10)"
            ]
          },
          "metadata": {},
          "execution_count": 119
        }
      ]
    },
    {
      "cell_type": "code",
      "metadata": {
        "id": "tJkxpncMSeAa"
      },
      "source": [
        "temp_input=list(x_input)\n",
        "temp_input=temp_input[0].tolist()"
      ],
      "execution_count": null,
      "outputs": []
    },
    {
      "cell_type": "code",
      "metadata": {
        "colab": {
          "base_uri": "https://localhost:8080/"
        },
        "id": "VonUkKmuRfQv",
        "outputId": "46ec85d4-6b7c-4783-d7c9-34dfeaeae210"
      },
      "source": [
        "# demonstrate prediction for next 10 days\n",
        "from numpy import array\n",
        "\n",
        "lst_output=[]\n",
        "n_steps=10\n",
        "i=0\n",
        "while(i<30):\n",
        "    \n",
        "    if(len(temp_input)>10):\n",
        "        #print(temp_input)\n",
        "        x_input=np.array(temp_input[1:])\n",
        "        print(\"{} day input {}\".format(i,x_input))\n",
        "        x_input=x_input.reshape(1,-1)\n",
        "        x_input = x_input.reshape((1, n_steps, 1))\n",
        "        #print(x_input)\n",
        "        yhat = model2.predict(x_input, verbose=0)\n",
        "        print(\"{} day output {}\".format(i,yhat))\n",
        "        temp_input.extend(yhat[0].tolist())\n",
        "        temp_input=temp_input[1:]\n",
        "        #print(temp_input)\n",
        "        lst_output.extend(yhat.tolist())\n",
        "        i=i+1\n",
        "    else:\n",
        "        x_input = x_input.reshape((1, n_steps,1))\n",
        "        yhat = model2.predict(x_input, verbose=0)\n",
        "        print(yhat[0])\n",
        "        temp_input.extend(yhat[0].tolist())\n",
        "        print(len(temp_input))\n",
        "        lst_output.extend(yhat.tolist())\n",
        "        i=i+1\n",
        "    \n",
        "\n",
        "print(lst_output)"
      ],
      "execution_count": null,
      "outputs": [
        {
          "output_type": "stream",
          "name": "stdout",
          "text": [
            "[0.24271217]\n",
            "11\n",
            "1 day input [0.29358354 0.25121065 0.1448749  0.36037127 0.06719128 0.00141243\n",
            " 0.21125908 0.29398709 0.32304278 0.24271217]\n",
            "1 day output [[0.19251566]]\n",
            "2 day input [0.25121065 0.1448749  0.36037127 0.06719128 0.00141243 0.21125908\n",
            " 0.29398709 0.32304278 0.24271217 0.19251566]\n",
            "2 day output [[0.16654038]]\n",
            "3 day input [0.1448749  0.36037127 0.06719128 0.00141243 0.21125908 0.29398709\n",
            " 0.32304278 0.24271217 0.19251566 0.16654038]\n",
            "3 day output [[0.1655873]]\n",
            "4 day input [0.36037127 0.06719128 0.00141243 0.21125908 0.29398709 0.32304278\n",
            " 0.24271217 0.19251566 0.16654038 0.16558731]\n",
            "4 day output [[0.17504993]]\n",
            "5 day input [0.06719128 0.00141243 0.21125908 0.29398709 0.32304278 0.24271217\n",
            " 0.19251566 0.16654038 0.16558731 0.17504993]\n",
            "5 day output [[0.2348604]]\n",
            "6 day input [0.00141243 0.21125908 0.29398709 0.32304278 0.24271217 0.19251566\n",
            " 0.16654038 0.16558731 0.17504993 0.23486041]\n",
            "6 day output [[0.26025245]]\n",
            "7 day input [0.21125908 0.29398709 0.32304278 0.24271217 0.19251566 0.16654038\n",
            " 0.16558731 0.17504993 0.23486041 0.26025245]\n",
            "7 day output [[0.23820797]]\n",
            "8 day input [0.29398709 0.32304278 0.24271217 0.19251566 0.16654038 0.16558731\n",
            " 0.17504993 0.23486041 0.26025245 0.23820797]\n",
            "8 day output [[0.197469]]\n",
            "9 day input [0.32304278 0.24271217 0.19251566 0.16654038 0.16558731 0.17504993\n",
            " 0.23486041 0.26025245 0.23820797 0.197469  ]\n",
            "9 day output [[0.1690428]]\n",
            "10 day input [0.24271217 0.19251566 0.16654038 0.16558731 0.17504993 0.23486041\n",
            " 0.26025245 0.23820797 0.197469   0.1690428 ]\n",
            "10 day output [[0.17204049]]\n",
            "11 day input [0.19251566 0.16654038 0.16558731 0.17504993 0.23486041 0.26025245\n",
            " 0.23820797 0.197469   0.1690428  0.17204049]\n",
            "11 day output [[0.19309734]]\n",
            "12 day input [0.16654038 0.16558731 0.17504993 0.23486041 0.26025245 0.23820797\n",
            " 0.197469   0.1690428  0.17204049 0.19309734]\n",
            "12 day output [[0.21422364]]\n",
            "13 day input [0.16558731 0.17504993 0.23486041 0.26025245 0.23820797 0.197469\n",
            " 0.1690428  0.17204049 0.19309734 0.21422364]\n",
            "13 day output [[0.22434798]]\n",
            "14 day input [0.17504993 0.23486041 0.26025245 0.23820797 0.197469   0.1690428\n",
            " 0.17204049 0.19309734 0.21422364 0.22434798]\n",
            "14 day output [[0.2181595]]\n",
            "15 day input [0.23486041 0.26025245 0.23820797 0.197469   0.1690428  0.17204049\n",
            " 0.19309734 0.21422364 0.22434798 0.2181595 ]\n",
            "15 day output [[0.1962513]]\n",
            "16 day input [0.26025245 0.23820797 0.197469   0.1690428  0.17204049 0.19309734\n",
            " 0.21422364 0.22434798 0.2181595  0.1962513 ]\n",
            "16 day output [[0.1772871]]\n",
            "17 day input [0.23820797 0.197469   0.1690428  0.17204049 0.19309734 0.21422364\n",
            " 0.22434798 0.2181595  0.1962513  0.1772871 ]\n",
            "17 day output [[0.17527837]]\n",
            "18 day input [0.197469   0.1690428  0.17204049 0.19309734 0.21422364 0.22434798\n",
            " 0.2181595  0.1962513  0.1772871  0.17527837]\n",
            "18 day output [[0.1869903]]\n",
            "19 day input [0.1690428  0.17204049 0.19309734 0.21422364 0.22434798 0.2181595\n",
            " 0.1962513  0.1772871  0.17527837 0.18699031]\n",
            "19 day output [[0.20047131]]\n",
            "20 day input [0.17204049 0.19309734 0.21422364 0.22434798 0.2181595  0.1962513\n",
            " 0.1772871  0.17527837 0.18699031 0.20047131]\n",
            "20 day output [[0.20572396]]\n",
            "21 day input [0.19309734 0.21422364 0.22434798 0.2181595  0.1962513  0.1772871\n",
            " 0.17527837 0.18699031 0.20047131 0.20572396]\n",
            "21 day output [[0.20003413]]\n",
            "22 day input [0.21422364 0.22434798 0.2181595  0.1962513  0.1772871  0.17527837\n",
            " 0.18699031 0.20047131 0.20572396 0.20003413]\n",
            "22 day output [[0.18823692]]\n",
            "23 day input [0.22434798 0.2181595  0.1962513  0.1772871  0.17527837 0.18699031\n",
            " 0.20047131 0.20572396 0.20003413 0.18823692]\n",
            "23 day output [[0.17755532]]\n",
            "24 day input [0.2181595  0.1962513  0.1772871  0.17527837 0.18699031 0.20047131\n",
            " 0.20572396 0.20003413 0.18823692 0.17755532]\n",
            "24 day output [[0.17477435]]\n",
            "25 day input [0.1962513  0.1772871  0.17527837 0.18699031 0.20047131 0.20572396\n",
            " 0.20003413 0.18823692 0.17755532 0.17477435]\n",
            "25 day output [[0.17997748]]\n",
            "26 day input [0.1772871  0.17527837 0.18699031 0.20047131 0.20572396 0.20003413\n",
            " 0.18823692 0.17755532 0.17477435 0.17997748]\n",
            "26 day output [[0.18719713]]\n",
            "27 day input [0.17527837 0.18699031 0.20047131 0.20572396 0.20003413 0.18823692\n",
            " 0.17755532 0.17477435 0.17997748 0.18719713]\n",
            "27 day output [[0.19002484]]\n",
            "28 day input [0.18699031 0.20047131 0.20572396 0.20003413 0.18823692 0.17755532\n",
            " 0.17477435 0.17997748 0.18719713 0.19002484]\n",
            "28 day output [[0.18631163]]\n",
            "29 day input [0.20047131 0.20572396 0.20003413 0.18823692 0.17755532 0.17477435\n",
            " 0.17997748 0.18719713 0.19002484 0.18631163]\n",
            "29 day output [[0.17886728]]\n",
            "[[0.24271216988563538], [0.19251565635204315], [0.16654038429260254], [0.16558730602264404], [0.17504993081092834], [0.2348604053258896], [0.260252445936203], [0.23820796608924866], [0.19746899604797363], [0.16904279589653015], [0.17204049229621887], [0.1930973380804062], [0.21422363817691803], [0.22434797883033752], [0.2181594967842102], [0.1962513029575348], [0.17728710174560547], [0.17527836561203003], [0.18699030578136444], [0.20047131180763245], [0.20572395622730255], [0.20003412663936615], [0.18823692202568054], [0.17755532264709473], [0.17477434873580933], [0.17997747659683228], [0.18719713389873505], [0.19002483785152435], [0.18631163239479065], [0.17886728048324585]]\n"
          ]
        }
      ]
    },
    {
      "cell_type": "code",
      "metadata": {
        "id": "mnLg9E0tStlB"
      },
      "source": [
        "day_new=np.arange(1,101)\n",
        "day_pred=np.arange(101,131)"
      ],
      "execution_count": null,
      "outputs": []
    },
    {
      "cell_type": "code",
      "metadata": {
        "colab": {
          "base_uri": "https://localhost:8080/",
          "height": 282
        },
        "id": "dPuNEx_USumh",
        "outputId": "56b7a4c7-290d-4b1e-dbeb-81b7a97e98af"
      },
      "source": [
        "plt.plot(day_new,scaler.inverse_transform(df1[319:]))\n",
        "plt.plot(day_pred,scaler.inverse_transform(lst_output))"
      ],
      "execution_count": null,
      "outputs": [
        {
          "output_type": "execute_result",
          "data": {
            "text/plain": [
              "[<matplotlib.lines.Line2D at 0x7fd33f3e6490>]"
            ]
          },
          "metadata": {},
          "execution_count": 123
        },
        {
          "output_type": "display_data",
          "data": {
            "image/png": "[encoded data removed]",
            "text/plain": [
              "<Figure size 432x288 with 1 Axes>"
            ]
          },
          "metadata": {
            "needs_background": "light"
          }
        }
      ]
    },
    {
      "cell_type": "code",
      "metadata": {
        "colab": {
          "base_uri": "https://localhost:8080/",
          "height": 282
        },
        "id": "MXIYtsiGSuch",
        "outputId": "244192d1-5c66-4d32-b82b-d61ade89ded1"
      },
      "source": [
        "df3=df1.tolist()\n",
        "df3.extend(lst_output)\n",
        "plt.plot(df3[310:])"
      ],
      "execution_count": null,
      "outputs": [
        {
          "output_type": "execute_result",
          "data": {
            "text/plain": [
              "[<matplotlib.lines.Line2D at 0x7fd33e742850>]"
            ]
          },
          "metadata": {},
          "execution_count": 170
        },
        {
          "output_type": "display_data",
          "data": {
            "image/png": "[encoded data removed]",
            "text/plain": [
              "<Figure size 432x288 with 1 Axes>"
            ]
          },
          "metadata": {
            "needs_background": "light"
          }
        }
      ]
    },
    {
      "cell_type": "code",
      "metadata": {
        "colab": {
          "base_uri": "https://localhost:8080/",
          "height": 282
        },
        "id": "DecNMKBkTKFU",
        "outputId": "c73c3631-42e2-431f-b49c-ae8813ee073d"
      },
      "source": [
        "df3=scaler.inverse_transform(df3).tolist()\n",
        "plt.plot(df3)"
      ],
      "execution_count": null,
      "outputs": [
        {
          "output_type": "execute_result",
          "data": {
            "text/plain": [
              "[<matplotlib.lines.Line2D at 0x7fd342f10fd0>]"
            ]
          },
          "metadata": {},
          "execution_count": 125
        },
        {
          "output_type": "display_data",
          "data": {
            "image/png": "[encoded data removed]",
            "text/plain": [
              "<Figure size 432x288 with 1 Axes>"
            ]
          },
          "metadata": {
            "needs_background": "light"
          }
        }
      ]
    },
    {
      "cell_type": "markdown",
      "metadata": {
        "id": "PHtkAuHpXa3O"
      },
      "source": [
        "# **Vanilla LSTM**"
      ]
    },
    {
      "cell_type": "code",
      "metadata": {
        "colab": {
          "base_uri": "https://localhost:8080/"
        },
        "id": "o812ihR9XnZD",
        "outputId": "8bf279c8-9d6e-41a2-c847-7e036ab415d6"
      },
      "source": [
        "model3 = Sequential()\n",
        "model3.add(LSTM(50, activation='relu', input_shape=(10, 1)))\n",
        "model3.add(Dense(1))\n",
        "model3.compile(loss='mean_squared_error',optimizer='adam')"
      ],
      "execution_count": null,
      "outputs": [
        {
          "output_type": "stream",
          "name": "stdout",
          "text": [
            "WARNING:tensorflow:Layer lstm_9 will not use cuDNN kernels since it doesn't meet the criteria. It will use a generic GPU kernel as fallback when running on GPU.\n"
          ]
        }
      ]
    },
    {
      "cell_type": "code",
      "metadata": {
        "colab": {
          "base_uri": "https://localhost:8080/"
        },
        "id": "OUm4Xn7FYj15",
        "outputId": "d54caa74-2d97-41ab-de6e-e0069b1e287c"
      },
      "source": [
        "model3.summary()"
      ],
      "execution_count": null,
      "outputs": [
        {
          "output_type": "stream",
          "name": "stdout",
          "text": [
            "Model: \"sequential_3\"\n",
            "_________________________________________________________________\n",
            " Layer (type)                Output Shape              Param #   \n",
            "=================================================================\n",
            " lstm_9 (LSTM)               (None, 50)                10400     \n",
            "                                                                 \n",
            " dense_3 (Dense)             (None, 1)                 51        \n",
            "                                                                 \n",
            "=================================================================\n",
            "Total params: 10,451\n",
            "Trainable params: 10,451\n",
            "Non-trainable params: 0\n",
            "_________________________________________________________________\n"
          ]
        }
      ]
    },
    {
      "cell_type": "code",
      "metadata": {
        "colab": {
          "base_uri": "https://localhost:8080/"
        },
        "id": "77axoUvpX0FY",
        "outputId": "4f86a741-817d-462a-ba86-5270a9d1e5be"
      },
      "source": [
        "model3.fit(X_train,y_train,validation_data=(X_test,ytest),epochs=100,batch_size=32,verbose=1)"
      ],
      "execution_count": null,
      "outputs": [
        {
          "output_type": "stream",
          "name": "stdout",
          "text": [
            "Epoch 1/100\n",
            "9/9 [==============================] - 2s 73ms/step - loss: 0.0894 - val_loss: 0.0333\n",
            "Epoch 2/100\n",
            "9/9 [==============================] - 0s 31ms/step - loss: 0.0554 - val_loss: 0.0171\n",
            "Epoch 3/100\n",
            "9/9 [==============================] - 0s 39ms/step - loss: 0.0263 - val_loss: 0.0103\n",
            "Epoch 4/100\n",
            "9/9 [==============================] - 0s 34ms/step - loss: 0.0158 - val_loss: 0.0151\n",
            "Epoch 5/100\n",
            "9/9 [==============================] - 0s 35ms/step - loss: 0.0141 - val_loss: 0.0097\n",
            "Epoch 6/100\n",
            "9/9 [==============================] - 0s 38ms/step - loss: 0.0120 - val_loss: 0.0090\n",
            "Epoch 7/100\n",
            "9/9 [==============================] - 0s 34ms/step - loss: 0.0109 - val_loss: 0.0089\n",
            "Epoch 8/100\n",
            "9/9 [==============================] - 0s 33ms/step - loss: 0.0101 - val_loss: 0.0085\n",
            "Epoch 9/100\n",
            "9/9 [==============================] - 0s 33ms/step - loss: 0.0095 - val_loss: 0.0083\n",
            "Epoch 10/100\n",
            "9/9 [==============================] - 0s 33ms/step - loss: 0.0095 - val_loss: 0.0082\n",
            "Epoch 11/100\n",
            "9/9 [==============================] - 0s 41ms/step - loss: 0.0097 - val_loss: 0.0085\n",
            "Epoch 12/100\n",
            "9/9 [==============================] - 0s 34ms/step - loss: 0.0096 - val_loss: 0.0082\n",
            "Epoch 13/100\n",
            "9/9 [==============================] - 0s 33ms/step - loss: 0.0090 - val_loss: 0.0085\n",
            "Epoch 14/100\n",
            "9/9 [==============================] - 0s 36ms/step - loss: 0.0090 - val_loss: 0.0082\n",
            "Epoch 15/100\n",
            "9/9 [==============================] - 0s 34ms/step - loss: 0.0090 - val_loss: 0.0082\n",
            "Epoch 16/100\n",
            "9/9 [==============================] - 0s 35ms/step - loss: 0.0092 - val_loss: 0.0083\n",
            "Epoch 17/100\n",
            "9/9 [==============================] - 0s 38ms/step - loss: 0.0089 - val_loss: 0.0081\n",
            "Epoch 18/100\n",
            "9/9 [==============================] - 0s 33ms/step - loss: 0.0090 - val_loss: 0.0081\n",
            "Epoch 19/100\n",
            "9/9 [==============================] - 0s 36ms/step - loss: 0.0088 - val_loss: 0.0083\n",
            "Epoch 20/100\n",
            "9/9 [==============================] - 0s 31ms/step - loss: 0.0088 - val_loss: 0.0081\n",
            "Epoch 21/100\n",
            "9/9 [==============================] - 0s 38ms/step - loss: 0.0087 - val_loss: 0.0081\n",
            "Epoch 22/100\n",
            "9/9 [==============================] - 0s 36ms/step - loss: 0.0087 - val_loss: 0.0080\n",
            "Epoch 23/100\n",
            "9/9 [==============================] - 0s 33ms/step - loss: 0.0086 - val_loss: 0.0082\n",
            "Epoch 24/100\n",
            "9/9 [==============================] - 0s 35ms/step - loss: 0.0087 - val_loss: 0.0081\n",
            "Epoch 25/100\n",
            "9/9 [==============================] - 0s 32ms/step - loss: 0.0087 - val_loss: 0.0083\n",
            "Epoch 26/100\n",
            "9/9 [==============================] - 0s 34ms/step - loss: 0.0090 - val_loss: 0.0081\n",
            "Epoch 27/100\n",
            "9/9 [==============================] - 0s 32ms/step - loss: 0.0089 - val_loss: 0.0080\n",
            "Epoch 28/100\n",
            "9/9 [==============================] - 0s 34ms/step - loss: 0.0086 - val_loss: 0.0083\n",
            "Epoch 29/100\n",
            "9/9 [==============================] - 0s 33ms/step - loss: 0.0085 - val_loss: 0.0080\n",
            "Epoch 30/100\n",
            "9/9 [==============================] - 0s 33ms/step - loss: 0.0084 - val_loss: 0.0080\n",
            "Epoch 31/100\n",
            "9/9 [==============================] - 0s 34ms/step - loss: 0.0085 - val_loss: 0.0080\n",
            "Epoch 32/100\n",
            "9/9 [==============================] - 0s 33ms/step - loss: 0.0084 - val_loss: 0.0079\n",
            "Epoch 33/100\n",
            "9/9 [==============================] - 0s 34ms/step - loss: 0.0083 - val_loss: 0.0079\n",
            "Epoch 34/100\n",
            "9/9 [==============================] - 0s 32ms/step - loss: 0.0083 - val_loss: 0.0080\n",
            "Epoch 35/100\n",
            "9/9 [==============================] - 0s 34ms/step - loss: 0.0081 - val_loss: 0.0081\n",
            "Epoch 36/100\n",
            "9/9 [==============================] - 0s 36ms/step - loss: 0.0085 - val_loss: 0.0078\n",
            "Epoch 37/100\n",
            "9/9 [==============================] - 0s 34ms/step - loss: 0.0083 - val_loss: 0.0078\n",
            "Epoch 38/100\n",
            "9/9 [==============================] - 0s 31ms/step - loss: 0.0081 - val_loss: 0.0080\n",
            "Epoch 39/100\n",
            "9/9 [==============================] - 0s 40ms/step - loss: 0.0081 - val_loss: 0.0079\n",
            "Epoch 40/100\n",
            "9/9 [==============================] - 0s 35ms/step - loss: 0.0079 - val_loss: 0.0078\n",
            "Epoch 41/100\n",
            "9/9 [==============================] - 0s 31ms/step - loss: 0.0078 - val_loss: 0.0078\n",
            "Epoch 42/100\n",
            "9/9 [==============================] - 0s 34ms/step - loss: 0.0079 - val_loss: 0.0078\n",
            "Epoch 43/100\n",
            "9/9 [==============================] - 0s 35ms/step - loss: 0.0080 - val_loss: 0.0078\n",
            "Epoch 44/100\n",
            "9/9 [==============================] - 0s 35ms/step - loss: 0.0078 - val_loss: 0.0079\n",
            "Epoch 45/100\n",
            "9/9 [==============================] - 0s 34ms/step - loss: 0.0088 - val_loss: 0.0076\n",
            "Epoch 46/100\n",
            "9/9 [==============================] - 0s 35ms/step - loss: 0.0083 - val_loss: 0.0076\n",
            "Epoch 47/100\n",
            "9/9 [==============================] - 0s 34ms/step - loss: 0.0080 - val_loss: 0.0077\n",
            "Epoch 48/100\n",
            "9/9 [==============================] - 0s 32ms/step - loss: 0.0074 - val_loss: 0.0077\n",
            "Epoch 49/100\n",
            "9/9 [==============================] - 0s 35ms/step - loss: 0.0075 - val_loss: 0.0077\n",
            "Epoch 50/100\n",
            "9/9 [==============================] - 0s 36ms/step - loss: 0.0073 - val_loss: 0.0076\n",
            "Epoch 51/100\n",
            "9/9 [==============================] - 0s 36ms/step - loss: 0.0072 - val_loss: 0.0076\n",
            "Epoch 52/100\n",
            "9/9 [==============================] - 0s 33ms/step - loss: 0.0071 - val_loss: 0.0075\n",
            "Epoch 53/100\n",
            "9/9 [==============================] - 0s 30ms/step - loss: 0.0070 - val_loss: 0.0075\n",
            "Epoch 54/100\n",
            "9/9 [==============================] - 0s 32ms/step - loss: 0.0069 - val_loss: 0.0074\n",
            "Epoch 55/100\n",
            "9/9 [==============================] - 0s 34ms/step - loss: 0.0069 - val_loss: 0.0075\n",
            "Epoch 56/100\n",
            "9/9 [==============================] - 0s 33ms/step - loss: 0.0072 - val_loss: 0.0072\n",
            "Epoch 57/100\n",
            "9/9 [==============================] - 0s 36ms/step - loss: 0.0068 - val_loss: 0.0073\n",
            "Epoch 58/100\n",
            "9/9 [==============================] - 0s 33ms/step - loss: 0.0067 - val_loss: 0.0074\n",
            "Epoch 59/100\n",
            "9/9 [==============================] - 0s 32ms/step - loss: 0.0066 - val_loss: 0.0075\n",
            "Epoch 60/100\n",
            "9/9 [==============================] - 0s 36ms/step - loss: 0.0068 - val_loss: 0.0074\n",
            "Epoch 61/100\n",
            "9/9 [==============================] - 0s 32ms/step - loss: 0.0061 - val_loss: 0.0071\n",
            "Epoch 62/100\n",
            "9/9 [==============================] - 0s 33ms/step - loss: 0.0064 - val_loss: 0.0069\n",
            "Epoch 63/100\n",
            "9/9 [==============================] - 0s 35ms/step - loss: 0.0063 - val_loss: 0.0069\n",
            "Epoch 64/100\n",
            "9/9 [==============================] - 0s 33ms/step - loss: 0.0059 - val_loss: 0.0067\n",
            "Epoch 65/100\n",
            "9/9 [==============================] - 0s 32ms/step - loss: 0.0067 - val_loss: 0.0078\n",
            "Epoch 66/100\n",
            "9/9 [==============================] - 0s 36ms/step - loss: 0.0057 - val_loss: 0.0071\n",
            "Epoch 67/100\n",
            "9/9 [==============================] - 0s 35ms/step - loss: 0.0061 - val_loss: 0.0073\n",
            "Epoch 68/100\n",
            "9/9 [==============================] - 0s 36ms/step - loss: 0.0057 - val_loss: 0.0066\n",
            "Epoch 69/100\n",
            "9/9 [==============================] - 0s 35ms/step - loss: 0.0051 - val_loss: 0.0065\n",
            "Epoch 70/100\n",
            "9/9 [==============================] - 0s 35ms/step - loss: 0.0049 - val_loss: 0.0064\n",
            "Epoch 71/100\n",
            "9/9 [==============================] - 0s 32ms/step - loss: 0.0047 - val_loss: 0.0062\n",
            "Epoch 72/100\n",
            "9/9 [==============================] - 0s 35ms/step - loss: 0.0050 - val_loss: 0.0059\n",
            "Epoch 73/100\n",
            "9/9 [==============================] - 0s 34ms/step - loss: 0.0051 - val_loss: 0.0061\n",
            "Epoch 74/100\n",
            "9/9 [==============================] - 0s 34ms/step - loss: 0.0045 - val_loss: 0.0081\n",
            "Epoch 75/100\n",
            "9/9 [==============================] - 0s 33ms/step - loss: 0.0064 - val_loss: 0.0066\n",
            "Epoch 76/100\n",
            "9/9 [==============================] - 0s 33ms/step - loss: 0.0053 - val_loss: 0.0063\n",
            "Epoch 77/100\n",
            "9/9 [==============================] - 0s 36ms/step - loss: 0.0049 - val_loss: 0.0064\n",
            "Epoch 78/100\n",
            "9/9 [==============================] - 0s 34ms/step - loss: 0.0047 - val_loss: 0.0064\n",
            "Epoch 79/100\n",
            "9/9 [==============================] - 0s 34ms/step - loss: 0.0046 - val_loss: 0.0061\n",
            "Epoch 80/100\n",
            "9/9 [==============================] - 0s 35ms/step - loss: 0.0047 - val_loss: 0.0059\n",
            "Epoch 81/100\n",
            "9/9 [==============================] - 0s 34ms/step - loss: 0.0045 - val_loss: 0.0061\n",
            "Epoch 82/100\n",
            "9/9 [==============================] - 0s 36ms/step - loss: 0.0043 - val_loss: 0.0062\n",
            "Epoch 83/100\n",
            "9/9 [==============================] - 0s 35ms/step - loss: 0.0045 - val_loss: 0.0059\n",
            "Epoch 84/100\n",
            "9/9 [==============================] - 0s 34ms/step - loss: 0.0042 - val_loss: 0.0062\n",
            "Epoch 85/100\n",
            "9/9 [==============================] - 0s 37ms/step - loss: 0.0042 - val_loss: 0.0063\n",
            "Epoch 86/100\n",
            "9/9 [==============================] - 0s 34ms/step - loss: 0.0045 - val_loss: 0.0078\n",
            "Epoch 87/100\n",
            "9/9 [==============================] - 0s 33ms/step - loss: 0.0048 - val_loss: 0.0060\n",
            "Epoch 88/100\n",
            "9/9 [==============================] - 0s 34ms/step - loss: 0.0046 - val_loss: 0.0066\n",
            "Epoch 89/100\n",
            "9/9 [==============================] - 0s 33ms/step - loss: 0.0060 - val_loss: 0.0075\n",
            "Epoch 90/100\n",
            "9/9 [==============================] - 0s 35ms/step - loss: 0.0048 - val_loss: 0.0063\n",
            "Epoch 91/100\n",
            "9/9 [==============================] - 0s 37ms/step - loss: 0.0044 - val_loss: 0.0062\n",
            "Epoch 92/100\n",
            "9/9 [==============================] - 0s 35ms/step - loss: 0.0042 - val_loss: 0.0066\n",
            "Epoch 93/100\n",
            "9/9 [==============================] - 0s 33ms/step - loss: 0.0049 - val_loss: 0.0060\n",
            "Epoch 94/100\n",
            "9/9 [==============================] - 0s 35ms/step - loss: 0.0041 - val_loss: 0.0060\n",
            "Epoch 95/100\n",
            "9/9 [==============================] - 0s 35ms/step - loss: 0.0050 - val_loss: 0.0060\n",
            "Epoch 96/100\n",
            "9/9 [==============================] - 0s 35ms/step - loss: 0.0046 - val_loss: 0.0073\n",
            "Epoch 97/100\n",
            "9/9 [==============================] - 0s 34ms/step - loss: 0.0043 - val_loss: 0.0060\n",
            "Epoch 98/100\n",
            "9/9 [==============================] - 0s 32ms/step - loss: 0.0044 - val_loss: 0.0058\n",
            "Epoch 99/100\n",
            "9/9 [==============================] - 0s 31ms/step - loss: 0.0046 - val_loss: 0.0082\n",
            "Epoch 100/100\n",
            "9/9 [==============================] - 0s 31ms/step - loss: 0.0050 - val_loss: 0.0061\n"
          ]
        },
        {
          "output_type": "execute_result",
          "data": {
            "text/plain": [
              "<keras.callbacks.History at 0x7fd36b2f18d0>"
            ]
          },
          "metadata": {},
          "execution_count": 128
        }
      ]
    },
    {
      "cell_type": "markdown",
      "metadata": {
        "id": "5M2nxSRnGbPe"
      },
      "source": [
        "# **Prediction**"
      ]
    },
    {
      "cell_type": "code",
      "metadata": {
        "id": "rJVXqWhpX7Tb"
      },
      "source": [
        "train_predict=model3.predict(X_train)\n",
        "test_predict=model3.predict(X_test)\n",
        "##Transformback to original form\n",
        "train_predict=scaler.inverse_transform(train_predict)\n",
        "test_predict=scaler.inverse_transform(test_predict)"
      ],
      "execution_count": null,
      "outputs": []
    },
    {
      "cell_type": "markdown",
      "metadata": {
        "id": "g-w5UmOj4IOd"
      },
      "source": [
        "# **Performence Matrix**"
      ]
    },
    {
      "cell_type": "markdown",
      "metadata": {
        "id": "eywpegkK4NtM"
      },
      "source": [
        "## **MSE**"
      ]
    },
    {
      "cell_type": "code",
      "metadata": {
        "colab": {
          "base_uri": "https://localhost:8080/"
        },
        "id": "tbIamdNo308X",
        "outputId": "cfaa5e87-44b5-4b91-d03a-f1fb45d13fed"
      },
      "source": [
        "mean_squared_error(y_train,train_predict)"
      ],
      "execution_count": null,
      "outputs": [
        {
          "output_type": "execute_result",
          "data": {
            "text/plain": [
              "2872626.5076124268"
            ]
          },
          "metadata": {},
          "execution_count": 130
        }
      ]
    },
    {
      "cell_type": "code",
      "metadata": {
        "colab": {
          "base_uri": "https://localhost:8080/"
        },
        "id": "DqTB-fCR32R9",
        "outputId": "bc5df5c4-2799-436f-861e-bb8d179151a8"
      },
      "source": [
        "### Test Data RMSE\n",
        "mean_squared_error(ytest,test_predict)"
      ],
      "execution_count": null,
      "outputs": [
        {
          "output_type": "execute_result",
          "data": {
            "text/plain": [
              "1603366.8981377408"
            ]
          },
          "metadata": {},
          "execution_count": 131
        }
      ]
    },
    {
      "cell_type": "markdown",
      "metadata": {
        "id": "pOZ9kfqz4RoV"
      },
      "source": [
        "## **RMSE**"
      ]
    },
    {
      "cell_type": "code",
      "metadata": {
        "colab": {
          "base_uri": "https://localhost:8080/"
        },
        "id": "--q1N7beY3YU",
        "outputId": "07a413f1-2926-40dd-9a09-1ecefce62336"
      },
      "source": [
        "### Calculate RMSE performance metrics\n",
        "math.sqrt(mean_squared_error(y_train,train_predict))"
      ],
      "execution_count": null,
      "outputs": [
        {
          "output_type": "execute_result",
          "data": {
            "text/plain": [
              "1694.8824465467883"
            ]
          },
          "metadata": {},
          "execution_count": 132
        }
      ]
    },
    {
      "cell_type": "code",
      "metadata": {
        "colab": {
          "base_uri": "https://localhost:8080/"
        },
        "id": "Q3SRTZsPZEiS",
        "outputId": "deaa24d9-685a-404c-cd07-bd3b2e3d0ac5"
      },
      "source": [
        "### Test Data RMSE\n",
        "math.sqrt(mean_squared_error(ytest,test_predict))"
      ],
      "execution_count": null,
      "outputs": [
        {
          "output_type": "execute_result",
          "data": {
            "text/plain": [
              "1266.2412480004514"
            ]
          },
          "metadata": {},
          "execution_count": 133
        }
      ]
    },
    {
      "cell_type": "markdown",
      "metadata": {
        "id": "_wxLwd0a48gP"
      },
      "source": [
        "## **MAE**"
      ]
    },
    {
      "cell_type": "code",
      "metadata": {
        "colab": {
          "base_uri": "https://localhost:8080/"
        },
        "id": "gkjFSXhH5AsU",
        "outputId": "6a3d202c-71b2-47e3-cec1-87f49a31d300"
      },
      "source": [
        "mean_absolute_error(y_train,train_predict)"
      ],
      "execution_count": null,
      "outputs": [
        {
          "output_type": "execute_result",
          "data": {
            "text/plain": [
              "1399.0772732547616"
            ]
          },
          "metadata": {},
          "execution_count": 134
        }
      ]
    },
    {
      "cell_type": "code",
      "metadata": {
        "colab": {
          "base_uri": "https://localhost:8080/"
        },
        "id": "X1nPg-Pj5Ait",
        "outputId": "abb0c676-3ad2-40f4-bc5d-5ac642abaf02"
      },
      "source": [
        "### Test Data MAE\n",
        "mean_absolute_error(ytest,test_predict)"
      ],
      "execution_count": null,
      "outputs": [
        {
          "output_type": "execute_result",
          "data": {
            "text/plain": [
              "1112.6291641826128"
            ]
          },
          "metadata": {},
          "execution_count": 135
        }
      ]
    },
    {
      "cell_type": "code",
      "metadata": {
        "colab": {
          "base_uri": "https://localhost:8080/",
          "height": 265
        },
        "id": "QZ2NR-WDZGTa",
        "outputId": "62b7db80-a11e-4b40-af22-f76c7625df81"
      },
      "source": [
        "### Plotting \n",
        "# shift train predictions for plotting\n",
        "look_back=10\n",
        "trainPredictPlot = numpy.empty_like(df1)\n",
        "trainPredictPlot[:, :] = np.nan\n",
        "trainPredictPlot[look_back:len(train_predict)+look_back, :] = train_predict\n",
        "# shift test predictions for plotting\n",
        "testPredictPlot = numpy.empty_like(df1)\n",
        "testPredictPlot[:, :] = numpy.nan\n",
        "testPredictPlot[len(train_predict)+(look_back*2)+1:len(df1)-1, :] = test_predict\n",
        "# plot baseline and predictions\n",
        "plt.plot(scaler.inverse_transform(df1))\n",
        "plt.plot(trainPredictPlot)\n",
        "plt.plot(testPredictPlot)\n",
        "plt.show()"
      ],
      "execution_count": null,
      "outputs": [
        {
          "output_type": "display_data",
          "data": {
            "image/png": "[encoded data removed]",
            "text/plain": [
              "<Figure size 432x288 with 1 Axes>"
            ]
          },
          "metadata": {
            "needs_background": "light"
          }
        }
      ]
    },
    {
      "cell_type": "code",
      "metadata": {
        "colab": {
          "base_uri": "https://localhost:8080/"
        },
        "id": "NvkswuURZO91",
        "outputId": "c74c641f-4e68-48aa-da40-5a8d13e33612"
      },
      "source": [
        "x_input=test_data[137:].reshape(1,-1)\n",
        "x_input.shape"
      ],
      "execution_count": null,
      "outputs": [
        {
          "output_type": "execute_result",
          "data": {
            "text/plain": [
              "(1, 10)"
            ]
          },
          "metadata": {},
          "execution_count": 137
        }
      ]
    },
    {
      "cell_type": "code",
      "metadata": {
        "id": "C3xPO9GNZZqq"
      },
      "source": [
        "temp_input=list(x_input)\n",
        "temp_input=temp_input[0].tolist()"
      ],
      "execution_count": null,
      "outputs": []
    },
    {
      "cell_type": "code",
      "metadata": {
        "colab": {
          "base_uri": "https://localhost:8080/"
        },
        "id": "iGbwDep0ZbHy",
        "outputId": "8beda954-c147-4de7-96bf-1596a2330155"
      },
      "source": [
        "# demonstrate prediction for next 10 days\n",
        "from numpy import array\n",
        "\n",
        "lst_output=[]\n",
        "n_steps=10\n",
        "i=0\n",
        "while(i<30):\n",
        "    \n",
        "    if(len(temp_input)>10):\n",
        "        #print(temp_input)\n",
        "        x_input=np.array(temp_input[1:])\n",
        "        print(\"{} day input {}\".format(i,x_input))\n",
        "        x_input=x_input.reshape(1,-1)\n",
        "        x_input = x_input.reshape((1, n_steps, 1))\n",
        "        #print(x_input)\n",
        "        yhat = model3.predict(x_input, verbose=0)\n",
        "        print(\"{} day output {}\".format(i,yhat))\n",
        "        temp_input.extend(yhat[0].tolist())\n",
        "        temp_input=temp_input[1:]\n",
        "        #print(temp_input)\n",
        "        lst_output.extend(yhat.tolist())\n",
        "        i=i+1\n",
        "    else:\n",
        "        x_input = x_input.reshape((1, n_steps,1))\n",
        "        yhat = model3.predict(x_input, verbose=0)\n",
        "        print(yhat[0])\n",
        "        temp_input.extend(yhat[0].tolist())\n",
        "        print(len(temp_input))\n",
        "        lst_output.extend(yhat.tolist())\n",
        "        i=i+1\n",
        "    \n",
        "\n",
        "print(lst_output)"
      ],
      "execution_count": null,
      "outputs": [
        {
          "output_type": "stream",
          "name": "stdout",
          "text": [
            "[0.25236848]\n",
            "11\n",
            "1 day input [0.29358354 0.25121065 0.1448749  0.36037127 0.06719128 0.00141243\n",
            " 0.21125908 0.29398709 0.32304278 0.25236848]\n",
            "1 day output [[0.22223254]]\n",
            "2 day input [0.25121065 0.1448749  0.36037127 0.06719128 0.00141243 0.21125908\n",
            " 0.29398709 0.32304278 0.25236848 0.22223254]\n",
            "2 day output [[0.20601746]]\n",
            "3 day input [0.1448749  0.36037127 0.06719128 0.00141243 0.21125908 0.29398709\n",
            " 0.32304278 0.25236848 0.22223254 0.20601746]\n",
            "3 day output [[0.18543237]]\n",
            "4 day input [0.36037127 0.06719128 0.00141243 0.21125908 0.29398709 0.32304278\n",
            " 0.25236848 0.22223254 0.20601746 0.18543237]\n",
            "4 day output [[0.17051984]]\n",
            "5 day input [0.06719128 0.00141243 0.21125908 0.29398709 0.32304278 0.25236848\n",
            " 0.22223254 0.20601746 0.18543237 0.17051984]\n",
            "5 day output [[0.20965762]]\n",
            "6 day input [0.00141243 0.21125908 0.29398709 0.32304278 0.25236848 0.22223254\n",
            " 0.20601746 0.18543237 0.17051984 0.20965762]\n",
            "6 day output [[0.23607899]]\n",
            "7 day input [0.21125908 0.29398709 0.32304278 0.25236848 0.22223254 0.20601746\n",
            " 0.18543237 0.17051984 0.20965762 0.23607899]\n",
            "7 day output [[0.23780495]]\n",
            "8 day input [0.29398709 0.32304278 0.25236848 0.22223254 0.20601746 0.18543237\n",
            " 0.17051984 0.20965762 0.23607899 0.23780495]\n",
            "8 day output [[0.21226531]]\n",
            "9 day input [0.32304278 0.25236848 0.22223254 0.20601746 0.18543237 0.17051984\n",
            " 0.20965762 0.23607899 0.23780495 0.21226531]\n",
            "9 day output [[0.19115263]]\n",
            "10 day input [0.25236848 0.22223254 0.20601746 0.18543237 0.17051984 0.20965762\n",
            " 0.23607899 0.23780495 0.21226531 0.19115263]\n",
            "10 day output [[0.185412]]\n",
            "11 day input [0.22223254 0.20601746 0.18543237 0.17051984 0.20965762 0.23607899\n",
            " 0.23780495 0.21226531 0.19115263 0.185412  ]\n",
            "11 day output [[0.18788677]]\n",
            "12 day input [0.20601746 0.18543237 0.17051984 0.20965762 0.23607899 0.23780495\n",
            " 0.21226531 0.19115263 0.185412   0.18788677]\n",
            "12 day output [[0.19385774]]\n",
            "13 day input [0.18543237 0.17051984 0.20965762 0.23607899 0.23780495 0.21226531\n",
            " 0.19115263 0.185412   0.18788677 0.19385774]\n",
            "13 day output [[0.20205478]]\n",
            "14 day input [0.17051984 0.20965762 0.23607899 0.23780495 0.21226531 0.19115263\n",
            " 0.185412   0.18788677 0.19385774 0.20205478]\n",
            "14 day output [[0.20689149]]\n",
            "15 day input [0.20965762 0.23607899 0.23780495 0.21226531 0.19115263 0.185412\n",
            " 0.18788677 0.19385774 0.20205478 0.20689149]\n",
            "15 day output [[0.20030011]]\n",
            "16 day input [0.23607899 0.23780495 0.21226531 0.19115263 0.185412   0.18788677\n",
            " 0.19385774 0.20205478 0.20689149 0.20030011]\n",
            "16 day output [[0.18889736]]\n",
            "17 day input [0.23780495 0.21226531 0.19115263 0.185412   0.18788677 0.19385774\n",
            " 0.20205478 0.20689149 0.20030011 0.18889736]\n",
            "17 day output [[0.18035126]]\n",
            "18 day input [0.21226531 0.19115263 0.185412   0.18788677 0.19385774 0.20205478\n",
            " 0.20689149 0.20030011 0.18889736 0.18035126]\n",
            "18 day output [[0.1786748]]\n",
            "19 day input [0.19115263 0.185412   0.18788677 0.19385774 0.20205478 0.20689149\n",
            " 0.20030011 0.18889736 0.18035126 0.1786748 ]\n",
            "19 day output [[0.18079104]]\n",
            "20 day input [0.185412   0.18788677 0.19385774 0.20205478 0.20689149 0.20030011\n",
            " 0.18889736 0.18035126 0.1786748  0.18079104]\n",
            "20 day output [[0.1832036]]\n",
            "21 day input [0.18788677 0.19385774 0.20205478 0.20689149 0.20030011 0.18889736\n",
            " 0.18035126 0.1786748  0.18079104 0.18320359]\n",
            "21 day output [[0.1839165]]\n",
            "22 day input [0.19385774 0.20205478 0.20689149 0.20030011 0.18889736 0.18035126\n",
            " 0.1786748  0.18079104 0.18320359 0.18391649]\n",
            "22 day output [[0.18168093]]\n",
            "23 day input [0.20205478 0.20689149 0.20030011 0.18889736 0.18035126 0.1786748\n",
            " 0.18079104 0.18320359 0.18391649 0.18168093]\n",
            "23 day output [[0.17632818]]\n",
            "24 day input [0.20689149 0.20030011 0.18889736 0.18035126 0.1786748  0.18079104\n",
            " 0.18320359 0.18391649 0.18168093 0.17632818]\n",
            "24 day output [[0.17039977]]\n",
            "25 day input [0.20030011 0.18889736 0.18035126 0.1786748  0.18079104 0.18320359\n",
            " 0.18391649 0.18168093 0.17632818 0.17039977]\n",
            "25 day output [[0.16665928]]\n",
            "26 day input [0.18889736 0.18035126 0.1786748  0.18079104 0.18320359 0.18391649\n",
            " 0.18168093 0.17632818 0.17039977 0.16665928]\n",
            "26 day output [[0.1653681]]\n",
            "27 day input [0.18035126 0.1786748  0.18079104 0.18320359 0.18391649 0.18168093\n",
            " 0.17632818 0.17039977 0.16665928 0.1653681 ]\n",
            "27 day output [[0.16512977]]\n",
            "28 day input [0.1786748  0.18079104 0.18320359 0.18391649 0.18168093 0.17632818\n",
            " 0.17039977 0.16665928 0.1653681  0.16512977]\n",
            "28 day output [[0.16433145]]\n",
            "29 day input [0.18079104 0.18320359 0.18391649 0.18168093 0.17632818 0.17039977\n",
            " 0.16665928 0.1653681  0.16512977 0.16433145]\n",
            "29 day output [[0.16217892]]\n",
            "[[0.2523684799671173], [0.22223253548145294], [0.20601746439933777], [0.18543237447738647], [0.1705198436975479], [0.20965762436389923], [0.23607899248600006], [0.23780494928359985], [0.21226531267166138], [0.1911526322364807], [0.18541200459003448], [0.1878867745399475], [0.19385774433612823], [0.20205478370189667], [0.2068914920091629], [0.20030011236667633], [0.18889735639095306], [0.18035125732421875], [0.17867480218410492], [0.18079103529453278], [0.1832035928964615], [0.18391649425029755], [0.18168093264102936], [0.17632818222045898], [0.1703997701406479], [0.16665928065776825], [0.16536809504032135], [0.16512976586818695], [0.16433145105838776], [0.1621789187192917]]\n"
          ]
        }
      ]
    },
    {
      "cell_type": "code",
      "metadata": {
        "id": "WDKNYR_HZlMg"
      },
      "source": [
        "day_new=np.arange(1,101)\n",
        "day_pred=np.arange(101,131)   "
      ],
      "execution_count": null,
      "outputs": []
    },
    {
      "cell_type": "code",
      "metadata": {
        "id": "cdZXW7RcRJK-"
      },
      "source": [],
      "execution_count": null,
      "outputs": []
    },
    {
      "cell_type": "code",
      "metadata": {
        "colab": {
          "base_uri": "https://localhost:8080/",
          "height": 282
        },
        "id": "TJdnmujbZlIP",
        "outputId": "0917a2e6-046d-4ba2-b53c-bbac719dab5c"
      },
      "source": [
        "plt.plot(day_new,scaler.inverse_transform(df1[319:]))\n",
        "plt.plot(day_pred,scaler.inverse_transform(lst_output))"
      ],
      "execution_count": null,
      "outputs": [
        {
          "output_type": "execute_result",
          "data": {
            "text/plain": [
              "[<matplotlib.lines.Line2D at 0x7fd33fb237d0>]"
            ]
          },
          "metadata": {},
          "execution_count": 142
        },
        {
          "output_type": "display_data",
          "data": {
            "image/png": "[encoded data removed]",
            "text/plain": [
              "<Figure size 432x288 with 1 Axes>"
            ]
          },
          "metadata": {
            "needs_background": "light"
          }
        }
      ]
    },
    {
      "cell_type": "code",
      "metadata": {
        "colab": {
          "base_uri": "https://localhost:8080/",
          "height": 282
        },
        "id": "uq5ZynCaZlDu",
        "outputId": "7fd5a93d-5055-42cc-cd28-ed0b17e01680"
      },
      "source": [
        "df3=df1.tolist()\n",
        "df3.extend(lst_output)\n",
        "plt.plot(df3[310:])"
      ],
      "execution_count": null,
      "outputs": [
        {
          "output_type": "execute_result",
          "data": {
            "text/plain": [
              "[<matplotlib.lines.Line2D at 0x7fd33f9906d0>]"
            ]
          },
          "metadata": {},
          "execution_count": 143
        },
        {
          "output_type": "display_data",
          "data": {
            "image/png": "[encoded data removed]",
            "text/plain": [
              "<Figure size 432x288 with 1 Axes>"
            ]
          },
          "metadata": {
            "needs_background": "light"
          }
        }
      ]
    },
    {
      "cell_type": "code",
      "metadata": {
        "colab": {
          "base_uri": "https://localhost:8080/",
          "height": 282
        },
        "id": "v5eSUsMaaLp_",
        "outputId": "ad9c3356-51b4-48e4-b314-f58e05b8d8ed"
      },
      "source": [
        "df3=scaler.inverse_transform(df3).tolist()\n",
        "plt.plot(df3)"
      ],
      "execution_count": null,
      "outputs": [
        {
          "output_type": "execute_result",
          "data": {
            "text/plain": [
              "[<matplotlib.lines.Line2D at 0x7fd33f957b50>]"
            ]
          },
          "metadata": {},
          "execution_count": 144
        },
        {
          "output_type": "display_data",
          "data": {
            "image/png": "[encoded data removed]",
            "text/plain": [
              "<Figure size 432x288 with 1 Axes>"
            ]
          },
          "metadata": {
            "needs_background": "light"
          }
        }
      ]
    },
    {
      "cell_type": "markdown",
      "metadata": {
        "id": "fki4gj64TYyC"
      },
      "source": [
        "# **ConvLSTM1D**"
      ]
    },
    {
      "cell_type": "code",
      "metadata": {
        "id": "OM9c-vAxcV3Q"
      },
      "source": [
        "X_train = X_train.reshape((261, 1, 10, 1))\n",
        "X_test = X_test.reshape((136, 1, 10, 1))"
      ],
      "execution_count": null,
      "outputs": []
    },
    {
      "cell_type": "code",
      "metadata": {
        "colab": {
          "base_uri": "https://localhost:8080/"
        },
        "id": "GCGGq7UETYea",
        "outputId": "27f1ec52-283b-476f-f1b6-131c694a766d"
      },
      "source": [
        "from keras.layers import Flatten\n",
        "from keras.layers import TimeDistributed\n",
        "from keras.layers.convolutional import Conv1D\n",
        "from keras.layers.convolutional import MaxPooling1D\n",
        "model4 = Sequential()\n",
        "model4.add(TimeDistributed(Conv1D(filters=64, kernel_size=1, activation='relu'), input_shape=(None,10,1)))\n",
        "model4.add(TimeDistributed(MaxPooling1D(pool_size=2)))\n",
        "model4.add(TimeDistributed(Flatten()))\n",
        "model4.add(LSTM(50, activation='relu'))\n",
        "model4.add(Dense(1))\n",
        "model4.compile(loss='mean_squared_error',optimizer='adam')"
      ],
      "execution_count": null,
      "outputs": [
        {
          "output_type": "stream",
          "name": "stdout",
          "text": [
            "WARNING:tensorflow:Layer lstm_10 will not use cuDNN kernels since it doesn't meet the criteria. It will use a generic GPU kernel as fallback when running on GPU.\n"
          ]
        }
      ]
    },
    {
      "cell_type": "code",
      "metadata": {
        "colab": {
          "base_uri": "https://localhost:8080/"
        },
        "id": "FfNxtKa8b19L",
        "outputId": "a5030260-d66c-463f-99fb-7d8efe2f31e4"
      },
      "source": [
        "model4.summary()"
      ],
      "execution_count": null,
      "outputs": [
        {
          "output_type": "stream",
          "name": "stdout",
          "text": [
            "Model: \"sequential_4\"\n",
            "_________________________________________________________________\n",
            " Layer (type)                Output Shape              Param #   \n",
            "=================================================================\n",
            " time_distributed (TimeDistr  (None, None, 10, 64)     128       \n",
            " ibuted)                                                         \n",
            "                                                                 \n",
            " time_distributed_1 (TimeDis  (None, None, 5, 64)      0         \n",
            " tributed)                                                       \n",
            "                                                                 \n",
            " time_distributed_2 (TimeDis  (None, None, 320)        0         \n",
            " tributed)                                                       \n",
            "                                                                 \n",
            " lstm_10 (LSTM)              (None, 50)                74200     \n",
            "                                                                 \n",
            " dense_4 (Dense)             (None, 1)                 51        \n",
            "                                                                 \n",
            "=================================================================\n",
            "Total params: 74,379\n",
            "Trainable params: 74,379\n",
            "Non-trainable params: 0\n",
            "_________________________________________________________________\n"
          ]
        }
      ]
    },
    {
      "cell_type": "code",
      "metadata": {
        "colab": {
          "base_uri": "https://localhost:8080/"
        },
        "id": "ZChlqcZxbzz3",
        "outputId": "f78f91a2-8051-458e-af85-ed89f3c04d73"
      },
      "source": [
        "model4.fit(X_train,y_train,validation_data=(X_test,ytest),epochs=100,batch_size=32,verbose=1)"
      ],
      "execution_count": null,
      "outputs": [
        {
          "output_type": "stream",
          "name": "stdout",
          "text": [
            "Epoch 1/100\n",
            "9/9 [==============================] - 8s 54ms/step - loss: 0.1090 - val_loss: 0.0379\n",
            "Epoch 2/100\n",
            "9/9 [==============================] - 0s 12ms/step - loss: 0.0546 - val_loss: 0.0156\n",
            "Epoch 3/100\n",
            "9/9 [==============================] - 0s 13ms/step - loss: 0.0177 - val_loss: 0.0111\n",
            "Epoch 4/100\n",
            "9/9 [==============================] - 0s 14ms/step - loss: 0.0140 - val_loss: 0.0113\n",
            "Epoch 5/100\n",
            "9/9 [==============================] - 0s 14ms/step - loss: 0.0103 - val_loss: 0.0092\n",
            "Epoch 6/100\n",
            "9/9 [==============================] - 0s 14ms/step - loss: 0.0106 - val_loss: 0.0090\n",
            "Epoch 7/100\n",
            "9/9 [==============================] - 0s 14ms/step - loss: 0.0096 - val_loss: 0.0091\n",
            "Epoch 8/100\n",
            "9/9 [==============================] - 0s 12ms/step - loss: 0.0093 - val_loss: 0.0089\n",
            "Epoch 9/100\n",
            "9/9 [==============================] - 0s 12ms/step - loss: 0.0090 - val_loss: 0.0088\n",
            "Epoch 10/100\n",
            "9/9 [==============================] - 0s 13ms/step - loss: 0.0088 - val_loss: 0.0087\n",
            "Epoch 11/100\n",
            "9/9 [==============================] - 0s 12ms/step - loss: 0.0085 - val_loss: 0.0086\n",
            "Epoch 12/100\n",
            "9/9 [==============================] - 0s 11ms/step - loss: 0.0084 - val_loss: 0.0085\n",
            "Epoch 13/100\n",
            "9/9 [==============================] - 0s 12ms/step - loss: 0.0081 - val_loss: 0.0084\n",
            "Epoch 14/100\n",
            "9/9 [==============================] - 0s 11ms/step - loss: 0.0079 - val_loss: 0.0083\n",
            "Epoch 15/100\n",
            "9/9 [==============================] - 0s 12ms/step - loss: 0.0077 - val_loss: 0.0082\n",
            "Epoch 16/100\n",
            "9/9 [==============================] - 0s 13ms/step - loss: 0.0076 - val_loss: 0.0081\n",
            "Epoch 17/100\n",
            "9/9 [==============================] - 0s 13ms/step - loss: 0.0075 - val_loss: 0.0081\n",
            "Epoch 18/100\n",
            "9/9 [==============================] - 0s 12ms/step - loss: 0.0073 - val_loss: 0.0080\n",
            "Epoch 19/100\n",
            "9/9 [==============================] - 0s 14ms/step - loss: 0.0070 - val_loss: 0.0079\n",
            "Epoch 20/100\n",
            "9/9 [==============================] - 0s 13ms/step - loss: 0.0073 - val_loss: 0.0079\n",
            "Epoch 21/100\n",
            "9/9 [==============================] - 0s 13ms/step - loss: 0.0068 - val_loss: 0.0079\n",
            "Epoch 22/100\n",
            "9/9 [==============================] - 0s 13ms/step - loss: 0.0065 - val_loss: 0.0078\n",
            "Epoch 23/100\n",
            "9/9 [==============================] - 0s 14ms/step - loss: 0.0064 - val_loss: 0.0077\n",
            "Epoch 24/100\n",
            "9/9 [==============================] - 0s 13ms/step - loss: 0.0063 - val_loss: 0.0076\n",
            "Epoch 25/100\n",
            "9/9 [==============================] - 0s 12ms/step - loss: 0.0062 - val_loss: 0.0076\n",
            "Epoch 26/100\n",
            "9/9 [==============================] - 0s 13ms/step - loss: 0.0061 - val_loss: 0.0076\n",
            "Epoch 27/100\n",
            "9/9 [==============================] - 0s 14ms/step - loss: 0.0061 - val_loss: 0.0076\n",
            "Epoch 28/100\n",
            "9/9 [==============================] - 0s 12ms/step - loss: 0.0061 - val_loss: 0.0076\n",
            "Epoch 29/100\n",
            "9/9 [==============================] - 0s 12ms/step - loss: 0.0060 - val_loss: 0.0075\n",
            "Epoch 30/100\n",
            "9/9 [==============================] - 0s 14ms/step - loss: 0.0059 - val_loss: 0.0075\n",
            "Epoch 31/100\n",
            "9/9 [==============================] - 0s 12ms/step - loss: 0.0062 - val_loss: 0.0076\n",
            "Epoch 32/100\n",
            "9/9 [==============================] - 0s 12ms/step - loss: 0.0059 - val_loss: 0.0075\n",
            "Epoch 33/100\n",
            "9/9 [==============================] - 0s 13ms/step - loss: 0.0059 - val_loss: 0.0075\n",
            "Epoch 34/100\n",
            "9/9 [==============================] - 0s 15ms/step - loss: 0.0060 - val_loss: 0.0075\n",
            "Epoch 35/100\n",
            "9/9 [==============================] - 0s 12ms/step - loss: 0.0059 - val_loss: 0.0076\n",
            "Epoch 36/100\n",
            "9/9 [==============================] - 0s 12ms/step - loss: 0.0059 - val_loss: 0.0076\n",
            "Epoch 37/100\n",
            "9/9 [==============================] - 0s 12ms/step - loss: 0.0061 - val_loss: 0.0075\n",
            "Epoch 38/100\n",
            "9/9 [==============================] - 0s 12ms/step - loss: 0.0058 - val_loss: 0.0075\n",
            "Epoch 39/100\n",
            "9/9 [==============================] - 0s 14ms/step - loss: 0.0066 - val_loss: 0.0075\n",
            "Epoch 40/100\n",
            "9/9 [==============================] - 0s 14ms/step - loss: 0.0061 - val_loss: 0.0075\n",
            "Epoch 41/100\n",
            "9/9 [==============================] - 0s 13ms/step - loss: 0.0061 - val_loss: 0.0075\n",
            "Epoch 42/100\n",
            "9/9 [==============================] - 0s 12ms/step - loss: 0.0061 - val_loss: 0.0075\n",
            "Epoch 43/100\n",
            "9/9 [==============================] - 0s 13ms/step - loss: 0.0059 - val_loss: 0.0075\n",
            "Epoch 44/100\n",
            "9/9 [==============================] - 0s 13ms/step - loss: 0.0057 - val_loss: 0.0075\n",
            "Epoch 45/100\n",
            "9/9 [==============================] - 0s 12ms/step - loss: 0.0056 - val_loss: 0.0076\n",
            "Epoch 46/100\n",
            "9/9 [==============================] - 0s 13ms/step - loss: 0.0061 - val_loss: 0.0075\n",
            "Epoch 47/100\n",
            "9/9 [==============================] - 0s 13ms/step - loss: 0.0059 - val_loss: 0.0075\n",
            "Epoch 48/100\n",
            "9/9 [==============================] - 0s 12ms/step - loss: 0.0058 - val_loss: 0.0075\n",
            "Epoch 49/100\n",
            "9/9 [==============================] - 0s 12ms/step - loss: 0.0057 - val_loss: 0.0075\n",
            "Epoch 50/100\n",
            "9/9 [==============================] - 0s 13ms/step - loss: 0.0058 - val_loss: 0.0075\n",
            "Epoch 51/100\n",
            "9/9 [==============================] - 0s 12ms/step - loss: 0.0057 - val_loss: 0.0075\n",
            "Epoch 52/100\n",
            "9/9 [==============================] - 0s 13ms/step - loss: 0.0059 - val_loss: 0.0075\n",
            "Epoch 53/100\n",
            "9/9 [==============================] - 0s 15ms/step - loss: 0.0058 - val_loss: 0.0075\n",
            "Epoch 54/100\n",
            "9/9 [==============================] - 0s 15ms/step - loss: 0.0061 - val_loss: 0.0074\n",
            "Epoch 55/100\n",
            "9/9 [==============================] - 0s 13ms/step - loss: 0.0061 - val_loss: 0.0075\n",
            "Epoch 56/100\n",
            "9/9 [==============================] - 0s 13ms/step - loss: 0.0057 - val_loss: 0.0076\n",
            "Epoch 57/100\n",
            "9/9 [==============================] - 0s 12ms/step - loss: 0.0061 - val_loss: 0.0075\n",
            "Epoch 58/100\n",
            "9/9 [==============================] - 0s 13ms/step - loss: 0.0062 - val_loss: 0.0075\n",
            "Epoch 59/100\n",
            "9/9 [==============================] - 0s 13ms/step - loss: 0.0057 - val_loss: 0.0075\n",
            "Epoch 60/100\n",
            "9/9 [==============================] - 0s 14ms/step - loss: 0.0060 - val_loss: 0.0075\n",
            "Epoch 61/100\n",
            "9/9 [==============================] - 0s 12ms/step - loss: 0.0055 - val_loss: 0.0075\n",
            "Epoch 62/100\n",
            "9/9 [==============================] - 0s 14ms/step - loss: 0.0055 - val_loss: 0.0076\n",
            "Epoch 63/100\n",
            "9/9 [==============================] - 0s 12ms/step - loss: 0.0057 - val_loss: 0.0075\n",
            "Epoch 64/100\n",
            "9/9 [==============================] - 0s 12ms/step - loss: 0.0061 - val_loss: 0.0075\n",
            "Epoch 65/100\n",
            "9/9 [==============================] - 0s 14ms/step - loss: 0.0059 - val_loss: 0.0074\n",
            "Epoch 66/100\n",
            "9/9 [==============================] - 0s 12ms/step - loss: 0.0064 - val_loss: 0.0077\n",
            "Epoch 67/100\n",
            "9/9 [==============================] - 0s 14ms/step - loss: 0.0057 - val_loss: 0.0075\n",
            "Epoch 68/100\n",
            "9/9 [==============================] - 0s 13ms/step - loss: 0.0058 - val_loss: 0.0076\n",
            "Epoch 69/100\n",
            "9/9 [==============================] - 0s 13ms/step - loss: 0.0055 - val_loss: 0.0075\n",
            "Epoch 70/100\n",
            "9/9 [==============================] - 0s 12ms/step - loss: 0.0054 - val_loss: 0.0075\n",
            "Epoch 71/100\n",
            "9/9 [==============================] - 0s 13ms/step - loss: 0.0055 - val_loss: 0.0076\n",
            "Epoch 72/100\n",
            "9/9 [==============================] - 0s 12ms/step - loss: 0.0056 - val_loss: 0.0074\n",
            "Epoch 73/100\n",
            "9/9 [==============================] - 0s 13ms/step - loss: 0.0058 - val_loss: 0.0075\n",
            "Epoch 74/100\n",
            "9/9 [==============================] - 0s 14ms/step - loss: 0.0054 - val_loss: 0.0074\n",
            "Epoch 75/100\n",
            "9/9 [==============================] - 0s 15ms/step - loss: 0.0055 - val_loss: 0.0075\n",
            "Epoch 76/100\n",
            "9/9 [==============================] - 0s 13ms/step - loss: 0.0055 - val_loss: 0.0075\n",
            "Epoch 77/100\n",
            "9/9 [==============================] - 0s 13ms/step - loss: 0.0059 - val_loss: 0.0074\n",
            "Epoch 78/100\n",
            "9/9 [==============================] - 0s 12ms/step - loss: 0.0054 - val_loss: 0.0078\n",
            "Epoch 79/100\n",
            "9/9 [==============================] - 0s 13ms/step - loss: 0.0056 - val_loss: 0.0075\n",
            "Epoch 80/100\n",
            "9/9 [==============================] - 0s 13ms/step - loss: 0.0055 - val_loss: 0.0076\n",
            "Epoch 81/100\n",
            "9/9 [==============================] - 0s 16ms/step - loss: 0.0055 - val_loss: 0.0075\n",
            "Epoch 82/100\n",
            "9/9 [==============================] - 0s 13ms/step - loss: 0.0056 - val_loss: 0.0075\n",
            "Epoch 83/100\n",
            "9/9 [==============================] - 0s 14ms/step - loss: 0.0057 - val_loss: 0.0080\n",
            "Epoch 84/100\n",
            "9/9 [==============================] - 0s 13ms/step - loss: 0.0055 - val_loss: 0.0075\n",
            "Epoch 85/100\n",
            "9/9 [==============================] - 0s 13ms/step - loss: 0.0054 - val_loss: 0.0077\n",
            "Epoch 86/100\n",
            "9/9 [==============================] - 0s 15ms/step - loss: 0.0054 - val_loss: 0.0075\n",
            "Epoch 87/100\n",
            "9/9 [==============================] - 0s 14ms/step - loss: 0.0056 - val_loss: 0.0075\n",
            "Epoch 88/100\n",
            "9/9 [==============================] - 0s 13ms/step - loss: 0.0057 - val_loss: 0.0076\n",
            "Epoch 89/100\n",
            "9/9 [==============================] - 0s 14ms/step - loss: 0.0054 - val_loss: 0.0075\n",
            "Epoch 90/100\n",
            "9/9 [==============================] - 0s 13ms/step - loss: 0.0055 - val_loss: 0.0077\n",
            "Epoch 91/100\n",
            "9/9 [==============================] - 0s 15ms/step - loss: 0.0052 - val_loss: 0.0075\n",
            "Epoch 92/100\n",
            "9/9 [==============================] - 0s 13ms/step - loss: 0.0057 - val_loss: 0.0076\n",
            "Epoch 93/100\n",
            "9/9 [==============================] - 0s 12ms/step - loss: 0.0061 - val_loss: 0.0074\n",
            "Epoch 94/100\n",
            "9/9 [==============================] - 0s 13ms/step - loss: 0.0057 - val_loss: 0.0080\n",
            "Epoch 95/100\n",
            "9/9 [==============================] - 0s 14ms/step - loss: 0.0053 - val_loss: 0.0075\n",
            "Epoch 96/100\n",
            "9/9 [==============================] - 0s 12ms/step - loss: 0.0054 - val_loss: 0.0077\n",
            "Epoch 97/100\n",
            "9/9 [==============================] - 0s 13ms/step - loss: 0.0053 - val_loss: 0.0075\n",
            "Epoch 98/100\n",
            "9/9 [==============================] - 0s 13ms/step - loss: 0.0056 - val_loss: 0.0075\n",
            "Epoch 99/100\n",
            "9/9 [==============================] - 0s 14ms/step - loss: 0.0052 - val_loss: 0.0082\n",
            "Epoch 100/100\n",
            "9/9 [==============================] - 0s 13ms/step - loss: 0.0054 - val_loss: 0.0076\n"
          ]
        },
        {
          "output_type": "execute_result",
          "data": {
            "text/plain": [
              "<keras.callbacks.History at 0x7fd33f771290>"
            ]
          },
          "metadata": {},
          "execution_count": 149
        }
      ]
    },
    {
      "cell_type": "markdown",
      "metadata": {
        "id": "xl6048H3G302"
      },
      "source": [
        "# **Predection**"
      ]
    },
    {
      "cell_type": "code",
      "metadata": {
        "id": "2lvbuN3fdLw6"
      },
      "source": [
        "train_predict=model4.predict(X_train)\n",
        "test_predict=model4.predict(X_test)\n",
        "##Transformback to original form\n",
        "train_predict=scaler.inverse_transform(train_predict)\n",
        "test_predict=scaler.inverse_transform(test_predict)"
      ],
      "execution_count": null,
      "outputs": []
    },
    {
      "cell_type": "markdown",
      "metadata": {
        "id": "Kj3512Gz4YUM"
      },
      "source": [
        "# **Performence Matrix**"
      ]
    },
    {
      "cell_type": "markdown",
      "metadata": {
        "id": "SCEpXkPq4byM"
      },
      "source": [
        "## **MSE**"
      ]
    },
    {
      "cell_type": "code",
      "metadata": {
        "colab": {
          "base_uri": "https://localhost:8080/"
        },
        "id": "IzyLtBO638GF",
        "outputId": "0305f514-da9a-486b-ff75-cfb2f2a88f44"
      },
      "source": [
        "mean_squared_error(y_train,train_predict)"
      ],
      "execution_count": null,
      "outputs": [
        {
          "output_type": "execute_result",
          "data": {
            "text/plain": [
              "3096824.0809040074"
            ]
          },
          "metadata": {},
          "execution_count": 151
        }
      ]
    },
    {
      "cell_type": "code",
      "metadata": {
        "colab": {
          "base_uri": "https://localhost:8080/"
        },
        "id": "0ebm59eF378Q",
        "outputId": "8af96e2c-1ae6-41c6-8033-4c0ba2779419"
      },
      "source": [
        "### Test Data RMSE\n",
        "mean_squared_error(ytest,test_predict)"
      ],
      "execution_count": null,
      "outputs": [
        {
          "output_type": "execute_result",
          "data": {
            "text/plain": [
              "1761885.152869179"
            ]
          },
          "metadata": {},
          "execution_count": 152
        }
      ]
    },
    {
      "cell_type": "markdown",
      "metadata": {
        "id": "2Xjqs7Za4fBD"
      },
      "source": [
        "## **RMSE**"
      ]
    },
    {
      "cell_type": "code",
      "metadata": {
        "colab": {
          "base_uri": "https://localhost:8080/"
        },
        "id": "rGBK0vu5fqXi",
        "outputId": "3d59c887-928a-4ab9-bea7-0ac8d516bc75"
      },
      "source": [
        "### Calculate RMSE performance metrics\n",
        "math.sqrt(mean_squared_error(y_train,train_predict))"
      ],
      "execution_count": null,
      "outputs": [
        {
          "output_type": "execute_result",
          "data": {
            "text/plain": [
              "1759.7795546329112"
            ]
          },
          "metadata": {},
          "execution_count": 153
        }
      ]
    },
    {
      "cell_type": "code",
      "metadata": {
        "colab": {
          "base_uri": "https://localhost:8080/"
        },
        "id": "ipbZYmxcfqU5",
        "outputId": "4fb015c9-9beb-4323-f62f-eca102deba34"
      },
      "source": [
        "### Test Data RMSE\n",
        "math.sqrt(mean_squared_error(ytest,test_predict))"
      ],
      "execution_count": null,
      "outputs": [
        {
          "output_type": "execute_result",
          "data": {
            "text/plain": [
              "1327.3602197102257"
            ]
          },
          "metadata": {},
          "execution_count": 154
        }
      ]
    },
    {
      "cell_type": "markdown",
      "metadata": {
        "id": "YYWcWZyh4kD0"
      },
      "source": [
        "## **MAE**"
      ]
    },
    {
      "cell_type": "code",
      "metadata": {
        "colab": {
          "base_uri": "https://localhost:8080/"
        },
        "id": "jl4JZ2zj4oBr",
        "outputId": "aab43959-9d89-4106-ae29-2150e9756b2f"
      },
      "source": [
        "mean_absolute_error(y_train,train_predict)"
      ],
      "execution_count": null,
      "outputs": [
        {
          "output_type": "execute_result",
          "data": {
            "text/plain": [
              "1455.5232322363306"
            ]
          },
          "metadata": {},
          "execution_count": 155
        }
      ]
    },
    {
      "cell_type": "code",
      "metadata": {
        "colab": {
          "base_uri": "https://localhost:8080/"
        },
        "id": "_9QNIYhI4ocG",
        "outputId": "ce3a62a2-5812-4869-888c-66bf76abedf1"
      },
      "source": [
        "### Test Data MAE\n",
        "mean_absolute_error(ytest,test_predict)"
      ],
      "execution_count": null,
      "outputs": [
        {
          "output_type": "execute_result",
          "data": {
            "text/plain": [
              "1181.650851297553"
            ]
          },
          "metadata": {},
          "execution_count": 156
        }
      ]
    },
    {
      "cell_type": "code",
      "metadata": {
        "colab": {
          "base_uri": "https://localhost:8080/",
          "height": 265
        },
        "id": "Y9iNr1dkfqCx",
        "outputId": "928f529b-6742-4198-c85a-b48f94835484"
      },
      "source": [
        "### Plotting \n",
        "# shift train predictions for plotting\n",
        "look_back=10\n",
        "trainPredictPlot = numpy.empty_like(df1)\n",
        "trainPredictPlot[:, :] = np.nan\n",
        "trainPredictPlot[look_back:len(train_predict)+look_back, :] = train_predict\n",
        "# shift test predictions for plotting\n",
        "testPredictPlot = numpy.empty_like(df1)\n",
        "testPredictPlot[:, :] = numpy.nan\n",
        "testPredictPlot[len(train_predict)+(look_back*2)+1:len(df1)-1, :] = test_predict\n",
        "# plot baseline and predictions\n",
        "plt.plot(scaler.inverse_transform(df1))\n",
        "plt.plot(trainPredictPlot)\n",
        "plt.plot(testPredictPlot)\n",
        "plt.show()"
      ],
      "execution_count": null,
      "outputs": [
        {
          "output_type": "display_data",
          "data": {
            "image/png": "[encoded data removed]",
            "text/plain": [
              "<Figure size 432x288 with 1 Axes>"
            ]
          },
          "metadata": {
            "needs_background": "light"
          }
        }
      ]
    },
    {
      "cell_type": "code",
      "metadata": {
        "colab": {
          "base_uri": "https://localhost:8080/"
        },
        "id": "r1zmGD6Afp_V",
        "outputId": "262f6db1-c0c5-4573-8ad2-150c764cdd19"
      },
      "source": [
        "x_input=test_data[137:].reshape(1,-1)\n",
        "x_input.shape"
      ],
      "execution_count": null,
      "outputs": [
        {
          "output_type": "execute_result",
          "data": {
            "text/plain": [
              "(1, 10)"
            ]
          },
          "metadata": {},
          "execution_count": 160
        }
      ]
    },
    {
      "cell_type": "code",
      "metadata": {
        "id": "Gi0vCQq4fp7Y"
      },
      "source": [
        "temp_input=list(x_input)\n",
        "temp_input=temp_input[0].tolist()"
      ],
      "execution_count": null,
      "outputs": []
    },
    {
      "cell_type": "code",
      "metadata": {
        "colab": {
          "base_uri": "https://localhost:8080/"
        },
        "id": "Nom3OeowZErg",
        "outputId": "58988d9a-cb50-4d2c-a7ea-142f0fb01b18"
      },
      "source": [
        "temp_input"
      ],
      "execution_count": null,
      "outputs": [
        {
          "output_type": "execute_result",
          "data": {
            "text/plain": [
              "[0.2263922518159806,\n",
              " 0.2935835351089588,\n",
              " 0.2512106537530266,\n",
              " 0.14487489911218723,\n",
              " 0.36037126715092815,\n",
              " 0.06719128329297822,\n",
              " 0.0014124293785310743,\n",
              " 0.21125907990314768,\n",
              " 0.2939870863599677,\n",
              " 0.3230427764326069]"
            ]
          },
          "metadata": {},
          "execution_count": 162
        }
      ]
    },
    {
      "cell_type": "code",
      "metadata": {
        "colab": {
          "base_uri": "https://localhost:8080/"
        },
        "id": "Ia9z--hkfp3o",
        "outputId": "67e2c4b2-746d-42ef-9ecb-c6b9c98c2e2a"
      },
      "source": [
        "# demonstrate prediction for next 10 days\n",
        "from numpy import array\n",
        "\n",
        "lst_output=[]\n",
        "n_steps=10\n",
        "i=0\n",
        "while(i<30):\n",
        "    \n",
        "    if(len(temp_input)>10):\n",
        "        #print(temp_input)\n",
        "        x_input=np.array(temp_input[1:])\n",
        "        print(\"{} day input {}\".format(i,x_input))\n",
        "        x_input=x_input.reshape(1,-1)\n",
        "        x_input = x_input.reshape((1,1, n_steps, 1))\n",
        "        #print(x_input)\n",
        "        yhat = model4.predict(x_input, verbose=0)\n",
        "        print(\"{} day output {}\".format(i,yhat))\n",
        "        temp_input.extend(yhat[0].tolist())\n",
        "        temp_input=temp_input[1:]\n",
        "        #print(temp_input)\n",
        "        lst_output.extend(yhat.tolist())\n",
        "        i=i+1\n",
        "    else:\n",
        "        x_input = x_input.reshape((1,1, n_steps,1))\n",
        "        yhat = model4.predict(x_input, verbose=0)\n",
        "        print(yhat[0])\n",
        "        temp_input.extend(yhat[0].tolist())\n",
        "        print(len(temp_input))\n",
        "        lst_output.extend(yhat.tolist())\n",
        "        i=i+1\n",
        "    \n",
        "\n",
        "print(lst_output)"
      ],
      "execution_count": null,
      "outputs": [
        {
          "output_type": "stream",
          "name": "stdout",
          "text": [
            "[0.28653428]\n",
            "11\n",
            "1 day input [0.29358354 0.25121065 0.1448749  0.36037127 0.06719128 0.00141243\n",
            " 0.21125908 0.29398709 0.32304278 0.28653428]\n",
            "1 day output [[0.23447976]]\n",
            "2 day input [0.25121065 0.1448749  0.36037127 0.06719128 0.00141243 0.21125908\n",
            " 0.29398709 0.32304278 0.28653428 0.23447976]\n",
            "2 day output [[0.2675992]]\n",
            "3 day input [0.1448749  0.36037127 0.06719128 0.00141243 0.21125908 0.29398709\n",
            " 0.32304278 0.28653428 0.23447976 0.2675992 ]\n",
            "3 day output [[0.15878749]]\n",
            "4 day input [0.36037127 0.06719128 0.00141243 0.21125908 0.29398709 0.32304278\n",
            " 0.28653428 0.23447976 0.2675992  0.15878749]\n",
            "4 day output [[0.22072393]]\n",
            "5 day input [0.06719128 0.00141243 0.21125908 0.29398709 0.32304278 0.28653428\n",
            " 0.23447976 0.2675992  0.15878749 0.22072393]\n",
            "5 day output [[0.2776075]]\n",
            "6 day input [0.00141243 0.21125908 0.29398709 0.32304278 0.28653428 0.23447976\n",
            " 0.2675992  0.15878749 0.22072393 0.2776075 ]\n",
            "6 day output [[0.28163454]]\n",
            "7 day input [0.21125908 0.29398709 0.32304278 0.28653428 0.23447976 0.2675992\n",
            " 0.15878749 0.22072393 0.2776075  0.28163454]\n",
            "7 day output [[0.2658068]]\n",
            "8 day input [0.29398709 0.32304278 0.28653428 0.23447976 0.2675992  0.15878749\n",
            " 0.22072393 0.2776075  0.28163454 0.26580679]\n",
            "8 day output [[0.24489056]]\n",
            "9 day input [0.32304278 0.28653428 0.23447976 0.2675992  0.15878749 0.22072393\n",
            " 0.2776075  0.28163454 0.26580679 0.24489056]\n",
            "9 day output [[0.21681917]]\n",
            "10 day input [0.28653428 0.23447976 0.2675992  0.15878749 0.22072393 0.2776075\n",
            " 0.28163454 0.26580679 0.24489056 0.21681917]\n",
            "10 day output [[0.23072864]]\n",
            "11 day input [0.23447976 0.2675992  0.15878749 0.22072393 0.2776075  0.28163454\n",
            " 0.26580679 0.24489056 0.21681917 0.23072864]\n",
            "11 day output [[0.21267794]]\n",
            "12 day input [0.2675992  0.15878749 0.22072393 0.2776075  0.28163454 0.26580679\n",
            " 0.24489056 0.21681917 0.23072864 0.21267794]\n",
            "12 day output [[0.23403257]]\n",
            "13 day input [0.15878749 0.22072393 0.2776075  0.28163454 0.26580679 0.24489056\n",
            " 0.21681917 0.23072864 0.21267794 0.23403257]\n",
            "13 day output [[0.24011049]]\n",
            "14 day input [0.22072393 0.2776075  0.28163454 0.26580679 0.24489056 0.21681917\n",
            " 0.23072864 0.21267794 0.23403257 0.24011049]\n",
            "14 day output [[0.22757801]]\n",
            "15 day input [0.2776075  0.28163454 0.26580679 0.24489056 0.21681917 0.23072864\n",
            " 0.21267794 0.23403257 0.24011049 0.22757801]\n",
            "15 day output [[0.21688583]]\n",
            "16 day input [0.28163454 0.26580679 0.24489056 0.21681917 0.23072864 0.21267794\n",
            " 0.23403257 0.24011049 0.22757801 0.21688583]\n",
            "16 day output [[0.20371239]]\n",
            "17 day input [0.26580679 0.24489056 0.21681917 0.23072864 0.21267794 0.23403257\n",
            " 0.24011049 0.22757801 0.21688583 0.20371239]\n",
            "17 day output [[0.19752388]]\n",
            "18 day input [0.24489056 0.21681917 0.23072864 0.21267794 0.23403257 0.24011049\n",
            " 0.22757801 0.21688583 0.20371239 0.19752388]\n",
            "18 day output [[0.19730285]]\n",
            "19 day input [0.21681917 0.23072864 0.21267794 0.23403257 0.24011049 0.22757801\n",
            " 0.21688583 0.20371239 0.19752388 0.19730285]\n",
            "19 day output [[0.19826132]]\n",
            "20 day input [0.23072864 0.21267794 0.23403257 0.24011049 0.22757801 0.21688583\n",
            " 0.20371239 0.19752388 0.19730285 0.19826132]\n",
            "20 day output [[0.1973749]]\n",
            "21 day input [0.21267794 0.23403257 0.24011049 0.22757801 0.21688583 0.20371239\n",
            " 0.19752388 0.19730285 0.19826132 0.1973749 ]\n",
            "21 day output [[0.19387993]]\n",
            "22 day input [0.23403257 0.24011049 0.22757801 0.21688583 0.20371239 0.19752388\n",
            " 0.19730285 0.19826132 0.1973749  0.19387993]\n",
            "22 day output [[0.18429665]]\n",
            "23 day input [0.24011049 0.22757801 0.21688583 0.20371239 0.19752388 0.19730285\n",
            " 0.19826132 0.1973749  0.19387993 0.18429665]\n",
            "23 day output [[0.17724319]]\n",
            "24 day input [0.22757801 0.21688583 0.20371239 0.19752388 0.19730285 0.19826132\n",
            " 0.1973749  0.19387993 0.18429665 0.17724319]\n",
            "24 day output [[0.1706303]]\n",
            "25 day input [0.21688583 0.20371239 0.19752388 0.19730285 0.19826132 0.1973749\n",
            " 0.19387993 0.18429665 0.17724319 0.17063031]\n",
            "25 day output [[0.16709769]]\n",
            "26 day input [0.20371239 0.19752388 0.19730285 0.19826132 0.1973749  0.19387993\n",
            " 0.18429665 0.17724319 0.17063031 0.16709769]\n",
            "26 day output [[0.16633001]]\n",
            "27 day input [0.19752388 0.19730285 0.19826132 0.1973749  0.19387993 0.18429665\n",
            " 0.17724319 0.17063031 0.16709769 0.16633001]\n",
            "27 day output [[0.16478358]]\n",
            "28 day input [0.19730285 0.19826132 0.1973749  0.19387993 0.18429665 0.17724319\n",
            " 0.17063031 0.16709769 0.16633001 0.16478358]\n",
            "28 day output [[0.1613462]]\n",
            "29 day input [0.19826132 0.1973749  0.19387993 0.18429665 0.17724319 0.17063031\n",
            " 0.16709769 0.16633001 0.16478358 0.1613462 ]\n",
            "29 day output [[0.15747719]]\n",
            "[[0.28653427958488464], [0.23447975516319275], [0.2675991952419281], [0.15878748893737793], [0.2207239270210266], [0.2776075005531311], [0.28163453936576843], [0.26580679416656494], [0.24489055573940277], [0.216819167137146], [0.2307286411523819], [0.2126779407262802], [0.23403257131576538], [0.24011048674583435], [0.22757801413536072], [0.21688583493232727], [0.20371238887310028], [0.19752387702465057], [0.19730284810066223], [0.1982613205909729], [0.19737489521503448], [0.19387993216514587], [0.184296652674675], [0.1772431880235672], [0.1706303060054779], [0.16709768772125244], [0.1663300096988678], [0.16478358209133148], [0.1613461971282959], [0.15747718513011932]]\n"
          ]
        }
      ]
    },
    {
      "cell_type": "code",
      "metadata": {
        "id": "9lFrh9vQQUbV"
      },
      "source": [
        "day_new=np.arange(1,101)\n",
        "day_pred=np.arange(101,131)   "
      ],
      "execution_count": null,
      "outputs": []
    },
    {
      "cell_type": "code",
      "metadata": {
        "colab": {
          "base_uri": "https://localhost:8080/",
          "height": 282
        },
        "id": "RKi_GHpNRMO7",
        "outputId": "23e92af5-042e-48b5-9d1d-4d16b10cf83b"
      },
      "source": [
        "plt.plot(day_new,scaler.inverse_transform(df1[319:]))\n",
        "plt.plot(day_pred,scaler.inverse_transform(lst_output))"
      ],
      "execution_count": null,
      "outputs": [
        {
          "output_type": "execute_result",
          "data": {
            "text/plain": [
              "[<matplotlib.lines.Line2D at 0x7fd33e91f410>]"
            ]
          },
          "metadata": {},
          "execution_count": 166
        },
        {
          "output_type": "display_data",
          "data": {
            "image/png": "[encoded data removed]",
            "text/plain": [
              "<Figure size 432x288 with 1 Axes>"
            ]
          },
          "metadata": {
            "needs_background": "light"
          }
        }
      ]
    },
    {
      "cell_type": "code",
      "metadata": {
        "colab": {
          "base_uri": "https://localhost:8080/",
          "height": 282
        },
        "id": "IotdNVWKRUJf",
        "outputId": "c102eadf-c00e-4ac5-8736-d90b6a8b208d"
      },
      "source": [
        "df3=df1.tolist()\n",
        "df3.extend(lst_output)\n",
        "plt.plot(df3[310:])"
      ],
      "execution_count": null,
      "outputs": [
        {
          "output_type": "execute_result",
          "data": {
            "text/plain": [
              "[<matplotlib.lines.Line2D at 0x7fd33e97bc50>]"
            ]
          },
          "metadata": {},
          "execution_count": 167
        },
        {
          "output_type": "display_data",
          "data": {
            "image/png": "[encoded data removed]",
            "text/plain": [
              "<Figure size 432x288 with 1 Axes>"
            ]
          },
          "metadata": {
            "needs_background": "light"
          }
        }
      ]
    },
    {
      "cell_type": "code",
      "metadata": {
        "colab": {
          "base_uri": "https://localhost:8080/",
          "height": 282
        },
        "id": "oEAujjl_RbtL",
        "outputId": "4b68d566-1622-4327-f054-1c6fe95f401a"
      },
      "source": [
        "df3=scaler.inverse_transform(df3).tolist()\n",
        "plt.plot(df3)"
      ],
      "execution_count": null,
      "outputs": [
        {
          "output_type": "execute_result",
          "data": {
            "text/plain": [
              "[<matplotlib.lines.Line2D at 0x7fd33e9a2150>]"
            ]
          },
          "metadata": {},
          "execution_count": 168
        },
        {
          "output_type": "display_data",
          "data": {
            "image/png": "[encoded data removed]",
            "text/plain": [
              "<Figure size 432x288 with 1 Axes>"
            ]
          },
          "metadata": {
            "needs_background": "light"
          }
        }
      ]
    },
    {
      "cell_type": "code",
      "metadata": {
        "id": "9BTqNWDtRibX"
      },
      "source": [],
      "execution_count": null,
      "outputs": []
    }
  ]
}